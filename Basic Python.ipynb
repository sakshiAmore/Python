{
 "cells": [
  {
   "cell_type": "markdown",
   "id": "c445b23c",
   "metadata": {},
   "source": [
    "# Basic Python\n",
    "\n",
    "\n",
    "Variable = It is a reserved memory location to store values. In other words, a variable in a python program gives data to the computer for processing.\n",
    "\n",
    "=> It is a unit to store a single data store one value.\n",
    "\n",
    "Data types = It define the type of data \n",
    "\n",
    "There are different types of data types in python:\n",
    "-> Integer\n",
    "-> Float\n",
    "-> String"
   ]
  },
  {
   "cell_type": "code",
   "execution_count": 2,
   "id": "dcf7a918",
   "metadata": {},
   "outputs": [
    {
     "name": "stdout",
     "output_type": "stream",
     "text": [
      "Sam 1 Sushmita di 14 3.35\n"
     ]
    }
   ],
   "source": [
    "# Defining a Variable\n",
    "\n",
    "a = 'Sam'     #String\n",
    "b = 1         #Integer\n",
    "c = 'Sushmita di'   \n",
    "d = 14\n",
    "e = 3.35      #Float\n",
    "print (a,b,c,d,e)"
   ]
  },
  {
   "cell_type": "code",
   "execution_count": 7,
   "id": "8844d2ca",
   "metadata": {},
   "outputs": [
    {
     "data": {
      "text/plain": [
       "float"
      ]
     },
     "execution_count": 7,
     "metadata": {},
     "output_type": "execute_result"
    }
   ],
   "source": [
    "# Type function () is use to define the data type and data structure type of the variable\n",
    "type (a)\n",
    "type (e)\n"
   ]
  },
  {
   "cell_type": "markdown",
   "id": "1c682240",
   "metadata": {},
   "source": [
    "Operators  = All symbol which involves any operators.\n",
    "\n",
    "->   Arithmatic Operator = '+ , - , * , / , % , //'  used with numeric values to perform common mathematical operation.   \n",
    " \n",
    " Operator       Name       Example\n",
    " \n",
    " 1. '+'       Addition      x + y\n",
    " 2. '-'      Substraction   x - y\n",
    " 3. '*'     Multiplication   x*y\n",
    " 4. '/'       Division       x/y\n",
    " 5. '%'       Modulus        x%y\n",
    " 6. '**'    Exponentiation   x**y\n",
    " 7. '//'    Floor division   x//y\n",
    " \n",
    " \n",
    " ->  Comparion Operator = '= , > , < , >= , <= , != , ==' used to compare two values.\n",
    " \n",
    "  Operator          Name             Example\n",
    "  \n",
    " 1. '=='            Equal            x == y\n",
    " 2. '!='           Not Equal         x != y\n",
    " 3. '>'          Greater than        x > y\n",
    " 4. '<'            less than         x < y\n",
    " 5. '>='  Greater than or equal to   x >= y\n",
    " 6. '<='  Less than or equal to      x <= y\n",
    " \n",
    " \n",
    " ->  Assignment Operator = '= , += , -= , *= , /= , %= , //= , &= , |= , ^= , >>= , <<= , **='  used to assign values to variables\n",
    " \n",
    "  Operator        Example          Same As\n",
    "  \n",
    " 1. '='           x = a            x = a\n",
    " 2. '+='          x += b           x = x + b \n",
    " 3. '-='          x -= b           x = x - b\n",
    " 4. '*='          x *= b           x = x * b\n",
    " 5. '/='          x /= b           x = x / b\n",
    " 6. '%='          x %= b           x = x % b\n",
    " 7. '//='         x //= b          x = x // b\n",
    " 8. '**='         x **= b          x = x ** b\n",
    " 9. '&='          x &= b           x = x & b\n",
    " 10. '|='         x |= b           x = x | b\n",
    " 11. '^='         x ^= b           x = x ^ b\n",
    " 12. '>>='        x >>= b          x = x >> b\n",
    " 13. '<<='        x <<= b          x = x << 3\n",
    " \n",
    " \n",
    " -> Logical Operator = ' and , or , not ' used to combine conditional statements.\n",
    " \n",
    "  Operator        Description             Example\n",
    " \n",
    " 1. and      Returns True if both       x < 5 and x < 10\n",
    "             statements are true\n",
    "             \n",
    " 2. or       Returns True if one of     x < 5 or x < 4\n",
    "             the statements is true\n",
    "             \n",
    " 3. not      Reverse the result,        not( x < 5 and x < 10 )\n",
    "             return False if the result \n",
    "             is true\n",
    "             \n",
    "             \n",
    " ->  Bitwise Operator = ' & , | , ^ , ~ , << , >> ' used to compare number (binary).\n",
    " \n",
    "  Operator          Name                  Description\n",
    " \n",
    " 1. '&'             AND         Sets each bit to 1 if both bits                                               are 1  \n",
    " \n",
    " 2. '|'             OR          Sets each bit to 1 if one of two                                            bits is 1\n",
    " \n",
    " 3. '^'             XOR         Sets each bit to 1 if only one of                                           two bits is 1\n",
    " \n",
    " 4. '~'             NOT         Inverts all the bits\n",
    " \n",
    " 5. '<<'       Zero fill left   Shift left by pushing zeros in\n",
    "                   shift         from the right and let the                                            leftmost bits fall off\n",
    "                   \n",
    " 6. '>>'       Signed right      Shift right by pushing copies of \n",
    "                    shift        the leftmost bit in from the                                      left, and let the rightmost bits                                             fall off                                                     bits\n",
    "                   "
   ]
  },
  {
   "cell_type": "markdown",
   "id": "ace1f442",
   "metadata": {},
   "source": [
    "Data Structure = A data structure is a collection of Data or multiple Data of different or same data type.\n",
    "  \n",
    "  \n",
    " Different type of Data Structure are\n",
    " -> List\n",
    " -> Tuple\n",
    " -> Dictionary\n",
    " -> Sets\n",
    " -> Strings\n",
    " -> Array"
   ]
  }
 ],
 "metadata": {
  "kernelspec": {
   "display_name": "Python 3",
   "language": "python",
   "name": "python3"
  },
  "language_info": {
   "codemirror_mode": {
    "name": "ipython",
    "version": 3
   },
   "file_extension": ".py",
   "mimetype": "text/x-python",
   "name": "python",
   "nbconvert_exporter": "python",
   "pygments_lexer": "ipython3",
   "version": "3.8.8"
  }
 },
 "nbformat": 4,
 "nbformat_minor": 5
}
