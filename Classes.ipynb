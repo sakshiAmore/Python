{
 "cells": [
  {
   "cell_type": "markdown",
   "id": "c2e5780a",
   "metadata": {},
   "source": [
    "m# Classes"
   ]
  },
  {
   "cell_type": "markdown",
   "id": "76c53b2f",
   "metadata": {},
   "source": [
    "Classes = A class is a user define blueprint from which class and objects are created. Classes provides names of buddling or incapculating data and functionality together.\n",
    "Creating a new class creates a new types of object ,allowing new instance of that type to be made.Each class instance can have autributes attacted to it to maintaining its state."
   ]
  },
  {
   "cell_type": "code",
   "execution_count": 1,
   "id": "9f853436",
   "metadata": {},
   "outputs": [
    {
     "name": "stdout",
     "output_type": "stream",
     "text": [
      "mammal\n",
      "dog\n",
      "I'm a mammal\n",
      "I'm a dog\n"
     ]
    }
   ],
   "source": [
    "class Dog: \n",
    "\n",
    "     \n",
    "\n",
    "    # A simple class\n",
    "\n",
    "    # attribute\n",
    "\n",
    "    attr1 = \"mammal\"\n",
    "\n",
    "    attr2 = \"dog\"\n",
    " \n",
    "\n",
    "    # A sample method  \n",
    "\n",
    "    def fun(self): \n",
    "\n",
    "        print(\"I'm a\", self.attr1)\n",
    "\n",
    "        print(\"I'm a\", self.attr2)\n",
    " \n",
    "# Driver code\n",
    "# Object instantiation\n",
    "\n",
    "Rodger = Dog()\n",
    " \n",
    "# Accessing class attributes\n",
    "# and method through objects\n",
    "\n",
    "print(Rodger.attr1)\n",
    "print(Rodger.attr2)\n",
    "Rodger.fun()\n"
   ]
  },
  {
   "cell_type": "markdown",
   "id": "dd02d7c7",
   "metadata": {},
   "source": [
    "Accessing the autributes and function of a class"
   ]
  },
  {
   "cell_type": "code",
   "execution_count": 9,
   "id": "ee059885",
   "metadata": {},
   "outputs": [
    {
     "name": "stdout",
     "output_type": "stream",
     "text": [
      "10\n",
      "Hello\n"
     ]
    }
   ],
   "source": [
    "class Person:\n",
    "    age = 10                #autribute of a class\n",
    "    def greet(self):        #function is behaviour of the class\n",
    "        print('Hello')\n",
    "self = Person()        \n",
    "print(self.age)    \n",
    "self.greet()\n"
   ]
  },
  {
   "cell_type": "code",
   "execution_count": 7,
   "id": "517bad2f",
   "metadata": {},
   "outputs": [
    {
     "name": "stdout",
     "output_type": "stream",
     "text": [
      "10\n",
      "Hello\n",
      "None\n"
     ]
    }
   ],
   "source": [
    "class Person:\n",
    "    age = 10                #autribute of a class\n",
    "    def greet(self):        #function is behaviour of the class\n",
    "        print('Hello')\n",
    "Harry = Person()        \n",
    "print(Person.age)    \n",
    "print(Harry.greet())"
   ]
  },
  {
   "cell_type": "code",
   "execution_count": 17,
   "id": "049d4099",
   "metadata": {},
   "outputs": [],
   "source": [
    "class Vehicle:\n",
    "    color = 'Black'\n",
    "    company = 'Lamborgini'\n",
    "    year = 2020\n",
    "    car = 'Urus'"
   ]
  },
  {
   "cell_type": "code",
   "execution_count": 18,
   "id": "97255683",
   "metadata": {},
   "outputs": [
    {
     "name": "stdout",
     "output_type": "stream",
     "text": [
      "Black\n",
      "Lamborgini\n",
      "2020\n",
      "Urus\n"
     ]
    }
   ],
   "source": [
    "v = Vehicle()\n",
    "print(v.color)\n",
    "print(v.company)\n",
    "print(v.year)\n",
    "print(v.car)"
   ]
  },
  {
   "cell_type": "code",
   "execution_count": null,
   "id": "a5617fe1",
   "metadata": {},
   "outputs": [],
   "source": []
  },
  {
   "cell_type": "code",
   "execution_count": 5,
   "id": "ad84deeb",
   "metadata": {},
   "outputs": [],
   "source": [
    "class Person:\n",
    "    college = 'Place to learn '\n",
    "    \n",
    "    def set_name(self,new_name):\n",
    "        self.name = new_name\n",
    "    def set_id (self,new_id):\n",
    "        self.id = new_id\n",
    "    def set_college(self,new_college):\n",
    "        self.college = new_college\n",
    "    def set_location(self,new_location):\n",
    "        self.location = new_location"
   ]
  },
  {
   "cell_type": "code",
   "execution_count": 8,
   "id": "4571fe62",
   "metadata": {},
   "outputs": [
    {
     "name": "stdout",
     "output_type": "stream",
     "text": [
      "Sakshis id no. is 6214 and she/he is studing in Bharati Vidyapeet , Kharghar\n",
      "Sushmitas id no. is 5211 and she/he is studing in DY Patil , Nehrul\n",
      "samadhans id no. is 1121 and she/he is studing in Shanti niketan , Panvel\n"
     ]
    }
   ],
   "source": [
    "person=Person()\n",
    "person1=Person()\n",
    "person2=Person()\n",
    "sakshi=Person()\n",
    "sushmita=Person()\n",
    "samadhan=Person()\n",
    "sakshi.set_name=('Sakshi')\n",
    "sakshi.set_id=(6214)\n",
    "sakshi.set_college=('Bharati Vidyapeet')\n",
    "sakshi.set_location=('Kharghar')\n",
    "sushmita.set_name=('Sushmita')\n",
    "sushmita.set_id=(5211)\n",
    "sushmita.set_college=('DY Patil')\n",
    "sushmita.set_location=('Nehrul')\n",
    "samadhan.set_name=('samadhan')\n",
    "samadhan.set_id=(1121)\n",
    "samadhan.set_college=('Shanti niketan')\n",
    "samadhan.set_location=('Panvel')\n",
    "print('{}s id no. is {} and she/he is studing in {} , {}'.format (sakshi.set_name,sakshi.set_id,sakshi.set_college,sakshi.set_location))\n",
    "print('{}s id no. is {} and she/he is studing in {} , {}'.format (sushmita.set_name,sushmita.set_id,sushmita.set_college ,sushmita.set_location ))\n",
    "print('{}s id no. is {} and she/he is studing in {} , {}'.format (samadhan.set_name,samadhan.set_id,samadhan.set_college,samadhan.set_location ))"
   ]
  },
  {
   "cell_type": "code",
   "execution_count": 4,
   "id": "4e6351af",
   "metadata": {},
   "outputs": [
    {
     "ename": "SyntaxError",
     "evalue": "invalid syntax (<ipython-input-4-141b2b198375>, line 10)",
     "output_type": "error",
     "traceback": [
      "\u001b[1;36m  File \u001b[1;32m\"<ipython-input-4-141b2b198375>\"\u001b[1;36m, line \u001b[1;32m10\u001b[0m\n\u001b[1;33m    return perimeter=2(self.side + self.side1)\u001b[0m\n\u001b[1;37m                    ^\u001b[0m\n\u001b[1;31mSyntaxError\u001b[0m\u001b[1;31m:\u001b[0m invalid syntax\n"
     ]
    }
   ],
   "source": [
    "class Shapes:\n",
    "    def __init__ (self,side,height,base,side1,radius):\n",
    "        self.side=side\n",
    "        self.height=height\n",
    "        self.base=base\n",
    "        self.side1=side1\n",
    "        side.radius=radius\n",
    "    def Rectangle(self):\n",
    "        return self.side*self.side1\n",
    "        return perimeter=2(self.side + self.side1)\n",
    "    def Square(self):\n",
    "        return area=self.side**2\n",
    "        return perimeter=4*self.side\n",
    "    def Circle(self):\n",
    "        return area= 3.14*self.radius*self.radius\n",
    "        return perimeter=2*3.14*self.radius\n",
    "    def Triangle(self):\n",
    "        return area = (self.height * self.base)*0.5\n",
    "        return perimeter= self.side + self.base + self.height"
   ]
  },
  {
   "cell_type": "code",
   "execution_count": 24,
   "id": "5c7c6470",
   "metadata": {},
   "outputs": [
    {
     "ename": "SyntaxError",
     "evalue": "invalid syntax (<ipython-input-24-6fe1ea2da6c5>, line 10)",
     "output_type": "error",
     "traceback": [
      "\u001b[1;36m  File \u001b[1;32m\"<ipython-input-24-6fe1ea2da6c5>\"\u001b[1;36m, line \u001b[1;32m10\u001b[0m\n\u001b[1;33m    while != 1:\u001b[0m\n\u001b[1;37m          ^\u001b[0m\n\u001b[1;31mSyntaxError\u001b[0m\u001b[1;31m:\u001b[0m invalid syntax\n"
     ]
    }
   ],
   "source": [
    "print('Choose one from this:')\n",
    "print('1.Rectangle')\n",
    "print('2.Square')\n",
    "print('3.Circle')\n",
    "print('4.Triangle')\n",
    "\n",
    "choice = input('Choose from 1,2,3,4 :')\n",
    "choice = 1\n",
    "obj=Shapes\n",
    "while != 1:\n",
    "    if choice == '1':\n",
    "        side=int(input('Enter your element:'))\n",
    "        side1=int(input('Enter your element:'))\n",
    "        print(obj.Rectangle(side,side1))\n",
    "    elif choice == '2':\n",
    "        side=int(input('Enter your element:'))\n",
    "        print(obj.Square(side))   \n",
    "    elif choice == '3':\n",
    "        radius=int(input('Enter your element:'))\n",
    "        print(objCircle(radius))\n",
    "    elif choice == '4':\n",
    "        side=int(input('Enter your element:'))\n",
    "        height=int(input('Enter your element:'))\n",
    "        base=int(input('Enter your element:'))\n",
    "        print(obj.Triangle(side,height,base))\n",
    "    else:\n",
    "        print('I am sorry, the shape is not available')\n",
    "\n"
   ]
  },
  {
   "cell_type": "markdown",
   "id": "d2dd6c5e",
   "metadata": {},
   "source": [
    "# Create a circle class and initialise it with radius and form by two function method to get area and get circumference "
   ]
  },
  {
   "cell_type": "code",
   "execution_count": 46,
   "id": "42e27953",
   "metadata": {},
   "outputs": [
    {
     "name": "stdout",
     "output_type": "stream",
     "text": [
      "50.24\n",
      "25.12\n"
     ]
    }
   ],
   "source": [
    "class Circle():\n",
    "    def __init__ (self,r):\n",
    "        self.radius = r\n",
    "    def getArea(self):\n",
    "        return 3.14*self.radius*self.radius\n",
    "    def getCircumference(self):    \n",
    "        return 2*3.14*self.radius  \n",
    "NewCircle = Circle(4)\n",
    "print(NewCircle.getArea ())\n",
    "print(NewCircle.getCircumference())  "
   ]
  },
  {
   "cell_type": "code",
   "execution_count": 26,
   "id": "0d5629e1",
   "metadata": {},
   "outputs": [
    {
     "name": "stdout",
     "output_type": "stream",
     "text": [
      "28.259999999999998\n",
      "18.84\n"
     ]
    }
   ],
   "source": [
    "class Circle():\n",
    "    def __init__(self,radius):\n",
    "        self.radius = radius\n",
    "    def  getArea(self):\n",
    "        return 3.14*self.radius*self.radius\n",
    "    def getCircumference(self):\n",
    "        return self.radius*2*3.14\n",
    "NewCircle = Circle(3)\n",
    "print(NewCircle.getArea())\n",
    "print(NewCircle.getCircumference())  "
   ]
  },
  {
   "cell_type": "code",
   "execution_count": 24,
   "id": "f4aa2437",
   "metadata": {},
   "outputs": [
    {
     "name": "stdout",
     "output_type": "stream",
     "text": [
      "3.0\n",
      "6\n"
     ]
    }
   ],
   "source": [
    "class Triangle():\n",
    "    def __init__ (self,side,height,base):\n",
    "        self.side = side\n",
    "        self.height = height\n",
    "        self.base = base\n",
    "    def  getArea(self):\n",
    "        return (self.height* self.base)*0.5\n",
    "    def getPerimeter(self):\n",
    "        return self.side + self.base + self.height\n",
    "NewTriangle = Triangle(1,2,3)\n",
    "print(NewTriangle.getArea())\n",
    "print(NewTriangle.getPerimeter())"
   ]
  },
  {
   "cell_type": "markdown",
   "id": "92ea8e9e",
   "metadata": {},
   "source": [
    "Create a Student class and initialize it with name and roll number. Make methods to :\n",
    "1. Display - It should display all informations of the student.\n",
    "2. setAge - It should assign age to student\n",
    "3. setMarks - It should assign marks to the student."
   ]
  },
  {
   "cell_type": "code",
   "execution_count": 17,
   "id": "b19903fe",
   "metadata": {},
   "outputs": [],
   "source": [
    "class Student:\n",
    "    def __init__(self,name,roll):\n",
    "        self.name=name\n",
    "        self.roll=roll\n",
    "    def display(self):\n",
    "        print(self.name)\n",
    "        print(self.roll)\n",
    "    def setAge(self,age):\n",
    "        self.age=age\n",
    "    def setMarks(self,marks):\n",
    "        self.marks=marks"
   ]
  },
  {
   "cell_type": "code",
   "execution_count": 18,
   "id": "6dc1c34b",
   "metadata": {},
   "outputs": [
    {
     "name": "stdout",
     "output_type": "stream",
     "text": [
      "Sam\n",
      "6214\n",
      "31\n",
      "66\n"
     ]
    }
   ],
   "source": [
    "a=Student('Sam',6214)\n",
    "a.display()\n",
    "a.setAge(31)\n",
    "a.setMarks(66)\n",
    "print(a.age)\n",
    "print(a.marks)"
   ]
  },
  {
   "cell_type": "code",
   "execution_count": 7,
   "id": "89e5d19a",
   "metadata": {},
   "outputs": [
    {
     "name": "stdout",
     "output_type": "stream",
     "text": [
      "Enter side of square: 4\n",
      "Area of square: 16\n",
      "\n"
     ]
    }
   ],
   "source": [
    "class box:\n",
    "    def __init__(self,side):\n",
    "        self.side=side\n",
    "    def area(self):\n",
    "        return self.side*self.side\n",
    "a=int(input(\"Enter side of square: \"))  \n",
    "squares=box(a) \n",
    "print(\"Area of square:\",squares.area())\n",
    "print()\n",
    "\n"
   ]
  },
  {
   "cell_type": "code",
   "execution_count": 6,
   "id": "7005ab71",
   "metadata": {},
   "outputs": [
    {
     "name": "stdout",
     "output_type": "stream",
     "text": [
      "Enter length of rectangle: 4\n",
      "Enter breadth of rectangle: 5\n",
      "Area of rectangle: 20\n",
      "\n"
     ]
    }
   ],
   "source": [
    "class rectangle():\n",
    "    def __init__(self,breadth,length):\n",
    "        self.breadth=breadth\n",
    "        self.length=length\n",
    "    def area(self):\n",
    "        return self.breadth*self.length\n",
    "a=int(input(\"Enter length of rectangle: \"))\n",
    "b=int(input(\"Enter breadth of rectangle: \"))\n",
    "obj=rectangle(a,b)\n",
    "print(\"Area of rectangle:\",obj.area())\n",
    " \n",
    "print()"
   ]
  },
  {
   "cell_type": "code",
   "execution_count": 2,
   "id": "1d302d67",
   "metadata": {},
   "outputs": [],
   "source": [
    "class calculator():\n",
    "    def __init__(self,x,y):\n",
    "        self.x = x\n",
    "        self.y = y\n",
    "    def add(self):\n",
    "        return self.x + self.y\n",
    "    def sub(self):\n",
    "        return self.x - self.y\n",
    "    def multiply(self):\n",
    "        return self.x * self.y\n",
    "    def divide(self):\n",
    "        return self.x / self.y"
   ]
  },
  {
   "cell_type": "code",
   "execution_count": 3,
   "id": "7bd503df",
   "metadata": {},
   "outputs": [
    {
     "name": "stdout",
     "output_type": "stream",
     "text": [
      "Choose one from this:\n",
      "1.Addition\n",
      "2.Substraction\n",
      "3.Multiplication\n",
      "4.Division\n",
      "Choose from 1,2,3,4 :4\n",
      "Enter your first element:12\n",
      "Enter your second element:3\n",
      "4.0\n"
     ]
    }
   ],
   "source": [
    "print('Choose one from this:')\n",
    "print('1.Addition')\n",
    "print('2.Substraction')\n",
    "print('3.Multiplication')\n",
    "print('4.Division')\n",
    "\n",
    "choice = input('Choose from 1,2,3,4 :')\n",
    "\n",
    "a=int(input('Enter your first element:'))\n",
    "b=int(input('Enter your second element:'))\n",
    "\n",
    "obj = calculator(a,b)\n",
    "\n",
    "if choice == '1':\n",
    "    print(obj.add())\n",
    "elif choice == '2':\n",
    "    print(a,'-',b,'=',obj.sub())   \n",
    "elif choice == '3':\n",
    "    print(obj.multiply())\n",
    "elif choice == '4':\n",
    "    print(obj.divide())\n",
    "else:\n",
    "    print('I am sorry, the operator is not available')\n"
   ]
  },
  {
   "cell_type": "code",
   "execution_count": null,
   "id": "5290c891",
   "metadata": {},
   "outputs": [],
   "source": [
    "class cal:\n",
    "    def __init__(self,a,b):\n",
    "        self.a = a\n",
    "        self.b = b\n",
    "    def add(self):\n",
    "        return self.a + self.b\n",
    "    def sub(self):\n",
    "        return self.a - self.b\n",
    "    def multiply(self):\n",
    "        return self.a * self.b\n",
    "    def divide(self):\n",
    "        return self.a / self.b"
   ]
  },
  {
   "cell_type": "code",
   "execution_count": null,
   "id": "5ce07715",
   "metadata": {},
   "outputs": [],
   "source": [
    "obj=cal(a,b)\n",
    "a = int(input('Enter First number : '))\n",
    "b = int(input('Enter Second number : '))        \n",
    "\n",
    "while True:\n",
    "    def menu():\n",
    "        x = ('1. Add \\n2. Sub \\n3. Multiply \\n4. Divide') \n",
    "        print(x)\n",
    "\n",
    "else:\n",
    "        print('Invalid option') \n",
    "break       \n",
    "print()"
   ]
  },
  {
   "cell_type": "markdown",
   "id": "e5e5e4db",
   "metadata": {},
   "source": [
    "class cal():\n",
    "    def __init__(self,a,b):\n",
    "        self.a = a\n",
    "        self.b = b\n",
    "    def add(self):\n",
    "        return self.a + self.b\n",
    "    def sub(self):\n",
    "        return self.a - self.b\n",
    "    def multiply(self):\n",
    "        return self.a * self.b\n",
    "    def divide(self):\n",
    "        return self.a / self.b\n",
    "a = int(input('1st element:'))\n",
    "b = int(input('2nd element:'))\n",
    "obj=cal\n",
    "print('Operators are')\n",
    "print('1 Addition')\n",
    "print('2 Substraction')\n",
    "print('3 Multiplication')\n",
    "print('4 Division')\n",
    "choice = input('Choose from (1,2,3,4):')\n",
    "if choice == 1:\n",
    "    print(obj.add(a,b))\n",
    "elif choice == 2:\n",
    "    print(obj.sub(a,b))    \n",
    "elif choice == 3:\n",
    "    print(obj.multiply(a,b))\n",
    "elif choice == 4:\n",
    "    print(obj.divide(a,b))\n",
    "else:\n",
    "    print('Sorry')"
   ]
  },
  {
   "cell_type": "code",
   "execution_count": 4,
   "id": "107a0500",
   "metadata": {},
   "outputs": [
    {
     "name": "stdout",
     "output_type": "stream",
     "text": [
      "1st element:1\n",
      "2nd element:5\n",
      "1. ADD\n",
      "2. SUB\n",
      "3. MUL\n",
      "4. DIV\n",
      "Enter your choice:3\n",
      "5\n",
      "None\n"
     ]
    }
   ],
   "source": [
    "class Calculator:\n",
    "\n",
    "    def addition(a,b):\n",
    "        print(a + b)\n",
    "\n",
    "    def subtraction(a,b):\n",
    "        print(a - b)\n",
    "\n",
    "    def multiplication(a,b):\n",
    "        print(a * b)\n",
    "\n",
    "    def division(a,b):\n",
    "        print(a / b)\n",
    "        \n",
    "x=Calculator\n",
    "choice = 1\n",
    "\n",
    "a = int(input('1st element:'))\n",
    "b = int(input('2nd element:'))\n",
    "\n",
    "\n",
    "while choice != 0:\n",
    "    print(\"1. ADD\")\n",
    "    print(\"2. SUB\")\n",
    "    print(\"3. MUL\")\n",
    "    print(\"4. DIV\")\n",
    "    choice = int(input(\"Enter your choice:\"))\n",
    "    \n",
    "    if choice == 1:\n",
    "        print(x.addition(a,b))\n",
    "    elif choice == 2:\n",
    "        print(x.subtraction(a,b))\n",
    "    elif choice == 3:\n",
    "        print(x.multiplication(a,b))\n",
    "    elif choice == 4:\n",
    "        print(x.division(a,b))\n",
    "    else:\n",
    "        print(\"Invalid choice\")"
   ]
  },
  {
   "cell_type": "markdown",
   "id": "2badd2fd",
   "metadata": {},
   "source": [
    "Create a class employee and display id name salary of the employee in display function. and also calculate its salary after 5% of increament"
   ]
  },
  {
   "cell_type": "code",
   "execution_count": 6,
   "id": "76d017e0",
   "metadata": {},
   "outputs": [
    {
     "name": "stdout",
     "output_type": "stream",
     "text": [
      "Sakshi\n",
      "6214\n",
      "30000\n",
      "31500.0\n"
     ]
    }
   ],
   "source": [
    "class employee:\n",
    "    def __init__(self,name,id,salary):\n",
    "        self.name=name\n",
    "        self.id=id\n",
    "        self.salary=salary\n",
    "    def display(self):\n",
    "        print(self.name)\n",
    "        print(self.id)\n",
    "        print(self.salary)\n",
    "    def increament(self):\n",
    "        print((self.salary*0.05)+self.salary)\n",
    "emp=employee('Sakshi',6214,30000)\n",
    "emp.display()\n",
    "emp.increament()\n"
   ]
  },
  {
   "cell_type": "code",
   "execution_count": 9,
   "id": "880c1700",
   "metadata": {},
   "outputs": [
    {
     "name": "stdout",
     "output_type": "stream",
     "text": [
      "Hello , my name is John\n",
      "I am 18 years old\n"
     ]
    }
   ],
   "source": [
    "class Person:\n",
    "    def __init__ (self,name,age):\n",
    "        self.name = name\n",
    "        self.age = age\n",
    "      \n",
    "    def myfun (abc):\n",
    "        print(\"Hello , my name is\"+' '+abc.name)\n",
    "        print(\"I am {} years old\".format(p1.age))\n",
    "p1 = Person(\"John\",18)\n",
    "p1.myfun()"
   ]
  },
  {
   "cell_type": "code",
   "execution_count": 4,
   "id": "70a24334",
   "metadata": {},
   "outputs": [
    {
     "name": "stdout",
     "output_type": "stream",
     "text": [
      "4\n",
      "Returned argument a is squared.\n"
     ]
    },
    {
     "ename": "AttributeError",
     "evalue": "'function' object has no attribute '__dic__'",
     "output_type": "error",
     "traceback": [
      "\u001b[1;31m---------------------------------------------------------------------------\u001b[0m",
      "\u001b[1;31mAttributeError\u001b[0m                            Traceback (most recent call last)",
      "\u001b[1;32m<ipython-input-4-e4c638b1c424>\u001b[0m in \u001b[0;36m<module>\u001b[1;34m\u001b[0m\n\u001b[0;32m      4\u001b[0m \u001b[0mprint\u001b[0m\u001b[1;33m(\u001b[0m\u001b[0msquare\u001b[0m\u001b[1;33m(\u001b[0m\u001b[1;36m2\u001b[0m\u001b[1;33m)\u001b[0m\u001b[1;33m)\u001b[0m\u001b[1;33m\u001b[0m\u001b[1;33m\u001b[0m\u001b[0m\n\u001b[0;32m      5\u001b[0m \u001b[0mprint\u001b[0m \u001b[1;33m(\u001b[0m\u001b[0msquare\u001b[0m\u001b[1;33m.\u001b[0m\u001b[0m__doc__\u001b[0m\u001b[1;33m)\u001b[0m\u001b[1;33m\u001b[0m\u001b[1;33m\u001b[0m\u001b[0m\n\u001b[1;32m----> 6\u001b[1;33m \u001b[0mprint\u001b[0m\u001b[1;33m(\u001b[0m\u001b[0msquare\u001b[0m\u001b[1;33m.\u001b[0m\u001b[0m__dic__\u001b[0m\u001b[1;33m)\u001b[0m\u001b[1;33m\u001b[0m\u001b[1;33m\u001b[0m\u001b[0m\n\u001b[0m\u001b[0;32m      7\u001b[0m \"\"\"\n\u001b[0;32m      8\u001b[0m \u001b[1;36m4\u001b[0m\u001b[1;33m\u001b[0m\u001b[1;33m\u001b[0m\u001b[0m\n",
      "\u001b[1;31mAttributeError\u001b[0m: 'function' object has no attribute '__dic__'"
     ]
    }
   ],
   "source": [
    "def square(a):\n",
    "    '''Returned argument a is squared.'''\n",
    "    return a**a\n",
    "print(square(2))\n",
    "print (square.__doc__)\n",
    "print(square.__dic__)\n",
    "\"\"\"\n",
    "4\n",
    "Returned argument a is squared.\n",
    "\"\"\""
   ]
  },
  {
   "cell_type": "code",
   "execution_count": null,
   "id": "5f5bb002",
   "metadata": {},
   "outputs": [],
   "source": []
  }
 ],
 "metadata": {
  "kernelspec": {
   "display_name": "Python 3",
   "language": "python",
   "name": "python3"
  },
  "language_info": {
   "codemirror_mode": {
    "name": "ipython",
    "version": 3
   },
   "file_extension": ".py",
   "mimetype": "text/x-python",
   "name": "python",
   "nbconvert_exporter": "python",
   "pygments_lexer": "ipython3",
   "version": "3.8.8"
  }
 },
 "nbformat": 4,
 "nbformat_minor": 5
}
