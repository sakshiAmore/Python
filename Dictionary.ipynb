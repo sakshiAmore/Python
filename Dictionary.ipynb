{
 "cells": [
  {
   "cell_type": "markdown",
   "id": "4530a109",
   "metadata": {},
   "source": [
    "# Dictionary "
   ]
  },
  {
   "cell_type": "code",
   "execution_count": 8,
   "id": "3b34fa24",
   "metadata": {},
   "outputs": [
    {
     "name": "stdout",
     "output_type": "stream",
     "text": [
      "{'one': 'Book cover', 'two': 'Index', 'Three': 'Introduction', 'Four': 'Chap1', 'Five': 'Chap2', 'Six': ['Chap3', 'Summary'], 'Seven': 'Summary'}\n"
     ]
    }
   ],
   "source": [
    "# Dictionary is a data structure which is identified with the help of {}\n",
    "Dist={'one':'Book cover', 'two': 'Index','Three':'Introduction','Four':'Chap1','Five':'Chap2','Six':['Chap3','Summary'],'Seven':'Summary'}\n",
    "print(Dist)"
   ]
  },
  {
   "cell_type": "code",
   "execution_count": 4,
   "id": "7f0b238e",
   "metadata": {},
   "outputs": [
    {
     "data": {
      "text/plain": [
       "['Chap3', 'Summary']"
      ]
     },
     "execution_count": 4,
     "metadata": {},
     "output_type": "execute_result"
    }
   ],
   "source": [
    "#It stores the data in the form of key value pair where key is an index and vlue is the data store in that index\n",
    "Dist['Six']"
   ]
  },
  {
   "cell_type": "code",
   "execution_count": 6,
   "id": "3ebdd181",
   "metadata": {},
   "outputs": [
    {
     "data": {
      "text/plain": [
       "{'one': 'Book cover',\n",
       " 'two': 'Index',\n",
       " 'Three': 'Introduction',\n",
       " 'Four': 'Chap1',\n",
       " 'Five': 'Chap2',\n",
       " 'Six': ['Chap3', 'Summary'],\n",
       " 'Seven': 'Summary',\n",
       " 'Eight': 'Fedback'}"
      ]
     },
     "execution_count": 6,
     "metadata": {},
     "output_type": "execute_result"
    }
   ],
   "source": [
    "#It is order , mutable and Index (key can be user define)\n",
    "Dist['Eight']='Fedback'\n",
    "Dist"
   ]
  },
  {
   "cell_type": "code",
   "execution_count": 16,
   "id": "d5be85ce",
   "metadata": {},
   "outputs": [
    {
     "data": {
      "text/plain": [
       "{'fname': 'Joe',\n",
       " 'Iname': 'Fonebone',\n",
       " 'age': 51,\n",
       " 'spouse': 'Edna',\n",
       " 'children': ['Raiph', 'Betty', 'Joey'],\n",
       " 'Pets': {'Dog': 'fido', 'cat': 'sox'}}"
      ]
     },
     "execution_count": 16,
     "metadata": {},
     "output_type": "execute_result"
    }
   ],
   "source": [
    "#it can supports dictionary inside dictionary\n",
    "dict1={'fname':'Joe','Iname':'Fonebone','age':51,'spouse':'Edna','children':['Raiph','Betty','Joey'],'Pets':{'Dog':'fido','cat':'sox'}}\n",
    "dict1"
   ]
  },
  {
   "cell_type": "code",
   "execution_count": 12,
   "id": "8b698110",
   "metadata": {},
   "outputs": [
    {
     "data": {
      "text/plain": [
       "'Edna'"
      ]
     },
     "execution_count": 12,
     "metadata": {},
     "output_type": "execute_result"
    }
   ],
   "source": [
    "dict1['spouse']\n"
   ]
  },
  {
   "cell_type": "code",
   "execution_count": 16,
   "id": "8b446eda",
   "metadata": {},
   "outputs": [
    {
     "data": {
      "text/plain": [
       "'Joey'"
      ]
     },
     "execution_count": 16,
     "metadata": {},
     "output_type": "execute_result"
    }
   ],
   "source": [
    "dict1['children'][2]"
   ]
  },
  {
   "cell_type": "code",
   "execution_count": 7,
   "id": "b2f8406d",
   "metadata": {},
   "outputs": [
    {
     "data": {
      "text/plain": [
       "{'Dog': 'fido', 'cat': 'sox'}"
      ]
     },
     "execution_count": 7,
     "metadata": {},
     "output_type": "execute_result"
    }
   ],
   "source": [
    "dict1['Pets']"
   ]
  },
  {
   "cell_type": "code",
   "execution_count": 9,
   "id": "5ab91d07",
   "metadata": {},
   "outputs": [
    {
     "data": {
      "text/plain": [
       "{'one': 'Book cover',\n",
       " 'two': 'Index',\n",
       " 'Three': 'Introduction',\n",
       " 'Four': 'Chap1',\n",
       " 'Five': 'Chap2',\n",
       " 'Six': ['Chap3', 'Summary'],\n",
       " 'Seven': 'Summary',\n",
       " 'Eight': ['Fedback', 'Signature']}"
      ]
     },
     "execution_count": 9,
     "metadata": {},
     "output_type": "execute_result"
    }
   ],
   "source": [
    "# in dictionary multible data can be stored in a particular key\n",
    "Dist['Eight']=['Fedback','Signature']\n",
    "Dist"
   ]
  },
  {
   "cell_type": "code",
   "execution_count": 11,
   "id": "7acbbba6",
   "metadata": {},
   "outputs": [
    {
     "data": {
      "text/plain": [
       "{1: 'Hi',\n",
       " 2: ['Name', 'Surname'],\n",
       " 3: {3.1: 'Address', 3.2: 'Pincode', 3.3: ['Phone number', 'Email']}}"
      ]
     },
     "execution_count": 11,
     "metadata": {},
     "output_type": "execute_result"
    }
   ],
   "source": [
    "Dist1={1:'Hi', 2:['Name','Surname'],3:{3.1:'Address',3.2:'Pincode',3.3:['Phone number','Email']}}\n",
    "Dist1"
   ]
  },
  {
   "cell_type": "code",
   "execution_count": 17,
   "id": "de8b66d7",
   "metadata": {},
   "outputs": [
    {
     "data": {
      "text/plain": [
       "{1: 'Sunflower', 2: 'Jasmin', 4: 'Lotus', 5: 'Chameli'}"
      ]
     },
     "execution_count": 17,
     "metadata": {},
     "output_type": "execute_result"
    }
   ],
   "source": [
    "Dict2={1:'Sunflower',2:'Jasmin',3:'Rose',4:'Lotus',5:'Chameli'}\n",
    "del Dict2[3]\n",
    "Dict2"
   ]
  },
  {
   "cell_type": "markdown",
   "id": "7be6220a",
   "metadata": {},
   "source": [
    "#  Home work "
   ]
  },
  {
   "cell_type": "markdown",
   "id": "629cdb5d",
   "metadata": {},
   "source": [
    "Q.1 \n",
    " Make a dictionary of 12 indian team players of cricket and assign key value pairs along with the keys values such as      Name,Surname,Rank,Experience years,Qualities,Fav colours"
   ]
  },
  {
   "cell_type": "code",
   "execution_count": 9,
   "id": "609290e6",
   "metadata": {},
   "outputs": [
    {
     "data": {
      "text/plain": [
       "{'Player1': {'Name': 'Sachin',\n",
       "  'Surname': 'Tendulkar',\n",
       "  'Rank': 898,\n",
       "  'Experience Year': 49,\n",
       "  'Qualities': ['Batsman', 'Motivational'],\n",
       "  'Fav Color': ['Blue', 'Safron', 'Green']},\n",
       " 'Player2': {'Name': 'Virat',\n",
       "  'Surname': 'Kohli',\n",
       "  'Rank': 844,\n",
       "  'Experience Year': 13,\n",
       "  'Qualities': ['Batsman', 'fitness frick'],\n",
       "  'Fav color': ['Black', 'White']},\n",
       " 'Player3': {'Name': 'Hardik',\n",
       "  'Surname': 'Pandya',\n",
       "  'Rank': 548,\n",
       "  'Experience years': 9,\n",
       "  'Qualities': ['Batsman', 'Bowler'],\n",
       "  'Fav Color': ['Black', 'White']},\n",
       " 'Player4': {'Name': 'Mahendra Singh',\n",
       "  'Surname': 'Dhoni',\n",
       "  'Rank': 662,\n",
       "  'Experience years': 22,\n",
       "  'Qualities': ['Batsman', 'Motivational', 'Wicket keeper'],\n",
       "  'Fav Color': ['Blue', 'Green', 'White']},\n",
       " 'Player5': {'Name': 'K L Rahul',\n",
       "  'Surname': 'KL',\n",
       "  'Rank': 657,\n",
       "  'Experience years': 7,\n",
       "  'Qualities': ['Batsman', 'Wicketkeeper'],\n",
       "  'Fav Color': ['Black', 'Yellow']},\n",
       " 'Player6': {'Name': 'Ravindra',\n",
       "  'Surname': 'Jadeja',\n",
       "  'Rank': 640,\n",
       "  'Experience years': 12,\n",
       "  'Qualities': ['Batsman', 'Bowler', 'All-rounder'],\n",
       "  'Fav Color': ['Black', 'White']},\n",
       " 'Player7': {'Name': 'Jasprit',\n",
       "  'Surname': 'Bumrah',\n",
       "  'Rank': 9,\n",
       "  'Experience years': 5,\n",
       "  'Qualities': ['Bowler', 'Motivational'],\n",
       "  'Fav Color': ['Yellow', 'Green']},\n",
       " 'Player8': {'Name': 'Yuzvendra',\n",
       "  'Surname': 'Chahal',\n",
       "  'Rank': 20,\n",
       "  'Experience years': 5,\n",
       "  'Qualities': ['Bowler', 'Influencer'],\n",
       "  'Fav Color': ['Red', 'Black']},\n",
       " 'Player9': {'Name': 'Prithvi',\n",
       "  'Surname': 'Shaw',\n",
       "  'Rank': 465,\n",
       "  'Experience years': 3,\n",
       "  'Qualities': 'Batsman',\n",
       "  'Fav Color': ['Black', 'Yellow']},\n",
       " 'Player10': {'Name': 'Ishan',\n",
       "  'Surname': 'Kishan',\n",
       "  'Rank': 200,\n",
       "  'Experience years': 7,\n",
       "  'Qualities': ['Batsman', 'Wicket keeper', 'Motivational'],\n",
       "  'Fav Color': ['Black', 'Green']},\n",
       " 'Player11': {'Name': 'Ajinkya',\n",
       "  'Surname': 'Rahane',\n",
       "  'Rank': 633,\n",
       "  'Experience years': 10,\n",
       "  'Qualities': 'Batsman',\n",
       "  'Fav Color': ['White', 'Green']},\n",
       " 'Player12': {'Name': 'Mohammed',\n",
       "  'Surname': 'Shami',\n",
       "  'Rank': 26,\n",
       "  'Experience years': 8,\n",
       "  'Qualities': 'Bowler',\n",
       "  'Fav Color': ['Red', 'Green']}}"
      ]
     },
     "execution_count": 9,
     "metadata": {},
     "output_type": "execute_result"
    }
   ],
   "source": [
    "Dict3={'Player1':{'Name':'Sachin','Surname':'Tendulkar','Rank':898,'Experience Year':49,'Qualities':['Batsman','Motivational'],'Fav Color':['Blue','Safron','Green']},\n",
    "       'Player2':{'Name':'Virat','Surname':'Kohli','Rank':844,'Experience Year':13,'Qualities':['Batsman','fitness frick'],'Fav color':['Black','White']},\n",
    "       'Player3':{'Name':'Rohit','Surname':'Sharma','Rank':813,'Experience years':20,'Qualities':['Batsman','Motivational'],'Fav Color':['Black','Green']},\n",
    "       'Player3':{'Name':'Hardik','Surname':'Pandya','Rank':548,'Experience years':9,'Qualities':['Batsman','Bowler'],'Fav Color':['Black','White']},\n",
    "       'Player4':{'Name':'Mahendra Singh','Surname':'Dhoni','Rank':662,'Experience years':22,'Qualities':['Batsman','Motivational','Wicket keeper'],'Fav Color':['Blue','Green','White']},\n",
    "       'Player5':{'Name':'K L Rahul','Surname':'KL','Rank':657,'Experience years':7,'Qualities':['Batsman','Wicketkeeper'],'Fav Color':['Black','Yellow']},\n",
    "       'Player6':{'Name':'Ravindra','Surname':'Jadeja','Rank':640,'Experience years':12,'Qualities':['Batsman','Bowler','All-rounder'],'Fav Color':['Black','White']},\n",
    "       'Player7':{'Name':'Jasprit','Surname':'Bumrah','Rank':9,'Experience years':5,'Qualities':['Bowler','Motivational'],'Fav Color':['Yellow','Green']},\n",
    "       'Player8':{'Name':'Yuzvendra','Surname':'Chahal','Rank':20,'Experience years':5,'Qualities':['Bowler','Influencer'],'Fav Color':['Red','Black']},\n",
    "       'Player9':{'Name':'Prithvi','Surname':'Shaw','Rank':465,'Experience years':3,'Qualities':'Batsman','Fav Color':['Black','Yellow']},\n",
    "       'Player10':{'Name':'Ishan','Surname':'Kishan','Rank':200,'Experience years':7,'Qualities':['Batsman','Wicket keeper','Motivational'],'Fav Color':['Black','Green']},\n",
    "       'Player11':{'Name':'Ajinkya','Surname':'Rahane','Rank':633,'Experience years':10,'Qualities':'Batsman','Fav Color':['White','Green']},\n",
    "       'Player12':{'Name':'Mohammed','Surname':'Shami','Rank':26,'Experience years':8,'Qualities':'Bowler','Fav Color':['Red','Green']}}\n",
    "Dict3"
   ]
  },
  {
   "cell_type": "markdown",
   "id": "b36a77b6",
   "metadata": {},
   "source": [
    "Q.2\n",
    "One of the player got retired, so update the  dictionary with a new player."
   ]
  },
  {
   "cell_type": "code",
   "execution_count": 13,
   "id": "274cb6db",
   "metadata": {},
   "outputs": [
    {
     "data": {
      "text/plain": [
       "{'Player1': {'Name': 'Bhuvneshwar',\n",
       "  'Surname': 'Tendulkar',\n",
       "  'Rank': 898,\n",
       "  'Experience Year': 49,\n",
       "  'Qualities': ['Batsman', 'Motivational'],\n",
       "  'Fav Color': ['Blue', 'Safron', 'Green']},\n",
       " 'Player2': {'Name': 'Virat',\n",
       "  'Surname': 'Kohli',\n",
       "  'Rank': 844,\n",
       "  'Experience Year': 13,\n",
       "  'Qualities': ['Batsman', 'fitness frick'],\n",
       "  'Fav color': ['Black', 'White']},\n",
       " 'Player3': {'Name': 'Hardik',\n",
       "  'Surname': 'Pandya',\n",
       "  'Rank': 548,\n",
       "  'Experience years': 9,\n",
       "  'Qualities': ['Batsman', 'Bowler'],\n",
       "  'Fav Color': ['Black', 'White']},\n",
       " 'Player4': {'Name': 'Mahendra Singh',\n",
       "  'Surname': 'Dhoni',\n",
       "  'Rank': 662,\n",
       "  'Experience years': 22,\n",
       "  'Qualities': ['Batsman', 'Motivational', 'Wicket keeper'],\n",
       "  'Fav Color': ['Blue', 'Green', 'White']},\n",
       " 'Player5': {'Name': 'K L Rahul',\n",
       "  'Surname': 'KL',\n",
       "  'Rank': 657,\n",
       "  'Experience years': 7,\n",
       "  'Qualities': ['Batsman', 'Wicketkeeper'],\n",
       "  'Fav Color': ['Black', 'Yellow']},\n",
       " 'Player6': {'Name': 'Ravindra',\n",
       "  'Surname': 'Jadeja',\n",
       "  'Rank': 640,\n",
       "  'Experience years': 12,\n",
       "  'Qualities': ['Batsman', 'Bowler', 'All-rounder'],\n",
       "  'Fav Color': ['Black', 'White']},\n",
       " 'Player7': {'Name': 'Jasprit',\n",
       "  'Surname': 'Bumrah',\n",
       "  'Rank': 9,\n",
       "  'Experience years': 5,\n",
       "  'Qualities': ['Bowler', 'Motivational'],\n",
       "  'Fav Color': ['Yellow', 'Green']},\n",
       " 'Player8': {'Name': 'Yuzvendra',\n",
       "  'Surname': 'Chahal',\n",
       "  'Rank': 20,\n",
       "  'Experience years': 5,\n",
       "  'Qualities': ['Bowler', 'Influencer'],\n",
       "  'Fav Color': ['Red', 'Black']},\n",
       " 'Player9': {'Name': 'Prithvi',\n",
       "  'Surname': 'Shaw',\n",
       "  'Rank': 465,\n",
       "  'Experience years': 3,\n",
       "  'Qualities': 'Batsman',\n",
       "  'Fav Color': ['Black', 'Yellow']},\n",
       " 'Player10': {'Name': 'Ishan',\n",
       "  'Surname': 'Kishan',\n",
       "  'Rank': 200,\n",
       "  'Experience years': 7,\n",
       "  'Qualities': ['Batsman', 'Wicket keeper', 'Motivational'],\n",
       "  'Fav Color': ['Black', 'Green']},\n",
       " 'Player11': {'Name': 'Ajinkya',\n",
       "  'Surname': 'Rahane',\n",
       "  'Rank': 633,\n",
       "  'Experience years': 10,\n",
       "  'Qualities': 'Batsman',\n",
       "  'Fav Color': ['White', 'Green']},\n",
       " 'Player12': {'Name': 'Mohammed',\n",
       "  'Surname': 'Shami',\n",
       "  'Rank': 26,\n",
       "  'Experience years': 8,\n",
       "  'Qualities': 'Bowler',\n",
       "  'Fav Color': ['Red', 'Green']}}"
      ]
     },
     "execution_count": 13,
     "metadata": {},
     "output_type": "execute_result"
    }
   ],
   "source": [
    "Dict3['Player1']['Name']='Bhuvneshwar'\n",
    "Dict3"
   ]
  },
  {
   "cell_type": "markdown",
   "id": "8ee848f6",
   "metadata": {},
   "source": [
    "Q.3\n",
    "Print the key of the last player"
   ]
  },
  {
   "cell_type": "code",
   "execution_count": 12,
   "id": "7483c800",
   "metadata": {},
   "outputs": [
    {
     "name": "stdout",
     "output_type": "stream",
     "text": [
      "{'Player1': {'Name': 'Sachin', 'Surname': 'Tendulkar', 'Rank': 898, 'Experience Year': 49, 'Qualities': ['Batsman', 'Motivational'], 'Fav Color': ['Blue', 'Safron', 'Green']}, 'Player2': {'Name': 'Virat', 'Surname': 'Kohli', 'Rank': 844, 'Experience Year': 13, 'Qualities': ['Batsman', 'fitness frick'], 'Fav color': ['Black', 'White']}, 'Player3': {'Name': 'Hardik', 'Surname': 'Pandya', 'Rank': 548, 'Experience years': 9, 'Qualities': ['Batsman', 'Bowler'], 'Fav Color': ['Black', 'White']}, 'Player4': {'Name': 'Mahendra Singh', 'Surname': 'Dhoni', 'Rank': 662, 'Experience years': 22, 'Qualities': ['Batsman', 'Motivational', 'Wicket keeper'], 'Fav Color': ['Blue', 'Green', 'White']}, 'Player5': {'Name': 'K L Rahul', 'Surname': 'KL', 'Rank': 657, 'Experience years': 7, 'Qualities': ['Batsman', 'Wicketkeeper'], 'Fav Color': ['Black', 'Yellow']}, 'Player6': {'Name': 'Ravindra', 'Surname': 'Jadeja', 'Rank': 640, 'Experience years': 12, 'Qualities': ['Batsman', 'Bowler', 'All-rounder'], 'Fav Color': ['Black', 'White']}, 'Player7': {'Name': 'Jasprit', 'Surname': 'Bumrah', 'Rank': 9, 'Experience years': 5, 'Qualities': ['Bowler', 'Motivational'], 'Fav Color': ['Yellow', 'Green']}, 'Player8': {'Name': 'Yuzvendra', 'Surname': 'Chahal', 'Rank': 20, 'Experience years': 5, 'Qualities': ['Bowler', 'Influencer'], 'Fav Color': ['Red', 'Black']}, 'Player9': {'Name': 'Prithvi', 'Surname': 'Shaw', 'Rank': 465, 'Experience years': 3, 'Qualities': 'Batsman', 'Fav Color': ['Black', 'Yellow']}, 'Player10': {'Name': 'Ishan', 'Surname': 'Kishan', 'Rank': 200, 'Experience years': 7, 'Qualities': ['Batsman', 'Wicket keeper', 'Motivational'], 'Fav Color': ['Black', 'Green']}, 'Player11': {'Name': 'Ajinkya', 'Surname': 'Rahane', 'Rank': 633, 'Experience years': 10, 'Qualities': 'Batsman', 'Fav Color': ['White', 'Green']}, 'Player12': {'Name': 'Mohammed', 'Surname': 'Shami', 'Rank': 26, 'Experience years': 8, 'Qualities': 'Bowler', 'Fav Color': ['Red', 'Green']}}\n"
     ]
    }
   ],
   "source": [
    "Dict3['Player12']\n",
    "print (Dict3)\n",
    " "
   ]
  },
  {
   "cell_type": "markdown",
   "id": "762c084c",
   "metadata": {},
   "source": [
    "Q.4\n",
    "Using dictionary function print all the keys of the dictionary"
   ]
  },
  {
   "cell_type": "code",
   "execution_count": 11,
   "id": "cfdb54ac",
   "metadata": {},
   "outputs": [
    {
     "data": {
      "text/plain": [
       "dict_keys(['Player1', 'Player2', 'Player3', 'Player4', 'Player5', 'Player6', 'Player7', 'Player8', 'Player9', 'Player10', 'Player11', 'Player12'])"
      ]
     },
     "execution_count": 11,
     "metadata": {},
     "output_type": "execute_result"
    }
   ],
   "source": [
    "Dict3.keys()\n"
   ]
  },
  {
   "cell_type": "markdown",
   "id": "da76b1fa",
   "metadata": {},
   "source": [
    "Q.5\n",
    "Using dictionary function print all the values of dictionary"
   ]
  },
  {
   "cell_type": "code",
   "execution_count": 10,
   "id": "d05b1214",
   "metadata": {},
   "outputs": [
    {
     "data": {
      "text/plain": [
       "dict_values([{'Name': 'Sachin', 'Surname': 'Tendulkar', 'Rank': 898, 'Experience Year': 49, 'Qualities': ['Batsman', 'Motivational'], 'Fav Color': ['Blue', 'Safron', 'Green']}, {'Name': 'Virat', 'Surname': 'Kohli', 'Rank': 844, 'Experience Year': 13, 'Qualities': ['Batsman', 'fitness frick'], 'Fav color': ['Black', 'White']}, {'Name': 'Hardik', 'Surname': 'Pandya', 'Rank': 548, 'Experience years': 9, 'Qualities': ['Batsman', 'Bowler'], 'Fav Color': ['Black', 'White']}, {'Name': 'Mahendra Singh', 'Surname': 'Dhoni', 'Rank': 662, 'Experience years': 22, 'Qualities': ['Batsman', 'Motivational', 'Wicket keeper'], 'Fav Color': ['Blue', 'Green', 'White']}, {'Name': 'K L Rahul', 'Surname': 'KL', 'Rank': 657, 'Experience years': 7, 'Qualities': ['Batsman', 'Wicketkeeper'], 'Fav Color': ['Black', 'Yellow']}, {'Name': 'Ravindra', 'Surname': 'Jadeja', 'Rank': 640, 'Experience years': 12, 'Qualities': ['Batsman', 'Bowler', 'All-rounder'], 'Fav Color': ['Black', 'White']}, {'Name': 'Jasprit', 'Surname': 'Bumrah', 'Rank': 9, 'Experience years': 5, 'Qualities': ['Bowler', 'Motivational'], 'Fav Color': ['Yellow', 'Green']}, {'Name': 'Yuzvendra', 'Surname': 'Chahal', 'Rank': 20, 'Experience years': 5, 'Qualities': ['Bowler', 'Influencer'], 'Fav Color': ['Red', 'Black']}, {'Name': 'Prithvi', 'Surname': 'Shaw', 'Rank': 465, 'Experience years': 3, 'Qualities': 'Batsman', 'Fav Color': ['Black', 'Yellow']}, {'Name': 'Ishan', 'Surname': 'Kishan', 'Rank': 200, 'Experience years': 7, 'Qualities': ['Batsman', 'Wicket keeper', 'Motivational'], 'Fav Color': ['Black', 'Green']}, {'Name': 'Ajinkya', 'Surname': 'Rahane', 'Rank': 633, 'Experience years': 10, 'Qualities': 'Batsman', 'Fav Color': ['White', 'Green']}, {'Name': 'Mohammed', 'Surname': 'Shami', 'Rank': 26, 'Experience years': 8, 'Qualities': 'Bowler', 'Fav Color': ['Red', 'Green']}])"
      ]
     },
     "execution_count": 10,
     "metadata": {},
     "output_type": "execute_result"
    }
   ],
   "source": [
    "Dict3.values()"
   ]
  },
  {
   "cell_type": "markdown",
   "id": "b54cd529",
   "metadata": {},
   "source": [
    "Q.6\n",
    "Create one more dictionary of a cricketer's mother tongue and update this dictionary in the previous dictionary using dictionary function. "
   ]
  },
  {
   "cell_type": "code",
   "execution_count": null,
   "id": "fddd094f",
   "metadata": {},
   "outputs": [],
   "source": []
  },
  {
   "cell_type": "markdown",
   "id": "72ae7acf",
   "metadata": {},
   "source": [
    "Q.7\n",
    "Find the size of the first dictionary."
   ]
  },
  {
   "cell_type": "code",
   "execution_count": null,
   "id": "fa35799b",
   "metadata": {},
   "outputs": [],
   "source": []
  },
  {
   "cell_type": "markdown",
   "id": "5f0fc396",
   "metadata": {},
   "source": [
    "Q.8\n",
    "Modify rank of a player into 10."
   ]
  },
  {
   "cell_type": "code",
   "execution_count": null,
   "id": "dd1a5d26",
   "metadata": {},
   "outputs": [],
   "source": []
  },
  {
   "cell_type": "code",
   "execution_count": 7,
   "id": "a87026ee",
   "metadata": {},
   "outputs": [
    {
     "data": {
      "text/plain": [
       "{'Colorado': 'Rockies',\n",
       " 'Boston': 'Red Sox',\n",
       " 'Minnesota': 'Twins',\n",
       " 'Milwaukee': 'Brewers',\n",
       " 'Seattle': 'Mariners'}"
      ]
     },
     "execution_count": 7,
     "metadata": {},
     "output_type": "execute_result"
    }
   ],
   "source": [
    "MLB_team = { 'Colorado' : 'Rockies', 'Boston'   : 'Red Sox',  'Minnesota': 'Twins',  'Milwaukee': 'Brewers',   'Seattle'  : 'Mariners'}\n",
    "MLB_team"
   ]
  },
  {
   "cell_type": "code",
   "execution_count": 8,
   "id": "fdf3f746",
   "metadata": {},
   "outputs": [
    {
     "data": {
      "text/plain": [
       "dict"
      ]
     },
     "execution_count": 8,
     "metadata": {},
     "output_type": "execute_result"
    }
   ],
   "source": [
    "type(MLB_team)"
   ]
  },
  {
   "cell_type": "code",
   "execution_count": 9,
   "id": "4e755d59",
   "metadata": {},
   "outputs": [
    {
     "data": {
      "text/plain": [
       "'Twins'"
      ]
     },
     "execution_count": 9,
     "metadata": {},
     "output_type": "execute_result"
    }
   ],
   "source": [
    "MLB_team['Minnesota']"
   ]
  },
  {
   "cell_type": "code",
   "execution_count": 10,
   "id": "a0ee217f",
   "metadata": {},
   "outputs": [
    {
     "data": {
      "text/plain": [
       "{'Colorado': 'Rockies',\n",
       " 'Boston': 'Red Sox',\n",
       " 'Minnesota': 'Twins',\n",
       " 'Milwaukee': 'Brewers',\n",
       " 'Seattle': 'Mariners',\n",
       " 'New York': 'New York Mets'}"
      ]
     },
     "execution_count": 10,
     "metadata": {},
     "output_type": "execute_result"
    }
   ],
   "source": [
    "MLB_team['New York']='New York Mets'\n",
    "MLB_team"
   ]
  },
  {
   "cell_type": "code",
   "execution_count": 11,
   "id": "65c354d6",
   "metadata": {},
   "outputs": [
    {
     "data": {
      "text/plain": [
       "dict_keys(['Colorado', 'Boston', 'Minnesota', 'Milwaukee', 'Seattle', 'New York'])"
      ]
     },
     "execution_count": 11,
     "metadata": {},
     "output_type": "execute_result"
    }
   ],
   "source": [
    "MLB_team.keys()"
   ]
  },
  {
   "cell_type": "code",
   "execution_count": 12,
   "id": "f243cbe0",
   "metadata": {},
   "outputs": [
    {
     "data": {
      "text/plain": [
       "dict_values(['Rockies', 'Red Sox', 'Twins', 'Brewers', 'Mariners', 'New York Mets'])"
      ]
     },
     "execution_count": 12,
     "metadata": {},
     "output_type": "execute_result"
    }
   ],
   "source": [
    "MLB_team.values()"
   ]
  },
  {
   "cell_type": "markdown",
   "id": "b361f9d7",
   "metadata": {},
   "source": [
    "Using item function in dictionary ->  d.items() returns a list of tuples containing the key-value pairs in d. The first item in each tuple is the key, and the second item is the key’s value:"
   ]
  },
  {
   "cell_type": "code",
   "execution_count": 11,
   "id": "09905901",
   "metadata": {},
   "outputs": [
    {
     "data": {
      "text/plain": [
       "{'a': 10, 'b': 20, 'c': 30}"
      ]
     },
     "execution_count": 11,
     "metadata": {},
     "output_type": "execute_result"
    }
   ],
   "source": [
    "d = {'a': 10, 'b': 20, 'c': 30}\n",
    "d\n"
   ]
  },
  {
   "cell_type": "code",
   "execution_count": 13,
   "id": "2c785dea",
   "metadata": {},
   "outputs": [
    {
     "data": {
      "text/plain": [
       "dict_items([('a', 10), ('b', 20), ('c', 30)])"
      ]
     },
     "execution_count": 13,
     "metadata": {},
     "output_type": "execute_result"
    }
   ],
   "source": [
    "d.items()"
   ]
  },
  {
   "cell_type": "code",
   "execution_count": 14,
   "id": "c1c69588",
   "metadata": {},
   "outputs": [
    {
     "data": {
      "text/plain": [
       "{('a', 10), ('b', 20), ('c', 30)}"
      ]
     },
     "execution_count": 14,
     "metadata": {},
     "output_type": "execute_result"
    }
   ],
   "source": [
    "set(d.items())"
   ]
  },
  {
   "cell_type": "code",
   "execution_count": 16,
   "id": "1f21ebf7",
   "metadata": {},
   "outputs": [
    {
     "data": {
      "text/plain": [
       "[('a', 10), ('b', 20), ('c', 30)]"
      ]
     },
     "execution_count": 16,
     "metadata": {},
     "output_type": "execute_result"
    }
   ],
   "source": [
    "list(d.items())\n",
    "# In this condition the dictionary get change into list but the key and value get into tuple as the data would not get change where as list will help in adding more data"
   ]
  },
  {
   "cell_type": "markdown",
   "id": "c0490319",
   "metadata": {},
   "source": [
    "Printing the keys using index values"
   ]
  },
  {
   "cell_type": "code",
   "execution_count": 24,
   "id": "bc20b92b",
   "metadata": {},
   "outputs": [
    {
     "data": {
      "text/plain": [
       "'a'"
      ]
     },
     "execution_count": 24,
     "metadata": {},
     "output_type": "execute_result"
    }
   ],
   "source": [
    "list(d.items())[0][0]"
   ]
  },
  {
   "cell_type": "code",
   "execution_count": 26,
   "id": "ea89df80",
   "metadata": {},
   "outputs": [
    {
     "data": {
      "text/plain": [
       "10"
      ]
     },
     "execution_count": 26,
     "metadata": {},
     "output_type": "execute_result"
    }
   ],
   "source": [
    "list(d.items())[0][1]"
   ]
  },
  {
   "cell_type": "code",
   "execution_count": 25,
   "id": "3e0617f7",
   "metadata": {},
   "outputs": [
    {
     "data": {
      "text/plain": [
       "'b'"
      ]
     },
     "execution_count": 25,
     "metadata": {},
     "output_type": "execute_result"
    }
   ],
   "source": [
    "list(d.items())[1][0]"
   ]
  },
  {
   "cell_type": "code",
   "execution_count": 27,
   "id": "bc042a5f",
   "metadata": {},
   "outputs": [
    {
     "data": {
      "text/plain": [
       "20"
      ]
     },
     "execution_count": 27,
     "metadata": {},
     "output_type": "execute_result"
    }
   ],
   "source": [
    "list(d.items())[1][1]"
   ]
  },
  {
   "cell_type": "code",
   "execution_count": 23,
   "id": "069d81f3",
   "metadata": {},
   "outputs": [
    {
     "data": {
      "text/plain": [
       "'c'"
      ]
     },
     "execution_count": 23,
     "metadata": {},
     "output_type": "execute_result"
    }
   ],
   "source": [
    "list(d.items())[2][0]"
   ]
  },
  {
   "cell_type": "code",
   "execution_count": 28,
   "id": "96296fa4",
   "metadata": {},
   "outputs": [
    {
     "data": {
      "text/plain": [
       "30"
      ]
     },
     "execution_count": 28,
     "metadata": {},
     "output_type": "execute_result"
    }
   ],
   "source": [
    "list(d.items())[2][1]"
   ]
  },
  {
   "cell_type": "code",
   "execution_count": 31,
   "id": "3237f1da",
   "metadata": {},
   "outputs": [
    {
     "data": {
      "text/plain": [
       "{'a': 10, 'b': 20, 'c': [30, 40, 50]}"
      ]
     },
     "execution_count": 31,
     "metadata": {},
     "output_type": "execute_result"
    }
   ],
   "source": [
    "d['c']=[30,40,50]\n",
    "d"
   ]
  },
  {
   "cell_type": "code",
   "execution_count": 34,
   "id": "653af700",
   "metadata": {},
   "outputs": [
    {
     "data": {
      "text/plain": [
       "[30, 40, 50]"
      ]
     },
     "execution_count": 34,
     "metadata": {},
     "output_type": "execute_result"
    }
   ],
   "source": [
    "list(d.items())[2][1]"
   ]
  },
  {
   "cell_type": "markdown",
   "id": "78f4bb83",
   "metadata": {},
   "source": [
    "# Homework"
   ]
  },
  {
   "cell_type": "code",
   "execution_count": 33,
   "id": "835f7717",
   "metadata": {},
   "outputs": [
    {
     "data": {
      "text/plain": [
       "{1: ['Chennai Super Kings', 'MS Dhoni'],\n",
       " 3: ['Royal Challengers Bangalore', 'Virat Kohli'],\n",
       " 4: ['Mumbai Indians', 'Rohit Sharma'],\n",
       " 7: ['Kolkata Knight Riders', 'Eoin Morgan'],\n",
       " 6: ['Punjab Kings', 'K.L.Rahul'],\n",
       " 5: ['Rajasthan Royals', 'Sanju Samson'],\n",
       " 8: ['Sunrisers Hyderabad', 'David Warner'],\n",
       " 2: ['Rising Pune Supergiants', 'Steve Smith']}"
      ]
     },
     "execution_count": 33,
     "metadata": {},
     "output_type": "execute_result"
    }
   ],
   "source": [
    "Cricket={1:['Chennai Super Kings','MS Dhoni'], 3:['Royal Challengers Bangalore','Virat Kohli'], 4:['Mumbai Indians','Rohit Sharma'], 7:['Kolkata Knight Riders','Eoin Morgan'], 6:['Punjab Kings','K.L.Rahul'], 5:['Rajasthan Royals','Sanju Samson'], 8:['Sunrisers Hyderabad','David Warner'], 2:['Rising Pune Supergiants','Steve Smith']}\n",
    "Cricket"
   ]
  },
  {
   "cell_type": "code",
   "execution_count": 17,
   "id": "540bbc0a",
   "metadata": {},
   "outputs": [
    {
     "data": {
      "text/plain": [
       "{1: ['Chennai Super Kings', 'MS Dhoni'],\n",
       " 3: ['Royal Challengers Bangalore', 'Virat Kohli'],\n",
       " 4: ['Mumbai Indians', 'Rohit Sharma'],\n",
       " 7: ['Kolkata Knight Riders', 'Eoin Morgan'],\n",
       " 6: ['Punjab Kings', 'K.L.Rahul'],\n",
       " 5: ['Rajasthan Royals', 'Sanju Samson'],\n",
       " 8: ['Sunrisers Hyderabad', 'David Warner'],\n",
       " 2: ['Delhi Capitals', 'Rishabh Pant']}"
      ]
     },
     "execution_count": 17,
     "metadata": {},
     "output_type": "execute_result"
    }
   ],
   "source": [
    "Cricket[2]=['Delhi Capitals','Rishabh Pant']\n",
    "Cricket"
   ]
  },
  {
   "cell_type": "code",
   "execution_count": 18,
   "id": "451b1ab8",
   "metadata": {},
   "outputs": [
    {
     "data": {
      "text/plain": [
       "dict_keys([1, 3, 4, 7, 6, 5, 8, 2])"
      ]
     },
     "execution_count": 18,
     "metadata": {},
     "output_type": "execute_result"
    }
   ],
   "source": [
    "Cricket.keys()"
   ]
  },
  {
   "cell_type": "code",
   "execution_count": 19,
   "id": "f7131dc3",
   "metadata": {},
   "outputs": [
    {
     "data": {
      "text/plain": [
       "dict_values([['Chennai Super Kings', 'MS Dhoni'], ['Royal Challengers Bangalore', 'Virat Kohli'], ['Mumbai Indians', 'Rohit Sharma'], ['Kolkata Knight Riders', 'Eoin Morgan'], ['Punjab Kings', 'K.L.Rahul'], ['Rajasthan Royals', 'Sanju Samson'], ['Sunrisers Hyderabad', 'David Warner'], ['Delhi Capitals', 'Rishabh Pant']])"
      ]
     },
     "execution_count": 19,
     "metadata": {},
     "output_type": "execute_result"
    }
   ],
   "source": [
    "Cricket.values()"
   ]
  },
  {
   "cell_type": "code",
   "execution_count": 20,
   "id": "0e7f0eae",
   "metadata": {},
   "outputs": [
    {
     "data": {
      "text/plain": [
       "{1: (['Chennai Super Kings', 'MS Dhoni', 'Tamil Nadu'],),\n",
       " 3: (['Royal Challengers Bangalore', 'Virat Kohli', 'Karnataka'],),\n",
       " 4: (['Mumbai Indians', 'Rohit Sharma', 'Maharashtra'],),\n",
       " 7: (['Kolkata Knight Riders', 'Eoin Morgan', 'West Bengal'],),\n",
       " 6: (['Punjab Kings', 'K.L.Rahul', 'Punjab'],),\n",
       " 5: (['Rajasthan Royals', 'Sanju Samson', 'Rajasthan'],),\n",
       " 8: (['Sunrisers Hyderabad', 'David Warner', 'Andhra Pradesh'],),\n",
       " 2: (['Delhi Capitals', 'Rishabh Pant', 'Delhi'],)}"
      ]
     },
     "execution_count": 20,
     "metadata": {},
     "output_type": "execute_result"
    }
   ],
   "source": [
    "Cricket[1]=['Chennai Super Kings','MS Dhoni','Tamil Nadu'],\n",
    "Cricket[3]=['Royal Challengers Bangalore','Virat Kohli','Karnataka'],\n",
    "Cricket[4]=['Mumbai Indians','Rohit Sharma','Maharashtra'],\n",
    "Cricket[7]=['Kolkata Knight Riders','Eoin Morgan','West Bengal'],\n",
    "Cricket[6]=['Punjab Kings','K.L.Rahul','Punjab'],\n",
    "Cricket[5]=['Rajasthan Royals','Sanju Samson','Rajasthan'],\n",
    "Cricket[8]=['Sunrisers Hyderabad','David Warner','Andhra Pradesh'],\n",
    "Cricket[2]=['Delhi Capitals','Rishabh Pant','Delhi'],\n",
    "\n",
    "Cricket"
   ]
  },
  {
   "cell_type": "code",
   "execution_count": 21,
   "id": "becc1fbb",
   "metadata": {},
   "outputs": [
    {
     "data": {
      "text/plain": [
       "{'State 1': 'Tamil Nadu',\n",
       " 'State 3': 'Karnataka',\n",
       " 'State 4': 'Maharashtra',\n",
       " 'State 7': 'West Bengal',\n",
       " 'State 6': 'Punjab',\n",
       " 'State 5': 'Rajasthan',\n",
       " 'State 8': 'Telangana',\n",
       " 'State 2': 'Delhi'}"
      ]
     },
     "execution_count": 21,
     "metadata": {},
     "output_type": "execute_result"
    }
   ],
   "source": [
    "State1={'State 1':'Tamil Nadu','State 3':'Karnataka','State 4':'Maharashtra','State 7':'West Bengal','State 6':'Punjab','State 5':'Rajasthan','State 8':'Telangana','State 2':'Delhi'}\n",
    "State1"
   ]
  },
  {
   "cell_type": "code",
   "execution_count": 32,
   "id": "3753b0d6",
   "metadata": {},
   "outputs": [
    {
     "data": {
      "text/plain": [
       "{1: (['Chennai Super Kings', 'MS Dhoni', 'Tamil Nadu'],),\n",
       " 3: (['Royal Challengers Bangalore', 'Virat Kohli', 'Karnataka'],),\n",
       " 4: (['Mumbai Indians', 'Rohit Sharma', 'Maharashtra'],),\n",
       " 7: (['Kolkata Knight Riders', 'Eoin Morgan', 'West Bengal'],),\n",
       " 6: (['Punjab Kings', 'K.L.Rahul', 'Punjab'],),\n",
       " 5: (['Rajasthan Royals', 'Sanju Samson', 'Rajasthan'],),\n",
       " 8: (['Sunrisers Hyderabad', 'David Warner', 'Andhra Pradesh'],),\n",
       " 2: (['Delhi Capitals', 'Rishabh Pant', 'Delhi'],),\n",
       " 'State 1': 'Tamil Nadu',\n",
       " 'State 3': 'Karnataka',\n",
       " 'State 4': 'Maharashtra',\n",
       " 'State 7': 'West Bengal',\n",
       " 'State 6': 'Punjab',\n",
       " 'State 5': 'Rajasthan',\n",
       " 'State 8': 'Telangana',\n",
       " 'State 2': 'Delhi'}"
      ]
     },
     "execution_count": 32,
     "metadata": {},
     "output_type": "execute_result"
    }
   ],
   "source": [
    "Cricket.update(State1)\n",
    "Cricket"
   ]
  },
  {
   "cell_type": "code",
   "execution_count": 23,
   "id": "93947c25",
   "metadata": {},
   "outputs": [],
   "source": [
    "Cricket.update()"
   ]
  },
  {
   "cell_type": "code",
   "execution_count": 29,
   "id": "401f76f9",
   "metadata": {},
   "outputs": [
    {
     "data": {
      "text/plain": [
       "(['Chennai Super Kings', 'MS Dhoni', 'Tamil Nadu'],)"
      ]
     },
     "execution_count": 29,
     "metadata": {},
     "output_type": "execute_result"
    }
   ],
   "source": [
    "list(Cricket.items())[0][1]"
   ]
  },
  {
   "cell_type": "code",
   "execution_count": 37,
   "id": "42bdec53",
   "metadata": {},
   "outputs": [
    {
     "ename": "AttributeError",
     "evalue": "'dict' object has no attribute 'sort'",
     "output_type": "error",
     "traceback": [
      "\u001b[1;31m---------------------------------------------------------------------------\u001b[0m",
      "\u001b[1;31mAttributeError\u001b[0m                            Traceback (most recent call last)",
      "\u001b[1;32m<ipython-input-37-997b9f221119>\u001b[0m in \u001b[0;36m<module>\u001b[1;34m\u001b[0m\n\u001b[1;32m----> 1\u001b[1;33m \u001b[0mCricket\u001b[0m\u001b[1;33m.\u001b[0m\u001b[0msort\u001b[0m\u001b[1;33m(\u001b[0m\u001b[1;33m)\u001b[0m\u001b[1;33m\u001b[0m\u001b[1;33m\u001b[0m\u001b[0m\n\u001b[0m",
      "\u001b[1;31mAttributeError\u001b[0m: 'dict' object has no attribute 'sort'"
     ]
    }
   ],
   "source": [
    "Cricket.sort()"
   ]
  },
  {
   "cell_type": "code",
   "execution_count": 26,
   "id": "fdaed42e",
   "metadata": {},
   "outputs": [
    {
     "data": {
      "text/plain": [
       "{'Car brand': 'Mercedes Benz',\n",
       " 'Car name': 'G-class',\n",
       " 'Car price': 15000000,\n",
       " 'Car class': 'SUV'}"
      ]
     },
     "execution_count": 26,
     "metadata": {},
     "output_type": "execute_result"
    }
   ],
   "source": [
    "# Updating\n",
    "Car={'Car brand':'Mercedes Benz','Car name':'G-class','Car price': 15000000 , 'Car class': 'SUV'}\n",
    "Car"
   ]
  },
  {
   "cell_type": "code",
   "execution_count": 14,
   "id": "6849934c",
   "metadata": {},
   "outputs": [
    {
     "data": {
      "text/plain": [
       "{'Car brand': 'Mercedes Benz',\n",
       " 'Car name': 'G-class',\n",
       " 'Car price': 15000000,\n",
       " 'Car class': 'SUV',\n",
       " 'Car color': ['Grey', 'Black']}"
      ]
     },
     "execution_count": 14,
     "metadata": {},
     "output_type": "execute_result"
    }
   ],
   "source": [
    "Car.update({'Car color':['Grey','Black']})\n",
    "Car"
   ]
  },
  {
   "cell_type": "code",
   "execution_count": 42,
   "id": "2b18af3b",
   "metadata": {},
   "outputs": [
    {
     "data": {
      "text/plain": [
       "9"
      ]
     },
     "execution_count": 42,
     "metadata": {},
     "output_type": "execute_result"
    }
   ],
   "source": [
    "len(Cricket)"
   ]
  },
  {
   "cell_type": "code",
   "execution_count": 43,
   "id": "4615100e",
   "metadata": {},
   "outputs": [
    {
     "data": {
      "text/plain": [
       "0"
      ]
     },
     "execution_count": 43,
     "metadata": {},
     "output_type": "execute_result"
    }
   ],
   "source": [
    "list(Cricket.keys())[-1]"
   ]
  },
  {
   "cell_type": "code",
   "execution_count": 49,
   "id": "b5e40ff8",
   "metadata": {},
   "outputs": [
    {
     "name": "stdout",
     "output_type": "stream",
     "text": [
      "[0, 1, 2, 3, 4, 5, 6, 7, 8]\n"
     ]
    }
   ],
   "source": [
    "print(sorted(Cricket))"
   ]
  },
  {
   "cell_type": "code",
   "execution_count": 83,
   "id": "9ad7bc46",
   "metadata": {},
   "outputs": [
    {
     "name": "stdout",
     "output_type": "stream",
     "text": [
      "[(1, 'Tamil Nadu'), (2, 'Delhi'), (3, 'Karnataka'), (4, 'Maharashtra'), (5, 'Rajasthan'), (6, 'Punjab'), (7, 'West Bengal'), (8, 'Telangana')]\n"
     ]
    }
   ],
   "source": [
    "print(sorted(Cricket.items()))"
   ]
  },
  {
   "cell_type": "code",
   "execution_count": 16,
   "id": "74f564c6",
   "metadata": {},
   "outputs": [
    {
     "data": {
      "text/plain": [
       "{'Physics': 67, 'Maths': 87, 'Practical': 48}"
      ]
     },
     "execution_count": 16,
     "metadata": {},
     "output_type": "execute_result"
    }
   ],
   "source": [
    "marks = {'Physics':67, 'Maths':87}\n",
    "internal_marks = {'Practical':48}\n",
    "marks.update(internal_marks)\n",
    "marks"
   ]
  },
  {
   "cell_type": "code",
   "execution_count": 20,
   "id": "02defbf0",
   "metadata": {},
   "outputs": [
    {
     "data": {
      "text/plain": [
       "{1: 'one', 2: 'two'}"
      ]
     },
     "execution_count": 20,
     "metadata": {},
     "output_type": "execute_result"
    }
   ],
   "source": [
    "d = {1: \"one\", 2: \"three\"}\n",
    "d1 = {2: \"two\"}\n",
    "d.update(d1)    # In this dict d is getting updated according to dict 1\n",
    "d"
   ]
  },
  {
   "cell_type": "code",
   "execution_count": 29,
   "id": "8bb3e183",
   "metadata": {},
   "outputs": [
    {
     "data": {
      "text/plain": [
       "{'x': 2, 'y': 3, 'z': 0}"
      ]
     },
     "execution_count": 29,
     "metadata": {},
     "output_type": "execute_result"
    }
   ],
   "source": [
    "d = {'x': 2}\n",
    "d.update(y = 3, z = 0)   #Tuple\n",
    "d"
   ]
  },
  {
   "cell_type": "code",
   "execution_count": 22,
   "id": "40ee6d49",
   "metadata": {},
   "outputs": [
    {
     "name": "stdout",
     "output_type": "stream",
     "text": [
      "Original Marks: {'Physics': 67, 'Maths': 87}\n",
      "Copied Marks: {'Physics': 67, 'Maths': 87}\n"
     ]
    }
   ],
   "source": [
    "original_marks = {'Physics':67, 'Maths':87}\n",
    "copied_marks = original_marks.copy()\n",
    "print('Original Marks:', original_marks)   #Copy method\n",
    "print('Copied Marks:', copied_marks)\n"
   ]
  },
  {
   "cell_type": "code",
   "execution_count": 25,
   "id": "735bd598",
   "metadata": {},
   "outputs": [
    {
     "name": "stdout",
     "output_type": "stream",
     "text": [
      "Orignal:  {1: 'one', 2: 'two'}\n",
      "New:  {1: 'one', 2: 'two'}\n"
     ]
    }
   ],
   "source": [
    "original = {1:'one', 2:'two'}\n",
    "new = original.copy()\n",
    "\n",
    "\n",
    "print('Orignal: ', original)\n",
    "print('New: ', new)"
   ]
  },
  {
   "cell_type": "code",
   "execution_count": 26,
   "id": "f2694ee2",
   "metadata": {},
   "outputs": [
    {
     "data": {
      "text/plain": [
       "{}"
      ]
     },
     "execution_count": 26,
     "metadata": {},
     "output_type": "execute_result"
    }
   ],
   "source": [
    "new.clear()\n",
    "new"
   ]
  },
  {
   "cell_type": "code",
   "execution_count": 27,
   "id": "f9fef74a",
   "metadata": {},
   "outputs": [
    {
     "name": "stdout",
     "output_type": "stream",
     "text": [
      "67\n"
     ]
    }
   ],
   "source": [
    "marks = {'Physics':67, 'Maths':87}\n",
    "\n",
    "\n",
    "print(marks.get('Physics'))"
   ]
  },
  {
   "cell_type": "code",
   "execution_count": 29,
   "id": "dd332e8e",
   "metadata": {},
   "outputs": [
    {
     "name": "stdout",
     "output_type": "stream",
     "text": [
      "Name:  Phill\n",
      "Age:  22\n",
      "Salary:  None\n",
      "Salary:  0.0\n"
     ]
    }
   ],
   "source": [
    "person = {'name': 'Phill', 'age': 22}\n",
    "person\n",
    "\n",
    "print('Name: ', person.get('name'))\n",
    "\n",
    "print('Age: ', person.get('age'))\n",
    "\n",
    "# value is not provided\n",
    "print('Salary: ', person.get('salary'))\n",
    "\n",
    "\n",
    "# value is provided\n",
    "print('Salary: ', person.get('salary', 0.0))"
   ]
  },
  {
   "cell_type": "code",
   "execution_count": 30,
   "id": "732603b3",
   "metadata": {},
   "outputs": [
    {
     "name": "stdout",
     "output_type": "stream",
     "text": [
      "Popped Marks: 72\n"
     ]
    }
   ],
   "source": [
    "# create a dictionary   .pop = remove the value\n",
    "marks = { 'Physics': 67, 'Chemistry': 72, 'Math': 89 }\n",
    "\n",
    "element = marks.pop('Chemistry')\n",
    "\n",
    "print('Popped Marks:', element)"
   ]
  },
  {
   "cell_type": "code",
   "execution_count": 31,
   "id": "653d4f92",
   "metadata": {},
   "outputs": [
    {
     "data": {
      "text/plain": [
       "{'Physics': 67, 'Math': 89}"
      ]
     },
     "execution_count": 31,
     "metadata": {},
     "output_type": "execute_result"
    }
   ],
   "source": [
    "marks"
   ]
  },
  {
   "cell_type": "code",
   "execution_count": 32,
   "id": "4cf0f079",
   "metadata": {},
   "outputs": [
    {
     "data": {
      "text/plain": [
       "dict_items([('Physics', 67), ('Math', 89)])"
      ]
     },
     "execution_count": 32,
     "metadata": {},
     "output_type": "execute_result"
    }
   ],
   "source": [
    "marks.items()    #items is a function in the dictionary in which by default returns all the value in the form of tuples "
   ]
  },
  {
   "cell_type": "markdown",
   "id": "807d14be",
   "metadata": {},
   "source": [
    "# Homework"
   ]
  },
  {
   "cell_type": "markdown",
   "id": "c01422d0",
   "metadata": {},
   "source": [
    "Q1.   Make a dictionary and use multiple type of fnction inside it"
   ]
  },
  {
   "cell_type": "code",
   "execution_count": 22,
   "id": "d9c1dc1b",
   "metadata": {},
   "outputs": [
    {
     "data": {
      "text/plain": [
       "{'Mercedes benz': {'G-Class': 'Dark Grey',\n",
       "  'AMG GT': 'Black',\n",
       "  'S Class': 'White'},\n",
       " 'BMW': {'X7': 'Black', '7Series': 'Grey', 'M8': 'Dark Blue'},\n",
       " 'Audi': {'e-tron GT': 'Grey', 'Q8': 'Black', 'RS5': 'Blue'},\n",
       " 'Jeep': {'Wrangler': 'Green', 'Compass': 'Yellow'},\n",
       " 'Volvo': {'XC90': 'White', 'XC60': 'Black', 'S90': 'Purple'},\n",
       " 'Land Rover': {'Range Rover': 'Red',\n",
       "  'Range Rover Sport': 'Shine Blue',\n",
       "  'Range Rover Velar': 'Dusty Black'},\n",
       " 'Tesla': {'Model 3': 'Pearl White', 'Model S': 'Blue'},\n",
       " 'Maserati': {'Ghibli': 'Shine Grey',\n",
       "  'Levante': 'Royal Blue',\n",
       "  'Quattroporte': 'Brown'}}"
      ]
     },
     "execution_count": 22,
     "metadata": {},
     "output_type": "execute_result"
    }
   ],
   "source": [
    "SuperCar={'Mercedes benz':{'G-Class':'Dark Grey','AMG GT':'Black','S Class':'White'},\n",
    "          'BMW':{'X7':'Black','7Series':'Grey','M8':'Dark Blue'},\n",
    "          'Audi':{'e-tron GT':'Grey','Q8':'Black','RS5':'Blue'},\n",
    "          'Jeep':{'Wrangler':'Green','Compass':'Yellow'},\n",
    "          'Volvo':{'XC90':'White','XC60':'Black','S90':'Purple'},\n",
    "          'Land Rover':{'Range Rover':'Red','Range Rover Sport':'Shine Blue','Range Rover Velar':'Dusty Black'},\n",
    "          'Tesla':{'Model 3':'Pearl White','Model S':'Blue'},\n",
    "          'Maserati':{'Ghibli':'Shine Grey','Levante':'Royal Blue','Quattroporte':'Brown'}}\n",
    "SuperCar         "
   ]
  },
  {
   "cell_type": "code",
   "execution_count": 79,
   "id": "724290e8",
   "metadata": {},
   "outputs": [
    {
     "data": {
      "text/plain": [
       "['Mercedes benz',\n",
       " 'BMW',\n",
       " 'Audi',\n",
       " 'Jeep',\n",
       " 'Volvo',\n",
       " 'Land Rover',\n",
       " 'Tesla',\n",
       " 'Maserati']"
      ]
     },
     "execution_count": 79,
     "metadata": {},
     "output_type": "execute_result"
    }
   ],
   "source": [
    "list(SuperCar.keys())"
   ]
  },
  {
   "cell_type": "code",
   "execution_count": 26,
   "id": "6bc7f1a4",
   "metadata": {},
   "outputs": [
    {
     "ename": "TypeError",
     "evalue": "unhashable type: 'dict'",
     "output_type": "error",
     "traceback": [
      "\u001b[1;31m---------------------------------------------------------------------------\u001b[0m",
      "\u001b[1;31mTypeError\u001b[0m                                 Traceback (most recent call last)",
      "\u001b[1;32m<ipython-input-26-b1e6a975679e>\u001b[0m in \u001b[0;36m<module>\u001b[1;34m\u001b[0m\n\u001b[1;32m----> 1\u001b[1;33m \u001b[0mset\u001b[0m\u001b[1;33m(\u001b[0m\u001b[0mSuperCar\u001b[0m\u001b[1;33m.\u001b[0m\u001b[0mvalues\u001b[0m\u001b[1;33m(\u001b[0m\u001b[1;33m)\u001b[0m\u001b[1;33m)\u001b[0m\u001b[1;33m\u001b[0m\u001b[1;33m\u001b[0m\u001b[0m\n\u001b[0m",
      "\u001b[1;31mTypeError\u001b[0m: unhashable type: 'dict'"
     ]
    }
   ],
   "source": [
    "set(SuperCar.values())"
   ]
  },
  {
   "cell_type": "code",
   "execution_count": 80,
   "id": "ab378fbc",
   "metadata": {},
   "outputs": [
    {
     "data": {
      "text/plain": [
       "{'Mercedes benz': {'G-Class': 'Dark Grey',\n",
       "  'AMG GT': 'Black',\n",
       "  'S Class': 'White'},\n",
       " 'BMW': {'X7': 'Black', '7Series': 'Grey', 'M8': 'Dark Blue'},\n",
       " 'Audi': {'e-tron GT': 'Grey', 'Q8': 'Black', 'RS5': 'Blue'},\n",
       " 'Jeep': {'Wrangler': 'Green', 'Compass': 'Yellow'},\n",
       " 'Volvo': {'XC90': 'White', 'XC60': 'Black', 'S90': 'Purple'},\n",
       " 'Land Rover': {'Range Rover': 'Red',\n",
       "  'Range Rover Sport': 'Shine Blue',\n",
       "  'Range Rover Velar': 'Dusty Black'},\n",
       " 'Tesla': {'Model 3': 'Pearl White', 'Model S': 'Blue'},\n",
       " 'Maserati': {'Ghibli': 'Shine Grey',\n",
       "  'Levante': 'Royal Blue',\n",
       "  'Quattroporte': 'Brown'}}"
      ]
     },
     "execution_count": 80,
     "metadata": {},
     "output_type": "execute_result"
    }
   ],
   "source": [
    "SuperCar"
   ]
  },
  {
   "cell_type": "code",
   "execution_count": 52,
   "id": "87066d7a",
   "metadata": {},
   "outputs": [
    {
     "data": {
      "text/plain": [
       "dict_items([('Mercedes benz', {'G-Class': 'Dark Grey', 'AMG GT': 'Black', 'S Class': 'White'}), ('BMW', {'X7': 'Black', '7Series': 'Grey', 'M8': 'Dark Blue'}), ('Audi', {'e-tron GT': 'Grey', 'Q8': 'Black', 'RS5': 'Blue'}), ('Jeep', {'Wrangler': 'Green', 'Compass': 'Yellow'}), ('Volvo', {'XC90': 'White', 'XC60': 'Black', 'S90': 'Purple'}), ('Land Rover', {'Range Rover': 'Red', 'Range Rover Sport': 'Shine Blue', 'Range Rover Velar': 'Dusty Black'}), ('Tesla', {'Model 3': 'Pearl White', 'Model S': 'Blue'}), ('Maserati', {'Ghibli': 'Shine Grey', 'Levante': 'Royal Blue', 'Quattroporte': 'Brown'})])"
      ]
     },
     "execution_count": 52,
     "metadata": {},
     "output_type": "execute_result"
    }
   ],
   "source": [
    "SuperCar.items()"
   ]
  },
  {
   "cell_type": "code",
   "execution_count": 63,
   "id": "e6aa700e",
   "metadata": {},
   "outputs": [
    {
     "data": {
      "text/plain": [
       "({'Mercedes benz': {'G-Class': {'Speed': 137},\n",
       "   'AMG GT': {'Speed': 312},\n",
       "   'S Class': {'Speed': 155}},\n",
       "  'BMW': {'X7': {'Speed': 250},\n",
       "   '7Series': {'Speed': 250},\n",
       "   'M8': {'Speed': 305}},\n",
       "  'Audi': {'e-tron GT': {'Speed': 245},\n",
       "   'Q8': {'Speed': 130},\n",
       "   'RS5': {'Speed': 250}},\n",
       "  'Jeep': {'Wrangler': {'Speed': 210}, 'Compass': {'Speed': 172}},\n",
       "  'Volvo': {'XC90': {'Speed': 220},\n",
       "   'XC60': {'Speed': 140},\n",
       "   'S90': {'Speed': 230}},\n",
       "  'Land Rover': {'Range Rover': {'Speed': 209},\n",
       "   'Range Rover Sport': {'Speed': 209},\n",
       "   'Range Rover Velar': {'Speed': 210}},\n",
       "  'Tesla': {'Model 3': {'Speed': 162}, 'Model S': {'Speed': 155}},\n",
       "  'Maserati': {'Ghibli': {'Speed': 166},\n",
       "   'Levante': {'Speed': 164},\n",
       "   'Quattroporte': {'Speed': 177}}},)"
      ]
     },
     "execution_count": 63,
     "metadata": {},
     "output_type": "execute_result"
    }
   ],
   "source": [
    "CarSpeed={'Mercedes benz':{'G-Class':{'Speed':137},'AMG GT':{'Speed':312},'S Class':{'Speed':155}},\n",
    "          'BMW':{'X7':{'Speed':250},'7Series':{'Speed':250},'M8':{'Speed':305}},\n",
    "          'Audi':{'e-tron GT':{'Speed':245},'Q8':{'Speed':130},'RS5':{'Speed':250}},\n",
    "          'Jeep':{'Wrangler':{'Speed':210},'Compass':{'Speed':172}},\n",
    "          'Volvo':{'XC90':{'Speed':220},'XC60':{'Speed':140},'S90':{'Speed':230}},\n",
    "          'Land Rover':{'Range Rover':{'Speed':209},'Range Rover Sport':{'Speed':209},'Range Rover Velar':{'Speed':210}},\n",
    "          'Tesla':{'Model 3':{'Speed':162},'Model S':{'Speed':155}},\n",
    "          'Maserati':{'Ghibli':{'Speed':166},'Levante':{'Speed':164},'Quattroporte':{'Speed':177}}},\n",
    "CarSpeed"
   ]
  },
  {
   "cell_type": "code",
   "execution_count": 39,
   "id": "3e4ba541",
   "metadata": {},
   "outputs": [
    {
     "data": {
      "text/plain": [
       "{'Mercedes benz': {'G-Class': 'Dark Grey',\n",
       "  'AMG GT': 'Black',\n",
       "  'S Class': 'White'}}"
      ]
     },
     "execution_count": 39,
     "metadata": {},
     "output_type": "execute_result"
    }
   ],
   "source": [
    "Car={'Mercedes benz':{'G-Class':'Dark Grey' ,'AMG GT':'Black','S Class':'White'}}\n",
    "Car"
   ]
  },
  {
   "cell_type": "code",
   "execution_count": 146,
   "id": "a5f1c213",
   "metadata": {},
   "outputs": [
    {
     "name": "stdout",
     "output_type": "stream",
     "text": [
      "Original : {'Mercedes benz': {'G-Class': {'Speed': 137}, 'AMG GT': {'Speed': 312}, 'S Class': {'Speed': 155}}, 'BMW': {'X7': {'Speed': 250}, '7Series': {'Speed': 250}, 'M8': {'Speed': 305}}, 'Audi': {'e-tron GT': {'Speed': 245}, 'Q8': {'Speed': 130}, 'RS5': {'Speed': 250}}, 'Jeep': {'Wrangler': {'Speed': 210}, 'Compass': {'Speed': 172}}, 'Volvo': {'XC90': {'Speed': 220}, 'XC60': {'Speed': 140}, 'S90': {'Speed': 230}}, 'Land Rover': {'Range Rover': {'Speed': 209}, 'Range Rover Sport': {'Speed': 209}, 'Range Rover Velar': {'Speed': 210}}, 'Tesla': {'Model 3': {'Speed': 162}, 'Model S': {'Speed': 155}}, 'Maserati': {'Ghibli': {'Speed': 166}, 'Levante': {'Speed': 164}, 'Quattroporte': {'Speed': 177}}}\n",
      "Copy : {'Mercedes benz': {'G-Class': {'Speed': 137}, 'AMG GT': {'Speed': 312}, 'S Class': {'Speed': 155}}, 'BMW': {'X7': {'Speed': 250}, '7Series': {'Speed': 250}, 'M8': {'Speed': 305}}, 'Audi': {'e-tron GT': {'Speed': 245}, 'Q8': {'Speed': 130}, 'RS5': {'Speed': 250}}, 'Jeep': {'Wrangler': {'Speed': 210}, 'Compass': {'Speed': 172}}, 'Volvo': {'XC90': {'Speed': 220}, 'XC60': {'Speed': 140}, 'S90': {'Speed': 230}}, 'Land Rover': {'Range Rover': {'Speed': 209}, 'Range Rover Sport': {'Speed': 209}, 'Range Rover Velar': {'Speed': 210}}, 'Tesla': {'Model 3': {'Speed': 162}, 'Model S': {'Speed': 155}}, 'Maserati': {'Ghibli': {'Speed': 166}, 'Levante': {'Speed': 164}, 'Quattroporte': {'Speed': 177}}}\n"
     ]
    }
   ],
   "source": [
    "original_data={'Mercedes benz':{'G-Class':{'Speed':137},'AMG GT':{'Speed':312},'S Class':{'Speed':155}},\n",
    "          'BMW':{'X7':{'Speed':250},'7Series':{'Speed':250},'M8':{'Speed':305}},\n",
    "          'Audi':{'e-tron GT':{'Speed':245},'Q8':{'Speed':130},'RS5':{'Speed':250}},\n",
    "          'Jeep':{'Wrangler':{'Speed':210},'Compass':{'Speed':172}},\n",
    "          'Volvo':{'XC90':{'Speed':220},'XC60':{'Speed':140},'S90':{'Speed':230}},\n",
    "          'Land Rover':{'Range Rover':{'Speed':209},'Range Rover Sport':{'Speed':209},'Range Rover Velar':{'Speed':210}},\n",
    "          'Tesla':{'Model 3':{'Speed':162},'Model S':{'Speed':155}},\n",
    "          'Maserati':{'Ghibli':{'Speed':166},'Levante':{'Speed':164},'Quattroporte':{'Speed':177}}}\n",
    "copied_data = original_data.copy()\n",
    "print('Original :',original_data)\n",
    "print('Copy :',copied_data)"
   ]
  },
  {
   "cell_type": "code",
   "execution_count": 150,
   "id": "d01758ec",
   "metadata": {},
   "outputs": [
    {
     "data": {
      "text/plain": [
       "{}"
      ]
     },
     "execution_count": 150,
     "metadata": {},
     "output_type": "execute_result"
    }
   ],
   "source": [
    "copied_data.clear()\n",
    "copied_data"
   ]
  },
  {
   "cell_type": "code",
   "execution_count": 151,
   "id": "84a717bd",
   "metadata": {},
   "outputs": [
    {
     "data": {
      "text/plain": [
       "{'Mercedes benz': {'G-Class': {'Speed': 137},\n",
       "  'AMG GT': {'Speed': 312},\n",
       "  'S Class': {'Speed': 155}},\n",
       " 'BMW': {'X7': {'Speed': 250},\n",
       "  '7Series': {'Speed': 250},\n",
       "  'M8': {'Speed': 305}},\n",
       " 'Audi': {'e-tron GT': {'Speed': 245},\n",
       "  'Q8': {'Speed': 130},\n",
       "  'RS5': {'Speed': 250}},\n",
       " 'Jeep': {'Wrangler': {'Speed': 210}, 'Compass': {'Speed': 172}},\n",
       " 'Volvo': {'XC90': {'Speed': 220},\n",
       "  'XC60': {'Speed': 140},\n",
       "  'S90': {'Speed': 230}},\n",
       " 'Land Rover': {'Range Rover': {'Speed': 209},\n",
       "  'Range Rover Sport': {'Speed': 209},\n",
       "  'Range Rover Velar': {'Speed': 210}},\n",
       " 'Tesla': {'Model 3': {'Speed': 162}, 'Model S': {'Speed': 155}},\n",
       " 'Maserati': {'Ghibli': {'Speed': 166},\n",
       "  'Levante': {'Speed': 164},\n",
       "  'Quattroporte': {'Speed': 177}}}"
      ]
     },
     "execution_count": 151,
     "metadata": {},
     "output_type": "execute_result"
    }
   ],
   "source": [
    "original_data"
   ]
  },
  {
   "cell_type": "code",
   "execution_count": 17,
   "id": "7beee59a",
   "metadata": {},
   "outputs": [
    {
     "name": "stdout",
     "output_type": "stream",
     "text": [
      "None\n"
     ]
    }
   ],
   "source": [
    "print(SuperCar.get('Mercedes Benz'))"
   ]
  },
  {
   "cell_type": "code",
   "execution_count": 18,
   "id": "f5133e5f",
   "metadata": {},
   "outputs": [
    {
     "name": "stdout",
     "output_type": "stream",
     "text": [
      "None\n"
     ]
    }
   ],
   "source": [
    "print(SuperCar.get('G Class'))"
   ]
  },
  {
   "cell_type": "markdown",
   "id": "afbce4bd",
   "metadata": {},
   "source": [
    "Q2. Create a dictionary with student name, roll no., address, marks and percentage. then create dictionary with student past fail status ad attendence. Update this dictionary in single dictionary. "
   ]
  },
  {
   "cell_type": "code",
   "execution_count": 10,
   "id": "6ea26014",
   "metadata": {},
   "outputs": [
    {
     "data": {
      "text/plain": [
       "{'Student name': 'Sam Roshal',\n",
       " 'Roll no.': 1105,\n",
       " 'Address': 'Manchester Road New york',\n",
       " 'Marks': [20, 15, 16, 19, 19],\n",
       " 'Percentage': 89}"
      ]
     },
     "execution_count": 10,
     "metadata": {},
     "output_type": "execute_result"
    }
   ],
   "source": [
    "Student1 = {'Student name':'Sam Roshal','Roll no.':1105,'Address':'Manchester Road New york','Marks':[20,15,16,19,19],'Percentage':89}\n",
    "Student1         "
   ]
  },
  {
   "cell_type": "code",
   "execution_count": 11,
   "id": "5ff42832",
   "metadata": {},
   "outputs": [
    {
     "data": {
      "text/plain": [
       "{'Student name': 'Sam Roshal',\n",
       " 'Roll no.': 1105,\n",
       " 'Address': 'Manchester Road New york',\n",
       " 'Marks': [20, 15, 16, 19, 19],\n",
       " 'Percentage': 89,\n",
       " 'Attendence': 240,\n",
       " 'Past fail': 'No'}"
      ]
     },
     "execution_count": 11,
     "metadata": {},
     "output_type": "execute_result"
    }
   ],
   "source": [
    "Student1.update({'Attendence':240,'Past fail':'No'})\n",
    "Student1"
   ]
  },
  {
   "cell_type": "markdown",
   "id": "61f869c5",
   "metadata": {},
   "source": [
    "Q3. Create a key value in student with a key name as gender and update in existing dictionary."
   ]
  },
  {
   "cell_type": "code",
   "execution_count": 3,
   "id": "e0401730",
   "metadata": {},
   "outputs": [
    {
     "data": {
      "text/plain": [
       "{'Student name': 'Sam Roshal',\n",
       " 'Roll no.': 1105,\n",
       " 'Address': 'Manchester Road New york',\n",
       " 'Marks': [20, 15, 16, 19, 19],\n",
       " 'Percentage': 89,\n",
       " 'Attendence': 240,\n",
       " 'Past fail': 'No',\n",
       " 'Gender': 'Female'}"
      ]
     },
     "execution_count": 3,
     "metadata": {},
     "output_type": "execute_result"
    }
   ],
   "source": [
    "Student1['Gender']='Female'\n",
    "Student1"
   ]
  },
  {
   "cell_type": "code",
   "execution_count": 7,
   "id": "c00cf8ad",
   "metadata": {},
   "outputs": [
    {
     "data": {
      "text/plain": [
       "{'gender': 'Female'}"
      ]
     },
     "execution_count": 7,
     "metadata": {},
     "output_type": "execute_result"
    }
   ],
   "source": [
    "Studentinfo={'gender':'Female'}\n",
    "Studentinfo"
   ]
  },
  {
   "cell_type": "code",
   "execution_count": 8,
   "id": "b91243e1",
   "metadata": {},
   "outputs": [
    {
     "data": {
      "text/plain": [
       "{'Student name': 'Sam Roshal',\n",
       " 'Roll no.': 1105,\n",
       " 'Address': 'Manchester Road New york',\n",
       " 'Marks': [20, 15, 16, 19, 19],\n",
       " 'Percentage': 89,\n",
       " 'Attendence': 240,\n",
       " 'Gender': 'Female',\n",
       " 'gender': 'Female'}"
      ]
     },
     "execution_count": 8,
     "metadata": {},
     "output_type": "execute_result"
    }
   ],
   "source": [
    "Student1.update(Studentinfo)\n",
    "Student1"
   ]
  },
  {
   "cell_type": "code",
   "execution_count": 12,
   "id": "d5f64ece",
   "metadata": {},
   "outputs": [
    {
     "name": "stdout",
     "output_type": "stream",
     "text": [
      "Popped Fail: No\n"
     ]
    }
   ],
   "source": [
    "element=Student1.pop('Past fail')\n",
    "print('Popped Fail:',element)"
   ]
  },
  {
   "cell_type": "code",
   "execution_count": 13,
   "id": "6affafc9",
   "metadata": {},
   "outputs": [
    {
     "data": {
      "text/plain": [
       "{'Student name': 'Sam Roshal',\n",
       " 'Roll no.': 1105,\n",
       " 'Address': 'Manchester Road New york',\n",
       " 'Marks': [20, 15, 16, 19, 19],\n",
       " 'Percentage': 89,\n",
       " 'Attendence': 240}"
      ]
     },
     "execution_count": 13,
     "metadata": {},
     "output_type": "execute_result"
    }
   ],
   "source": [
    "Student1"
   ]
  },
  {
   "cell_type": "code",
   "execution_count": 19,
   "id": "d4df6b3d",
   "metadata": {},
   "outputs": [
    {
     "name": "stdout",
     "output_type": "stream",
     "text": [
      "[20, 15, 16, 19, 19]\n"
     ]
    }
   ],
   "source": [
    "print(Student1.get('Marks'))"
   ]
  },
  {
   "cell_type": "code",
   "execution_count": 15,
   "id": "13cf22d0",
   "metadata": {},
   "outputs": [
    {
     "name": "stdout",
     "output_type": "stream",
     "text": [
      "<class 'dict'>\n"
     ]
    }
   ],
   "source": [
    "print(type(Student1))"
   ]
  },
  {
   "cell_type": "code",
   "execution_count": null,
   "id": "785a6523",
   "metadata": {},
   "outputs": [],
   "source": [
    "Info={'Name':'Sam','Age':17}"
   ]
  }
 ],
 "metadata": {
  "kernelspec": {
   "display_name": "Python 3",
   "language": "python",
   "name": "python3"
  },
  "language_info": {
   "codemirror_mode": {
    "name": "ipython",
    "version": 3
   },
   "file_extension": ".py",
   "mimetype": "text/x-python",
   "name": "python",
   "nbconvert_exporter": "python",
   "pygments_lexer": "ipython3",
   "version": "3.8.8"
  }
 },
 "nbformat": 4,
 "nbformat_minor": 5
}
