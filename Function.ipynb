{
 "cells": [
  {
   "cell_type": "markdown",
   "id": "f29161c9",
   "metadata": {},
   "source": [
    "Function is a block of code whichh is reuseable that is use to single, related action . There are two types of function \n",
    "1. Inbuild function \n",
    "2. Userdefine function"
   ]
  },
  {
   "cell_type": "markdown",
   "id": "3cbe4ec2",
   "metadata": {},
   "source": [
    "1. def function_name(parameters):\n",
    "2.     function_body\n",
    "3. function_name(value)    "
   ]
  },
  {
   "cell_type": "code",
   "execution_count": 1,
   "id": "bf0521c5",
   "metadata": {},
   "outputs": [
    {
     "data": {
      "text/plain": [
       "5"
      ]
     },
     "execution_count": 1,
     "metadata": {},
     "output_type": "execute_result"
    }
   ],
   "source": [
    "def add (a,b):\n",
    "    return a+b\n",
    "add(2,3)"
   ]
  },
  {
   "cell_type": "code",
   "execution_count": 5,
   "id": "438a6b1d",
   "metadata": {},
   "outputs": [
    {
     "data": {
      "text/plain": [
       "8"
      ]
     },
     "execution_count": 5,
     "metadata": {},
     "output_type": "execute_result"
    }
   ],
   "source": [
    "def sqroot (c):\n",
    "    return c**3\n",
    "sqroot(2)"
   ]
  },
  {
   "cell_type": "code",
   "execution_count": 6,
   "id": "135c78e5",
   "metadata": {},
   "outputs": [
    {
     "name": "stdout",
     "output_type": "stream",
     "text": [
      "Name:  miki\n",
      "Age  50\n"
     ]
    }
   ],
   "source": [
    "def printinfo( name, age ):\n",
    "   \"This prints a passed info into this function\"\n",
    "   print (\"Name: \", name)\n",
    "   print (\"Age \", age)\n",
    "   return\n",
    "printinfo( age = 50, name = \"miki\" )"
   ]
  },
  {
   "cell_type": "code",
   "execution_count": 7,
   "id": "b9ff4b04",
   "metadata": {},
   "outputs": [
    {
     "name": "stdout",
     "output_type": "stream",
     "text": [
      "Name:  miki\n",
      "Age  50\n",
      "Name:  miki\n",
      "Age  35\n"
     ]
    }
   ],
   "source": [
    "def printinfo( name, age = 35 ):\n",
    "   \"This prints a passed info into this function\"\n",
    "   print (\"Name: \", name)\n",
    "   print (\"Age \", age)\n",
    "   return\n",
    "# Now you can call printinfo function\n",
    "printinfo( age = 50, name = \"miki\" )\n",
    "printinfo( name = \"miki\" )"
   ]
  },
  {
   "cell_type": "markdown",
   "id": "1fe036e1",
   "metadata": {},
   "source": [
    "Variable length argument = To process a function for more arguments spicfy while defining the function , variable length arguments are use. these argument are not name in function argument . it starts with  *"
   ]
  },
  {
   "cell_type": "code",
   "execution_count": 12,
   "id": "a67de649",
   "metadata": {},
   "outputs": [
    {
     "name": "stdout",
     "output_type": "stream",
     "text": [
      "Output is: \n",
      "10\n",
      "Output is: \n",
      "70\n",
      "60\n",
      "50\n"
     ]
    }
   ],
   "source": [
    "def printinfo( arg1, *varlist ):\n",
    "   \"This prints a variable passed arguments\"\n",
    "   print (\"Output is: \")\n",
    "   print (arg1)\n",
    "   \n",
    "   for var in varlist:\n",
    "      print (var)\n",
    "      type(var)\n",
    "   return\n",
    "\n",
    "# Now you can call printinfo function\n",
    "printinfo( 10 )\n",
    "printinfo( 70, 60, 50 )\n"
   ]
  },
  {
   "cell_type": "markdown",
   "id": "455f802e",
   "metadata": {},
   "source": [
    "Lambda function is use to create small annonymous function ."
   ]
  },
  {
   "cell_type": "code",
   "execution_count": 11,
   "id": "07622587",
   "metadata": {},
   "outputs": [
    {
     "name": "stdout",
     "output_type": "stream",
     "text": [
      "Value of total :  30\n",
      "Value of total :  40\n"
     ]
    }
   ],
   "source": [
    "sum = lambda arg1, arg2: arg1 + arg2\n",
    "\n",
    "# Now you can call sum as a function\n",
    "print (\"Value of total : \", sum( 10, 20 ))\n",
    "print (\"Value of total : \", sum( 20, 20 ))"
   ]
  },
  {
   "cell_type": "code",
   "execution_count": 12,
   "id": "573300c6",
   "metadata": {},
   "outputs": [
    {
     "name": "stdout",
     "output_type": "stream",
     "text": [
      "Hello, Paul. Good morning!\n"
     ]
    }
   ],
   "source": [
    "def greet(name):\n",
    "    \"\"\"\n",
    "    This function greets to\n",
    "    the person passed in as\n",
    "    a parameter\n",
    "    \"\"\"\n",
    "    print(\"Hello, \" + name + \". Good morning!\")\n",
    "\n",
    "greet('Paul')"
   ]
  },
  {
   "cell_type": "code",
   "execution_count": 14,
   "id": "15c95d42",
   "metadata": {},
   "outputs": [
    {
     "name": "stdout",
     "output_type": "stream",
     "text": [
      "2\n",
      "3\n"
     ]
    }
   ],
   "source": [
    "def absolute_value(num):\n",
    "    \"\"\"This function returns the absolute\n",
    "    value of the entered number\"\"\"\n",
    "\n",
    "    if num >= 0:\n",
    "        return num\n",
    "    else:\n",
    "        return -num\n",
    "\n",
    "\n",
    "print(absolute_value(2))\n",
    "\n",
    "print(absolute_value(-3))"
   ]
  },
  {
   "cell_type": "code",
   "execution_count": 18,
   "id": "b232cbef",
   "metadata": {},
   "outputs": [
    {
     "name": "stdout",
     "output_type": "stream",
     "text": [
      "Value inside function: 30\n",
      "Value inside function: 10\n",
      "Value outside function: 20\n"
     ]
    }
   ],
   "source": [
    "def my_func( x = 10):\n",
    "    # x = 10\n",
    "    print(\"Value inside function:\",x)\n",
    "\n",
    "x = 20\n",
    "my_func(x=30)\n",
    "my_func()\n",
    "print(\"Value outside function:\",x)\n"
   ]
  },
  {
   "cell_type": "markdown",
   "id": "a7a58ae5",
   "metadata": {},
   "source": [
    "Write a program to create a function that takes two arguments, name and age, and print their value.\n"
   ]
  },
  {
   "cell_type": "code",
   "execution_count": 17,
   "id": "eaf05fa7",
   "metadata": {},
   "outputs": [
    {
     "name": "stdout",
     "output_type": "stream",
     "text": [
      "Name : Sam\n",
      "Age: 18\n",
      "Name : Anu\n",
      "Age: 19\n"
     ]
    }
   ],
   "source": [
    "def personinfo (name,age):\n",
    "    print('Name :',name)\n",
    "    print('Age:',age)\n",
    "    return\n",
    "personinfo( age = 18 , name = 'Sam')\n",
    "personinfo(age = 19 , name = 'Anu')"
   ]
  },
  {
   "cell_type": "markdown",
   "id": "ea6f36bd",
   "metadata": {},
   "source": [
    "Write a program to create function func1() to accept a variable length of arguments and print their value."
   ]
  },
  {
   "cell_type": "code",
   "execution_count": 26,
   "id": "156e4910",
   "metadata": {},
   "outputs": [
    {
     "name": "stdout",
     "output_type": "stream",
     "text": [
      "7\n",
      "10\n",
      "0\n"
     ]
    }
   ],
   "source": [
    "def func1(*vartuple):\n",
    "    \n",
    "    for var in vartuple:\n",
    "      print(var)\n",
    "func1 ( 7, 10, 0 )\n",
    "    "
   ]
  },
  {
   "cell_type": "markdown",
   "id": "44ca5acb",
   "metadata": {},
   "source": [
    "Write a program to create function calculation() such that it can accept two variables and calculate addition and subtraction. Also, it must return both addition and subtraction in a single return call.\n",
    "\n",
    "Write a program to create a function show_employee() using the following conditions.\n",
    "\n",
    "It should accept the employee’s name and salary and display both.\n",
    "If the salary is missing in the function call then assign default value 9000 to salary\n"
   ]
  },
  {
   "cell_type": "code",
   "execution_count": 1,
   "id": "1b3d3fc2",
   "metadata": {},
   "outputs": [
    {
     "data": {
      "text/plain": [
       "(60, -20)"
      ]
     },
     "execution_count": 1,
     "metadata": {},
     "output_type": "execute_result"
    }
   ],
   "source": [
    "def calculation (a,b):\n",
    "    res1=a+b\n",
    "    res2=a-b\n",
    "    return res1,res2\n",
    "calculation(20,10)\n",
    "calculation(20,40) "
   ]
  },
  {
   "cell_type": "code",
   "execution_count": 19,
   "id": "e5014b95",
   "metadata": {},
   "outputs": [
    {
     "name": "stdout",
     "output_type": "stream",
     "text": [
      "Name: Sam\n",
      "Salary: 23000\n",
      "Name: Ram\n",
      "Salary: 9000\n"
     ]
    }
   ],
   "source": [
    "def show_employee(name,salary=9000):\n",
    "    print('Name:',name)\n",
    "    print('Salary:',salary)\n",
    "    return \n",
    "show_employee(name='Sam',salary=23000)\n",
    "show_employee(name='Ram')"
   ]
  },
  {
   "cell_type": "markdown",
   "id": "bc190467",
   "metadata": {},
   "source": [
    "Q. Write a program in python to solve the fizzbuzz problem.\n",
    "if the number is divisible by 3 and 5 then print fizzbuzz.\n",
    "if the number is divisible by only 3 then print fizz.\n",
    "if the number is only divisible by only 5 then print buzz.\n",
    "else return the no. it self"
   ]
  },
  {
   "cell_type": "code",
   "execution_count": 24,
   "id": "e6dd52a3",
   "metadata": {},
   "outputs": [
    {
     "name": "stdout",
     "output_type": "stream",
     "text": [
      "Enter your no.:30\n",
      "It is fizzbuzz\n"
     ]
    }
   ],
   "source": [
    "Val1 = int(input('Enter your no.:'))\n",
    "\n",
    "def divisible(Val1):\n",
    "    \n",
    "    if Val1 % 3 == 0 and Val1 % 5 == 0:\n",
    "        print('It is fizzbuzz')\n",
    "    elif Val1 % 3 == 0:\n",
    "        print('It is a fizz')\n",
    "    elif Val1 % 5 == 0:\n",
    "        print('It is a buzz')\n",
    "    else:\n",
    "        return Val1\n",
    "divisible (Val1)   \n",
    "    "
   ]
  },
  {
   "cell_type": "markdown",
   "id": "2876b8b4",
   "metadata": {},
   "source": [
    "Q. Prepare a calculator "
   ]
  },
  {
   "cell_type": "code",
   "execution_count": 57,
   "id": "6b7732d7",
   "metadata": {},
   "outputs": [
    {
     "name": "stdout",
     "output_type": "stream",
     "text": [
      "Select the option=>\n",
      "1. Addition\n",
      "2. Substraction\n",
      "3. Multiplication\n",
      "4. Division\n",
      "Choose between (1,2,3,4):4\n",
      "Enter first value:15\n",
      "Enter second value:3\n",
      "15 / 3 = 5.0\n"
     ]
    }
   ],
   "source": [
    "def addition (x , y):\n",
    "    return x + y\n",
    "def substraction (x , y):\n",
    "    return x - y\n",
    "def multiplication (x , y):\n",
    "    return x * y\n",
    "def division (x , y):\n",
    "    return x / y\n",
    "    \n",
    "print('Select the option=>') \n",
    "print('1. Addition')\n",
    "print('2. Substraction')\n",
    "print('3. Multiplication')\n",
    "print('4. Division')\n",
    "\n",
    "choice = input('Choose between (1,2,3,4):')\n",
    "\n",
    "\n",
    "int1 = int(input('Enter first value:'))\n",
    "int2 = int(input('Enter second value:'))\n",
    "\n",
    "if choice == '1':\n",
    "    print(int1,'+',int2,'=',addition(int1 , int2))\n",
    "elif choice == '2':\n",
    "    print(int1,'-',int2,'=',substraction(int1 , int2))\n",
    "elif choice == '3':\n",
    "    print(int1,'*',int2,'=',multiplication(int1 , int2))\n",
    "elif choice == '4':\n",
    "    print(int1,'/',int2,'=',division(int1 , int2))   \n",
    "    \n",
    "else :\n",
    "    print('sorry ,We donot have the operator')\n"
   ]
  },
  {
   "cell_type": "code",
   "execution_count": 58,
   "id": "39844eb0",
   "metadata": {},
   "outputs": [
    {
     "name": "stdout",
     "output_type": "stream",
     "text": [
      "0\n",
      "1\n",
      "1\n",
      "2\n",
      "3\n",
      "5\n",
      "8\n",
      "13\n",
      "21\n",
      "34\n",
      "55\n",
      "89\n",
      "144\n",
      "233\n",
      "377\n",
      "610\n",
      "987\n",
      "1597\n",
      "2584\n",
      "4181\n"
     ]
    }
   ],
   "source": [
    "a,b = 0,1\n",
    "for i in range(0,20):\n",
    "    print(a)\n",
    "    a,b = b, a+b\n"
   ]
  },
  {
   "cell_type": "markdown",
   "id": "6bb6eed4",
   "metadata": {},
   "source": [
    "Q. Write the function to calculate the area and perimeter of square, rectangle, triangle"
   ]
  },
  {
   "cell_type": "code",
   "execution_count": 22,
   "id": "84d06a88",
   "metadata": {},
   "outputs": [
    {
     "name": "stderr",
     "output_type": "stream",
     "text": [
      "<>:6: SyntaxWarning: 'int' object is not callable; perhaps you missed a comma?\n",
      "<>:6: SyntaxWarning: 'int' object is not callable; perhaps you missed a comma?\n",
      "<ipython-input-22-b361e907c51f>:6: SyntaxWarning: 'int' object is not callable; perhaps you missed a comma?\n",
      "  return perimeter == 2(x+y)\n"
     ]
    },
    {
     "name": "stdout",
     "output_type": "stream",
     "text": [
      "Please choose your shape\n",
      "Square\n",
      "Rectangle\n",
      "Triangle\n",
      "Enter your shape:Square\n",
      "Enter your first number:2\n"
     ]
    },
    {
     "ename": "NameError",
     "evalue": "name 'area' is not defined",
     "output_type": "error",
     "traceback": [
      "\u001b[1;31m---------------------------------------------------------------------------\u001b[0m",
      "\u001b[1;31mNameError\u001b[0m                                 Traceback (most recent call last)",
      "\u001b[1;32m<ipython-input-22-b361e907c51f>\u001b[0m in \u001b[0;36m<module>\u001b[1;34m\u001b[0m\n\u001b[0;32m     15\u001b[0m \u001b[1;32mif\u001b[0m \u001b[0mchoice\u001b[0m \u001b[1;33m==\u001b[0m \u001b[1;34m'Square'\u001b[0m\u001b[1;33m:\u001b[0m\u001b[1;33m\u001b[0m\u001b[1;33m\u001b[0m\u001b[0m\n\u001b[0;32m     16\u001b[0m     \u001b[0mx\u001b[0m\u001b[1;33m=\u001b[0m\u001b[0mint\u001b[0m\u001b[1;33m(\u001b[0m\u001b[0minput\u001b[0m\u001b[1;33m(\u001b[0m\u001b[1;34m'Enter your first number:'\u001b[0m\u001b[1;33m)\u001b[0m\u001b[1;33m)\u001b[0m\u001b[1;33m\u001b[0m\u001b[1;33m\u001b[0m\u001b[0m\n\u001b[1;32m---> 17\u001b[1;33m     \u001b[0mprint\u001b[0m\u001b[1;33m(\u001b[0m\u001b[1;34m'Square:'\u001b[0m\u001b[1;33m,\u001b[0m\u001b[0msquare\u001b[0m\u001b[1;33m(\u001b[0m\u001b[0mnum1\u001b[0m\u001b[1;33m)\u001b[0m\u001b[1;33m)\u001b[0m\u001b[1;33m\u001b[0m\u001b[1;33m\u001b[0m\u001b[0m\n\u001b[0m\u001b[0;32m     18\u001b[0m \u001b[1;32melif\u001b[0m \u001b[0mchoice\u001b[0m \u001b[1;33m==\u001b[0m \u001b[1;34m'Rectangle'\u001b[0m\u001b[1;33m:\u001b[0m\u001b[1;33m\u001b[0m\u001b[1;33m\u001b[0m\u001b[0m\n\u001b[0;32m     19\u001b[0m     \u001b[0mnum1\u001b[0m\u001b[1;33m=\u001b[0m\u001b[0mint\u001b[0m\u001b[1;33m(\u001b[0m\u001b[0minput\u001b[0m\u001b[1;33m(\u001b[0m\u001b[1;34m'Enter your first number:'\u001b[0m\u001b[1;33m)\u001b[0m\u001b[1;33m)\u001b[0m\u001b[1;33m\u001b[0m\u001b[1;33m\u001b[0m\u001b[0m\n",
      "\u001b[1;32m<ipython-input-22-b361e907c51f>\u001b[0m in \u001b[0;36msquare\u001b[1;34m(x)\u001b[0m\n\u001b[0;32m      1\u001b[0m \u001b[1;32mdef\u001b[0m \u001b[0msquare\u001b[0m \u001b[1;33m(\u001b[0m\u001b[0mx\u001b[0m\u001b[1;33m)\u001b[0m\u001b[1;33m:\u001b[0m\u001b[1;33m\u001b[0m\u001b[1;33m\u001b[0m\u001b[0m\n\u001b[1;32m----> 2\u001b[1;33m     \u001b[1;32mreturn\u001b[0m \u001b[0marea\u001b[0m \u001b[1;33m==\u001b[0m \u001b[0mx\u001b[0m\u001b[1;33m**\u001b[0m\u001b[1;36m2\u001b[0m\u001b[1;33m\u001b[0m\u001b[1;33m\u001b[0m\u001b[0m\n\u001b[0m\u001b[0;32m      3\u001b[0m     \u001b[1;32mreturn\u001b[0m \u001b[0mperimeter\u001b[0m \u001b[1;33m==\u001b[0m \u001b[1;36m4\u001b[0m\u001b[1;33m*\u001b[0m\u001b[0mx\u001b[0m\u001b[1;33m\u001b[0m\u001b[1;33m\u001b[0m\u001b[0m\n\u001b[0;32m      4\u001b[0m \u001b[1;32mdef\u001b[0m \u001b[0mrectangle\u001b[0m \u001b[1;33m(\u001b[0m\u001b[0mx\u001b[0m \u001b[1;33m,\u001b[0m \u001b[0my\u001b[0m\u001b[1;33m)\u001b[0m\u001b[1;33m:\u001b[0m\u001b[1;33m\u001b[0m\u001b[1;33m\u001b[0m\u001b[0m\n\u001b[0;32m      5\u001b[0m     \u001b[1;32mreturn\u001b[0m \u001b[0marea\u001b[0m \u001b[1;33m==\u001b[0m \u001b[0mx\u001b[0m\u001b[1;33m*\u001b[0m\u001b[0my\u001b[0m\u001b[1;33m\u001b[0m\u001b[1;33m\u001b[0m\u001b[0m\n",
      "\u001b[1;31mNameError\u001b[0m: name 'area' is not defined"
     ]
    }
   ],
   "source": [
    "def square (x):\n",
    "    return area == x**2\n",
    "    return perimeter == 4*x\n",
    "def rectangle (x , y):\n",
    "    return area == x*y \n",
    "    return perimeter == 2(x+y)\n",
    "def triangle (x , y , z):\n",
    "    return area == 0.5*y*z \n",
    "    return perimeter == x + y + z\n",
    "print('Please choose your shape')\n",
    "print('Square')\n",
    "print('Rectangle')\n",
    "print('Triangle')\n",
    "choice = input('Enter your shape:')\n",
    "if choice == 'Square':\n",
    "    x=int(input('Enter your first number:'))\n",
    "    print('Square:',square(num1))\n",
    "elif choice == 'Rectangle':\n",
    "    num1=int(input('Enter your first number:'))\n",
    "    num2=int(input('Enter your second number:'))\n",
    "    print(rectangle (num1 , num2))\n",
    "elif choice == 'Triangle':\n",
    "    num1=int(input('Enter your first number:'))\n",
    "    num2=int(input('Enter your second number:'))\n",
    "    num3=int(input('Enter your third number:'))\n",
    "    print(triangle(num1 , num2 , num3))     \n",
    "else:\n",
    "    print('Sorry')    "
   ]
  },
  {
   "cell_type": "markdown",
   "id": "cf8b13f6",
   "metadata": {},
   "source": []
  },
  {
   "cell_type": "code",
   "execution_count": null,
   "id": "33315527",
   "metadata": {},
   "outputs": [],
   "source": []
  }
 ],
 "metadata": {
  "kernelspec": {
   "display_name": "Python 3",
   "language": "python",
   "name": "python3"
  },
  "language_info": {
   "codemirror_mode": {
    "name": "ipython",
    "version": 3
   },
   "file_extension": ".py",
   "mimetype": "text/x-python",
   "name": "python",
   "nbconvert_exporter": "python",
   "pygments_lexer": "ipython3",
   "version": "3.8.8"
  }
 },
 "nbformat": 4,
 "nbformat_minor": 5
}
