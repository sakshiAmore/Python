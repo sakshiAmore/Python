{
 "cells": [
  {
   "cell_type": "markdown",
   "id": "323b72ec",
   "metadata": {},
   "source": [
    "# Loops"
   ]
  },
  {
   "cell_type": "markdown",
   "id": "0f1d63a0",
   "metadata": {},
   "source": [
    "if , if..else,"
   ]
  },
  {
   "cell_type": "markdown",
   "id": "2636b031",
   "metadata": {},
   "source": [
    "Q. A code to check whether a number is positive\n"
   ]
  },
  {
   "cell_type": "code",
   "execution_count": 4,
   "id": "a2165027",
   "metadata": {},
   "outputs": [
    {
     "name": "stdout",
     "output_type": "stream",
     "text": [
      "Number is positive\n"
     ]
    }
   ],
   "source": [
    "num=30\n",
    "if num > 0:\n",
    "    print('Number is positive')"
   ]
  },
  {
   "cell_type": "code",
   "execution_count": 3,
   "id": "797cc5fd",
   "metadata": {},
   "outputs": [
    {
     "name": "stdout",
     "output_type": "stream",
     "text": [
      "Number is negative\n"
     ]
    }
   ],
   "source": [
    "num=-3\n",
    "if num > 0:\n",
    "    print('Number is positive')\n",
    "else : \n",
    "    print('Number is negative')"
   ]
  },
  {
   "cell_type": "code",
   "execution_count": 5,
   "id": "1df9b302",
   "metadata": {},
   "outputs": [
    {
     "name": "stdout",
     "output_type": "stream",
     "text": [
      "Even\n"
     ]
    }
   ],
   "source": [
    "num=4\n",
    "if num % 2 == 0:\n",
    "    print('Even')\n",
    "else :\n",
    "    print('Odd')\n",
    "  "
   ]
  },
  {
   "cell_type": "code",
   "execution_count": 7,
   "id": "888f722d",
   "metadata": {},
   "outputs": [
    {
     "name": "stdout",
     "output_type": "stream",
     "text": [
      "Enter your value:23\n",
      "23\n",
      "Enter number :14\n",
      "14\n",
      "Enter name : Sam\n",
      "Sam\n"
     ]
    }
   ],
   "source": [
    "val = int(input(\"Enter your value:\"))\n",
    "print(val)\n",
    "num = input (\"Enter number :\")\n",
    "print(num)\n",
    "name1 = input(\"Enter name : \")\n",
    "print(name1)"
   ]
  },
  {
   "cell_type": "markdown",
   "id": "9bd01f58",
   "metadata": {},
   "source": [
    "Q. chech the number is even or odd by taking input from the user.\n",
    "\n",
    "Q. Take two inputs from the user check whether they are matching or not"
   ]
  },
  {
   "cell_type": "code",
   "execution_count": 1,
   "id": "b1fbdb6e",
   "metadata": {},
   "outputs": [
    {
     "name": "stdout",
     "output_type": "stream",
     "text": [
      "Enter number :2\n",
      "2\n",
      "The number is even\n"
     ]
    }
   ],
   "source": [
    "num = int(input (\"Enter number :\"))\n",
    "print(num)\n",
    "\n",
    "if num % 2 == 0:\n",
    "    print('The number is even')\n",
    "else :\n",
    "    print('The number is odd')\n",
    "      "
   ]
  },
  {
   "cell_type": "code",
   "execution_count": 2,
   "id": "97cfd325",
   "metadata": {},
   "outputs": [
    {
     "name": "stdout",
     "output_type": "stream",
     "text": [
      "Enter 1st Value :Sam\n",
      "Sam\n",
      "Enter 2nd Value :Sam\n",
      "Sam\n",
      "The values are equal\n"
     ]
    }
   ],
   "source": [
    "val1 = input(\"Enter 1st Value :\")\n",
    "print(val1)\n",
    "val2 = input (\"Enter 2nd Value :\")\n",
    "print(val2)\n",
    "\n",
    "if val1 == val2:\n",
    "    print('The values are equal')\n",
    "else :\n",
    "    print('not equal')"
   ]
  },
  {
   "cell_type": "markdown",
   "id": "d2e9f080",
   "metadata": {},
   "source": [
    "Q. Take two input from user and check whether their len is equal"
   ]
  },
  {
   "cell_type": "code",
   "execution_count": 1,
   "id": "19dcdd13",
   "metadata": {},
   "outputs": [
    {
     "name": "stdout",
     "output_type": "stream",
     "text": [
      "Enter 1st value:sakshi\n",
      "sakshi\n",
      "Enter 2nd value:sujata\n",
      "sujata\n",
      "Length is same\n"
     ]
    }
   ],
   "source": [
    "value1 = input(\"Enter 1st value:\")\n",
    "print(value1)\n",
    "value2 = input('Enter 2nd value:')\n",
    "print(value2)\n",
    "\n",
    "if len(value1) == len(value2):\n",
    "    print(\"Length is same\")\n",
    "else :\n",
    "    print('Not same')"
   ]
  },
  {
   "cell_type": "markdown",
   "id": "e19fe838",
   "metadata": {},
   "source": [
    "Q. A company decided to give a bonus of 30% to all the employees if their working experience is more or eqaul to 3.\n",
    "   Ask the user for their salary and experience and net bonus amount. \n",
    "   \n",
    "Q. Take values of len and breath of a rectangle from a user and check whether it is square. \n",
    "\n",
    "Q. A shop will give a discount 10% if the cost of purchuse quantity is more than 1000. Ask user for quantity if 1 unit will\n",
    "   cost 100 judge and print total cost for user. "
   ]
  },
  {
   "cell_type": "code",
   "execution_count": 9,
   "id": "f7404b02",
   "metadata": {},
   "outputs": [
    {
     "name": "stdout",
     "output_type": "stream",
     "text": [
      "Enter your name:Sam\n",
      "Sam\n",
      "Enter your Salary:50000\n",
      "50000\n",
      "Enter your experience:5\n",
      "5\n",
      "The net bonus is : 15000.0\n",
      "Total Salary :  65000.0\n"
     ]
    }
   ],
   "source": [
    "Name = input(\"Enter your name:\")\n",
    "print(Name)\n",
    "Sal = int(input(\"Enter your Salary:\"))\n",
    "print(Sal)\n",
    "Exp = int(input(\"Enter your experience:\"))\n",
    "print(Exp)\n",
    "\n",
    "if Exp >= 3 : \n",
    "    print('The net bonus is :',Sal*0.3)\n",
    "    print('Total Salary : ' ,Sal+Sal*0.3)\n",
    "else :\n",
    "    print('WE ARE SORRY :')"
   ]
  },
  {
   "cell_type": "code",
   "execution_count": 2,
   "id": "3a6a8dce",
   "metadata": {},
   "outputs": [
    {
     "name": "stdout",
     "output_type": "stream",
     "text": [
      "Enter the length:20\n",
      "20\n",
      "Enter the breadth:20\n",
      "20\n",
      "It is a Square\n"
     ]
    }
   ],
   "source": [
    "length = int(input(\"Enter the length:\"))\n",
    "print(length)\n",
    "breadth = int(input(\"Enter the breadth:\"))\n",
    "print(breadth)\n",
    "\n",
    "if length == breadth :\n",
    "    print(\"It is a Square\")\n",
    "else :\n",
    "    print(\"It is a Rectangle\")"
   ]
  },
  {
   "cell_type": "code",
   "execution_count": 11,
   "id": "41b37a66",
   "metadata": {},
   "outputs": [
    {
     "name": "stdout",
     "output_type": "stream",
     "text": [
      "Enter your name :Sam\n",
      "Sam\n",
      "Total Quantities :20\n",
      "20\n",
      "Total Price :7000\n",
      "7000\n",
      "Discount Price : 700.0\n",
      "New total price : 6300.0\n"
     ]
    }
   ],
   "source": [
    "Name = input(\"Enter your name :\")\n",
    "print(Name)\n",
    "TQ = int(input(\"Total Quantities :\"))\n",
    "print(TQ)\n",
    "TP = int(input(\"Total Price :\"))\n",
    "print(TP)\n",
    "\n",
    "if TP>=1000 :\n",
    "    print(\"Discount Price :\",TP*0.1)\n",
    "    print(\"New total price :\",TP-TP*0.1)\n",
    "else :\n",
    "    print(\"I am sorry\")"
   ]
  },
  {
   "cell_type": "code",
   "execution_count": 4,
   "id": "95af2189",
   "metadata": {},
   "outputs": [
    {
     "name": "stdout",
     "output_type": "stream",
     "text": [
      "Enter quantity\n",
      "20\n",
      "Cost is 1800.0\n"
     ]
    }
   ],
   "source": [
    "print (\"Enter quantity\")\n",
    "quantity = int(input())\n",
    "if quantity*100>1000:\n",
    "    print(\"Cost is\",((quantity*100)-(.1*quantity*100)))\n",
    "else:\n",
    "    print (\"Cost is\",quantity*100)"
   ]
  },
  {
   "cell_type": "code",
   "execution_count": 2,
   "id": "f2074f2f",
   "metadata": {},
   "outputs": [
    {
     "name": "stdout",
     "output_type": "stream",
     "text": [
      "Enter your total Quantity :30\n",
      "30\n",
      "Cost is: 2700.0\n"
     ]
    }
   ],
   "source": [
    "val =int(input(\"Enter your total Quantity :\"))\n",
    "print(val)\n",
    "if val*100>1000 :\n",
    "    print(\"Cost is:\",((val*100)-(.1*val*100)))\n",
    "\n",
    "else:\n",
    "    print(\"Cost is \",val*100)"
   ]
  },
  {
   "cell_type": "code",
   "execution_count": 4,
   "id": "dab6bdd0",
   "metadata": {},
   "outputs": [
    {
     "name": "stdout",
     "output_type": "stream",
     "text": [
      "Enter the quantity:2\n",
      "2\n",
      "Enter the quantity:1\n",
      "1\n",
      "Enter the quantity:2\n",
      "2\n",
      "Enter the quantity:1\n",
      "1\n",
      "700\n"
     ]
    }
   ],
   "source": [
    "apple_cost = 200\n",
    "orange_cost = 100\n",
    "Papaya_cost = 50\n",
    "dargonfruit_cost = 100\n",
    "val1 = int(input(\"Enter the quantity:\"))\n",
    "print(val1)\n",
    "val2 = int(input(\"Enter the quantity:\"))\n",
    "print(val2)\n",
    "val3 = int(input(\"Enter the quantity:\"))\n",
    "print(val3)\n",
    "val4 = int(input(\"Enter the quantity:\"))\n",
    "print(val4)\n",
    "\n",
    "total=(val1*apple_cost)+(val2*orange_cost)+(val3*Papaya_cost)+(val4*dargonfruit_cost)\n",
    "print(total)\n"
   ]
  },
  {
   "cell_type": "code",
   "execution_count": 6,
   "id": "e2bb9af4",
   "metadata": {},
   "outputs": [
    {
     "name": "stdout",
     "output_type": "stream",
     "text": [
      "Enter a three value: 3 2 1\n",
      "Total number of students:  3\n",
      "Number of boys is :  2\n",
      "Number of girls is :  1\n",
      "\n"
     ]
    }
   ],
   "source": [
    "# taking three inputs at a time\n",
    "x, y, z = input(\"Enter a three value: \").split()\n",
    "print(\"Total number of students: \", x)\n",
    "print(\"Number of boys is : \", y)\n",
    "print(\"Number of girls is : \", z)\n",
    "print()"
   ]
  },
  {
   "cell_type": "code",
   "execution_count": 8,
   "id": "6a5df748",
   "metadata": {},
   "outputs": [
    {
     "ename": "SyntaxError",
     "evalue": "invalid syntax (<ipython-input-8-20fad501075a>, line 14)",
     "output_type": "error",
     "traceback": [
      "\u001b[1;36m  File \u001b[1;32m\"<ipython-input-8-20fad501075a>\"\u001b[1;36m, line \u001b[1;32m14\u001b[0m\n\u001b[1;33m    elif\u001b[0m\n\u001b[1;37m             ^\u001b[0m\n\u001b[1;31mSyntaxError\u001b[0m\u001b[1;31m:\u001b[0m invalid syntax\n"
     ]
    }
   ],
   "source": [
    "fru1= 10\n",
    "fru2 = 15\n",
    "fru3 = 50\n",
    "apple, mango, papaya =int(input(\"Enter quantity:\\n\"))\n",
    "print(\"Total Quantity :\",sum(apple+mango+papaya))\n",
    "a=fru1*apple\n",
    "b=fru2*mango\n",
    "c=fru3*papaya\n",
    "print(\"Apple's cost :\",fru1*apple)\n",
    "print(\"Mango's cost :\",fru2*mango)\n",
    "print(\"Papaya's cost :\",fru3*papaya)\n",
    "if apple + banana:\n",
    "    printf(\"The total price :\",sum(fru1*apple)+(fru2*mango))\n",
    "elif     "
   ]
  },
  {
   "cell_type": "markdown",
   "id": "922efdf9",
   "metadata": {},
   "source": [
    "Q. Write a prog. to check whether a person is eligible for vote or not on the bases of age"
   ]
  },
  {
   "cell_type": "code",
   "execution_count": 18,
   "id": "d8cdd690",
   "metadata": {},
   "outputs": [
    {
     "name": "stdout",
     "output_type": "stream",
     "text": [
      "Enter your name :Sam\n",
      "Sam\n",
      "Enter your Addhar Card number:23516763568373\n",
      "23516763568373\n",
      "Enter your Age:17\n",
      "17\n",
      "I am sorry , you are not\n"
     ]
    }
   ],
   "source": [
    "Name = input(\"Enter your name :\")\n",
    "print(Name)\n",
    "Addharcardno = int(input(\"Enter your Addhar Card number:\"))\n",
    "print(Addharcardno)\n",
    "age = int(input(\"Enter your Age:\"))\n",
    "print(age)\n",
    "if age >= 18:\n",
    "    print(\"You are eligible for voting\")\n",
    "else :\n",
    "    print(\"I am sorry , you are not\")"
   ]
  },
  {
   "cell_type": "code",
   "execution_count": 5,
   "id": "49574ee3",
   "metadata": {},
   "outputs": [
    {
     "name": "stdout",
     "output_type": "stream",
     "text": [
      "Enter your name:sam\n",
      "Enter number DOBY:2004\n",
      "sam\n",
      "2004\n",
      "17\n",
      "not eligible\n"
     ]
    }
   ],
   "source": [
    "name= input(\"Enter your name:\")\n",
    "DOBY= int(input (\"Enter number DOBY:\"))\n",
    "age=2021-DOBY\n",
    "print(name)\n",
    "print(DOBY)\n",
    "print(age)\n",
    "if age>18:\n",
    "        print('eligible')\n",
    "else:\n",
    "     print('not eligible')"
   ]
  },
  {
   "cell_type": "markdown",
   "id": "7ee4f5fd",
   "metadata": {},
   "source": []
  },
  {
   "cell_type": "code",
   "execution_count": 6,
   "id": "c0b9f9f1",
   "metadata": {},
   "outputs": [
    {
     "name": "stdout",
     "output_type": "stream",
     "text": [
      "Enter your value:0\n",
      "Zero\n"
     ]
    }
   ],
   "source": [
    "num = int(input(\"Enter your value:\"))\n",
    "\n",
    "if (num>0):\n",
    "    print(\"Positive\")\n",
    "elif (num==0):\n",
    "    print(\"Zero\")\n",
    "else:\n",
    "    print(\"Negative\")"
   ]
  },
  {
   "cell_type": "code",
   "execution_count": 24,
   "id": "d77f2be0",
   "metadata": {},
   "outputs": [
    {
     "name": "stdout",
     "output_type": "stream",
     "text": [
      "Enter the number:2\n",
      "2\n",
      "Enter the number:0\n",
      "0\n",
      "Number is greater\n"
     ]
    }
   ],
   "source": [
    "num1 = int(input(\"Enter the number:\"))\n",
    "print(num1)\n",
    "num2 = int(input(\"Enter the number:\"))\n",
    "print(num2)\n",
    "if (num1>num2):\n",
    "    print(\"Number is greater\")\n",
    "elif (num1<num2):\n",
    "    print(\"Number 2 is greater\")\n",
    "elif (num1==num2):\n",
    "    print(\"Both are equal\")\n",
    "elif (num1==0):\n",
    "    print(\"Num1 is equal 0\")\n",
    "elif (num2==0):\n",
    "    print(\"Num 2 is 0\")\n",
    "else:\n",
    "    print(\"not valid\")"
   ]
  },
  {
   "cell_type": "markdown",
   "id": "489db689",
   "metadata": {},
   "source": [
    "Q. Take input of age of 3 people by the user and determine oldest and youngest child"
   ]
  },
  {
   "cell_type": "code",
   "execution_count": 25,
   "id": "f7bdb42d",
   "metadata": {},
   "outputs": [
    {
     "name": "stdout",
     "output_type": "stream",
     "text": [
      "Enter first age:\n",
      "20\n",
      "Enter second age:\n",
      "10\n",
      "third age:\n",
      "25\n",
      "Oldest is 25\n"
     ]
    }
   ],
   "source": [
    "print (\"Enter first age:\")\n",
    "first = input()\n",
    "print (\"Enter second age:\")\n",
    "second = input()\n",
    "print (\"third age:\")\n",
    "third = input()\n",
    "\n",
    "if first >= second and first >= third:\n",
    "    print( \"Oldest is\",first)\n",
    "elif second >= first and second >= third:\n",
    "    print (\"Oldest is\",second)\n",
    "elif third >= first and third >= second:\n",
    "   print (\"Oldest is\",third)\n",
    "else:\n",
    "  print (\"All are equal\")\n"
   ]
  },
  {
   "cell_type": "markdown",
   "id": "5fa5ea39",
   "metadata": {},
   "source": [
    "A school has following rules for grading system:\n",
    "a. Below 25 - F\n",
    "b. 25 to 45 - E\n",
    "c. 45 to 50 - D\n",
    "d. 50 to 60 - C\n",
    "e. 60 to 80 - B\n",
    "f. Above 80 - A\n",
    "Ask user to enter marks and print the corresponding grade."
   ]
  },
  {
   "cell_type": "code",
   "execution_count": 10,
   "id": "9be0a553",
   "metadata": {},
   "outputs": [
    {
     "name": "stdout",
     "output_type": "stream",
     "text": [
      "Enter your name :sam\n",
      "sam\n",
      "Enter your marks50\n",
      "50\n",
      "You got B\n"
     ]
    }
   ],
   "source": [
    "Name = input(\"Enter your name :\")\n",
    "print(Name)\n",
    "Mark = int(input(\"Enter your marks\"))\n",
    "print(Mark)\n",
    "if Mark > 80:\n",
    "    print(\"You got A\")\n",
    "elif Mark >= 60 or Mark <= 80: \n",
    "    print(\"You got B\")\n",
    "elif Mark <= 60 or Mark >= 50: \n",
    "    print(\"You got C\")\n",
    "elif Mark >= 45 or Mark <= 50: \n",
    "    print(\"You got D\")\n",
    "elif Mark >= 25 or Mark <= 45: \n",
    "    print(\"You got E\")\n",
    "else :\n",
    "    print(\"You got F\")\n",
    "\n",
    "\n"
   ]
  },
  {
   "cell_type": "markdown",
   "id": "c2b6d8b0",
   "metadata": {},
   "source": [
    "Ask user to enter age , marital status and using following rulls place of survise\n",
    "if employee is female 20 to 60 will work in urban, if employee is a male from 20 to 60 he can work any where,if employee is male an age is between 40 to 60 then he will work in urban areas, and any other input of age should print error."
   ]
  },
  {
   "cell_type": "code",
   "execution_count": 11,
   "id": "de7f054b",
   "metadata": {},
   "outputs": [
    {
     "name": "stdout",
     "output_type": "stream",
     "text": [
      "Enter your age:30\n",
      "30\n",
      "Marital Status:no\n",
      "no\n",
      "Gender:Female\n",
      "Female\n",
      "Urban\n"
     ]
    }
   ],
   "source": [
    "age=int(input(\"Enter your age:\"))\n",
    "print(age)\n",
    "Marriage=input(\"Marital Status:\")\n",
    "print(Marriage)\n",
    "gender=input(\"Gender:\")\n",
    "print(gender)\n",
    "if gender==\"Female\" and age >= 20 and age <=60:\n",
    "    print(\"Urban\")\n",
    "elif gender==\"Male\" and age >= 20 and age <=60:\n",
    "    print(\"Anywhere\")\n",
    "elif gender==\"Male\" and age >= 40 and age <=60:\n",
    "    print(\"Urban\")\n",
    "else:\n",
    "    print(\"Error\")"
   ]
  },
  {
   "cell_type": "markdown",
   "id": "c4cb27ee",
   "metadata": {},
   "source": [
    "Nested if-else"
   ]
  },
  {
   "cell_type": "markdown",
   "id": "dcc030ef",
   "metadata": {},
   "source": [
    "Write a program to check the eligiblity of a student to take admission in diploma in computer eng. course by using following criteria\n",
    "-Nationality of india\n",
    "-10 th-12 th pass out\n",
    "-marks criteria above 70 %\n",
    "-cbse or state board\n"
   ]
  },
  {
   "cell_type": "code",
   "execution_count": 17,
   "id": "06083a8d",
   "metadata": {},
   "outputs": [
    {
     "name": "stdout",
     "output_type": "stream",
     "text": [
      "Are you a citizen of india:India\n",
      "India\n",
      "Display your qualification:12\n",
      "12\n",
      "Enter your marks:90\n",
      "90\n",
      "Which board you belongs to:CBSE\n",
      "CBSE\n",
      "Your qualification is not up to the mark\n"
     ]
    }
   ],
   "source": [
    "Nationality=input(\"Are you a citizen of india:\")\n",
    "print(Nationality)\n",
    "Qualification=input(\"Display your qualification:\")\n",
    "print(Qualification)\n",
    "Marks=int(input(\"Enter your marks:\"))\n",
    "print(Marks)\n",
    "Board=input(\"Which board you belongs to:\")\n",
    "print(Board)\n",
    "\n",
    "if Nationality==\"India\":\n",
    "    if Qualification ==  10 or Qualification == 12:\n",
    "        if Marks >= 70:\n",
    "            if Board == 'CBSE'or Board == 'State':\n",
    "                print('You are eligible to take admission in diploma')\n",
    "            else:\n",
    "                print('Sorry , you are not eligible')\n",
    "        else:\n",
    "            print('Your marks are not eligible')\n",
    "    else:\n",
    "        print('Your qualification is not up to the mark')\n",
    "else:\n",
    "    print('Only Indians are allowed')"
   ]
  },
  {
   "cell_type": "code",
   "execution_count": 12,
   "id": "520468e6",
   "metadata": {},
   "outputs": [
    {
     "name": "stdout",
     "output_type": "stream",
     "text": [
      "Are you a Indian:yes\n",
      "yes\n",
      "Do you have Adhar Card:Yes\n",
      "Yes\n",
      "Do you have Pan Card:Yes\n",
      "Yes\n",
      "Share your Qualification:10\n",
      "10\n",
      "Police verification:Yes\n",
      "Yes\n"
     ]
    }
   ],
   "source": [
    "Nationality = input('Are you a Indian:')\n",
    "Adhar=input('Do you have Adhar Card:')\n",
    "Pan=input('Do you have Pan Card:')\n",
    "Qualification=input('Share your Qualification:')\n",
    "Verify=input('Police verification:')\n",
    "if Nationality == 'Yes':\n",
    "    if Adhar == 'Yes':\n",
    "        if Pan == 'Yes':\n",
    "            if Qualification == 10 or Qualification == 12 or Qualification == 'Degree' or Qualification == 'Job' or Qualification == 'ITI':\n",
    "                if Verify == 'Yes':\n",
    "                    print('You are selected for next step')\n",
    "                else:\n",
    "                    print('Please verify it!')\n",
    "        else:\n",
    "             print('sorry make a Pan Card')\n",
    "    else:\n",
    "        print('sorry make a Adhar Card')\n",
    "else:\n",
    "    print('Well we are sorry you are not a Indian')"
   ]
  },
  {
   "cell_type": "markdown",
   "id": "8d0dbab7",
   "metadata": {},
   "source": [
    "# While loop"
   ]
  },
  {
   "cell_type": "code",
   "execution_count": 20,
   "id": "dd2dcc01",
   "metadata": {},
   "outputs": [
    {
     "name": "stdout",
     "output_type": "stream",
     "text": [
      "1\n",
      "2\n",
      "3\n"
     ]
    }
   ],
   "source": [
    "i = 1\n",
    "while i < 6:\n",
    "  print(i)\n",
    "  if (i == 3):\n",
    "    break\n",
    "  i += 1"
   ]
  },
  {
   "cell_type": "markdown",
   "id": "4b812f40",
   "metadata": {},
   "source": [
    "Take 10 integer input from user by using loop and print their average value on the screen"
   ]
  },
  {
   "cell_type": "code",
   "execution_count": 16,
   "id": "4338d8bf",
   "metadata": {},
   "outputs": [
    {
     "name": "stdout",
     "output_type": "stream",
     "text": [
      "Enter 10 integer\n",
      "1\n",
      "Enter 10 integer\n",
      "2\n",
      "Enter 10 integer\n",
      "3\n",
      "Enter 10 integer\n",
      "4\n",
      "Enter 10 integer\n",
      "5\n",
      "Enter 10 integer\n",
      "6\n",
      "Enter 10 integer\n",
      "7\n",
      "Enter 10 integer\n",
      "8\n",
      "Enter 10 integer\n",
      "9\n",
      "Enter 10 integer\n",
      "0\n",
      "Average : 1.0\n"
     ]
    }
   ],
   "source": [
    "sum = 0\n",
    "i = 10\n",
    "while i > 0:\n",
    "   \n",
    "    print('Enter 10 integer')\n",
    "    num = int(input())\n",
    "    sum = sum+1\n",
    "    i=i-1\n",
    "print('Average :',sum/10.0)    "
   ]
  },
  {
   "cell_type": "markdown",
   "id": "fbea5a26",
   "metadata": {},
   "source": [
    "Print multiplication table of 24 using loop\n",
    "eg.\n",
    "24 * 1 = 24\n",
    "24 * 2 = 48\n"
   ]
  },
  {
   "cell_type": "code",
   "execution_count": 4,
   "id": "288ec753",
   "metadata": {},
   "outputs": [
    {
     "name": "stdout",
     "output_type": "stream",
     "text": [
      "24\n",
      "48\n",
      "72\n",
      "96\n",
      "120\n",
      "144\n",
      "168\n",
      "192\n",
      "216\n",
      "240\n"
     ]
    }
   ],
   "source": [
    "num = 1\n",
    "while num <= 10:\n",
    "    print(24 * num)\n",
    "    num=num+1   "
   ]
  },
  {
   "cell_type": "markdown",
   "id": "3560b7e1",
   "metadata": {},
   "source": [
    " Syntax fac = fac*number\n",
    "           number = number-1"
   ]
  },
  {
   "cell_type": "code",
   "execution_count": 39,
   "id": "1d5b318a",
   "metadata": {},
   "outputs": [
    {
     "name": "stdout",
     "output_type": "stream",
     "text": [
      "Insert num :2\n",
      "2\n",
      "fac variable\n"
     ]
    }
   ],
   "source": [
    "number = int(input('Insert num :'))\n",
    "print(number)\n",
    "n = 1\n",
    "while n <= 1:\n",
    "    if number == 0 or number == 1:\n",
    "        print('fac = 1')\n",
    "    else:\n",
    "        n = n*number\n",
    "        number = number + 1\n",
    "        \n",
    "        print('fac variable')"
   ]
  },
  {
   "cell_type": "markdown",
   "id": "690563a2",
   "metadata": {},
   "source": []
  },
  {
   "cell_type": "markdown",
   "id": "2c2277e7",
   "metadata": {},
   "source": [
    "# For loop"
   ]
  },
  {
   "cell_type": "markdown",
   "id": "fa437e8b",
   "metadata": {},
   "source": [
    "Range function = is use to set the limit in for loop . It has three parametres that start stop and End.\n"
   ]
  },
  {
   "cell_type": "code",
   "execution_count": 1,
   "id": "1f6e8326",
   "metadata": {},
   "outputs": [
    {
     "name": "stdout",
     "output_type": "stream",
     "text": [
      "Sakshi\n",
      "Sakshi\n",
      "Sakshi\n"
     ]
    }
   ],
   "source": [
    "for i in range(1,4):\n",
    "    print('Sakshi')"
   ]
  },
  {
   "cell_type": "code",
   "execution_count": 38,
   "id": "62d09f77",
   "metadata": {},
   "outputs": [
    {
     "name": "stdout",
     "output_type": "stream",
     "text": [
      "0\n",
      "2\n",
      "4\n",
      "6\n",
      "8\n",
      "10\n",
      "12\n",
      "14\n",
      "16\n",
      "18\n",
      "20\n"
     ]
    }
   ],
   "source": [
    "for i in range (0,21,2):\n",
    "    print(i)"
   ]
  },
  {
   "cell_type": "code",
   "execution_count": 8,
   "id": "c57d8eb7",
   "metadata": {},
   "outputs": [
    {
     "name": "stdout",
     "output_type": "stream",
     "text": [
      "0\n",
      "5\n",
      "10\n",
      "15\n",
      "20\n",
      "25\n",
      "30\n",
      "35\n",
      "40\n",
      "45\n",
      "50\n",
      "55\n",
      "60\n",
      "65\n",
      "70\n",
      "75\n",
      "80\n",
      "85\n",
      "90\n",
      "95\n",
      "100\n"
     ]
    }
   ],
   "source": [
    "for s in range (0,101,5):\n",
    "    print(s)"
   ]
  },
  {
   "cell_type": "markdown",
   "id": "7439a5ac",
   "metadata": {},
   "source": [
    "Write a program to print 10 even no. in revese "
   ]
  },
  {
   "cell_type": "code",
   "execution_count": 9,
   "id": "4f05c7e2",
   "metadata": {},
   "outputs": [
    {
     "name": "stdout",
     "output_type": "stream",
     "text": [
      "20\n",
      "18\n",
      "16\n",
      "14\n",
      "12\n",
      "10\n",
      "8\n",
      "6\n",
      "4\n",
      "2\n"
     ]
    }
   ],
   "source": [
    "for s in range (20,0,-2):\n",
    "    print(s)"
   ]
  },
  {
   "cell_type": "markdown",
   "id": "9ba1b79f",
   "metadata": {},
   "source": [
    "write a program to print table of a number accept from a user\n",
    "write a program to print factorial of a number using for loop\n",
    "write a program to check whether the no. prime number or not"
   ]
  },
  {
   "cell_type": "code",
   "execution_count": 12,
   "id": "43998fdc",
   "metadata": {},
   "outputs": [
    {
     "name": "stdout",
     "output_type": "stream",
     "text": [
      "Enter your value:12\n",
      "12\n",
      "24\n",
      "36\n",
      "48\n",
      "60\n",
      "72\n",
      "84\n",
      "96\n",
      "108\n",
      "120\n"
     ]
    }
   ],
   "source": [
    "num = int(input('Enter your value:'))\n",
    "for i in range (1,11):\n",
    "    print(num * i)"
   ]
  },
  {
   "cell_type": "code",
   "execution_count": 17,
   "id": "fd8731ed",
   "metadata": {},
   "outputs": [
    {
     "name": "stdout",
     "output_type": "stream",
     "text": [
      "Enter your num:6\n",
      "720\n"
     ]
    }
   ],
   "source": [
    "num1 = int(input('Enter your num:'))\n",
    "fac = 1\n",
    "for i in range(1,num1+1):     #6 = 1*2*3*4*5\n",
    "    fac = fac * i\n",
    "print(fac)\n",
    "    \n",
    "    "
   ]
  },
  {
   "cell_type": "markdown",
   "id": "152b3aa3",
   "metadata": {},
   "source": [
    "6 = 1*2*3*4*5*6"
   ]
  },
  {
   "cell_type": "code",
   "execution_count": 3,
   "id": "4c9d0f8c",
   "metadata": {},
   "outputs": [
    {
     "name": "stdout",
     "output_type": "stream",
     "text": [
      "Enter any number4\n",
      "Factorial is 24\n"
     ]
    }
   ],
   "source": [
    "num=int(input(\"Enter any number\"))\n",
    "f=1\n",
    "for i in range(1,num+1):\n",
    "    f=f*i\n",
    "print(\"Factorial is\",f)"
   ]
  },
  {
   "cell_type": "code",
   "execution_count": 8,
   "id": "c7e1ba7e",
   "metadata": {},
   "outputs": [
    {
     "name": "stdout",
     "output_type": "stream",
     "text": [
      "Enter the value9\n",
      "Number is not prime\n"
     ]
    }
   ],
   "source": [
    "i = int(input('Enter the value'))\n",
    "f=0\n",
    "if i == 0 or i == 1:\n",
    "    f=1\n",
    "for s in range (2,i):\n",
    "    if (i % s) == 0 :\n",
    "        f=1\n",
    "if f==1:\n",
    "    print('Number is not prime')\n",
    "else:\n",
    "    print('primary number')      \n",
    "       "
   ]
  },
  {
   "cell_type": "code",
   "execution_count": 9,
   "id": "6ffa9b3d",
   "metadata": {},
   "outputs": [
    {
     "name": "stdout",
     "output_type": "stream",
     "text": [
      "Enter any number7\n",
      "Number is prime\n"
     ]
    }
   ],
   "source": [
    "num=int(input(\"Enter any number\"))\n",
    "f=0\n",
    "if num==1 or num==0:\n",
    "     f=1\n",
    "for i in range(2,num):\n",
    "     if num%i==0:\n",
    "          f=1\n",
    "if f==1:\n",
    "     print(\"Number is not prime\")\n",
    "else:\n",
    "     print(\"Number is prime\")"
   ]
  },
  {
   "cell_type": "markdown",
   "id": "5eaad4ab",
   "metadata": {},
   "source": [
    "write a program to find a sum of the digits of the number accepted from the user,\n"
   ]
  },
  {
   "cell_type": "code",
   "execution_count": 13,
   "id": "ed5794ce",
   "metadata": {},
   "outputs": [
    {
     "name": "stdout",
     "output_type": "stream",
     "text": [
      "Enter your name :1234\n",
      "1234\n",
      "4\n",
      "123\n"
     ]
    }
   ],
   "source": [
    "num = int (input('Enter your name :'))\n",
    "print(num)\n",
    "while (num):\n",
    "r  = num % 10\n",
    "print (r)\n",
    "num = num // 10\n",
    "print (num)"
   ]
  },
  {
   "cell_type": "code",
   "execution_count": 1,
   "id": "5fd9b12c",
   "metadata": {},
   "outputs": [
    {
     "name": "stdout",
     "output_type": "stream",
     "text": [
      "Enter your number: 1234\n",
      "10\n"
     ]
    }
   ],
   "source": [
    "num1 = int ( input ('Enter your number: '))\n",
    "sum = 0 \n",
    "while (num1):\n",
    "    r = num1 % 10\n",
    "    sum = sum + r\n",
    "    num1 = num1 // 10\n",
    "print (sum)    "
   ]
  },
  {
   "cell_type": "markdown",
   "id": "0ca3c535",
   "metadata": {},
   "source": [
    "Write a program by taking input from the user and printing the square root of the number till 15 also increment the number by 3\n",
    "\n",
    "\n",
    "25\n",
    "64\n",
    "121\n",
    "196"
   ]
  },
  {
   "cell_type": "code",
   "execution_count": 5,
   "id": "9d9992d1",
   "metadata": {},
   "outputs": [
    {
     "name": "stdout",
     "output_type": "stream",
     "text": [
      "25\n",
      "64\n",
      "121\n",
      "196\n"
     ]
    }
   ],
   "source": [
    "num = 1\n",
    "for i in range (5,15,3):\n",
    "        print(i**2)        "
   ]
  },
  {
   "cell_type": "code",
   "execution_count": null,
   "id": "bdc6df13",
   "metadata": {},
   "outputs": [],
   "source": []
  }
 ],
 "metadata": {
  "kernelspec": {
   "display_name": "Python 3",
   "language": "python",
   "name": "python3"
  },
  "language_info": {
   "codemirror_mode": {
    "name": "ipython",
    "version": 3
   },
   "file_extension": ".py",
   "mimetype": "text/x-python",
   "name": "python",
   "nbconvert_exporter": "python",
   "pygments_lexer": "ipython3",
   "version": "3.8.8"
  }
 },
 "nbformat": 4,
 "nbformat_minor": 5
}
