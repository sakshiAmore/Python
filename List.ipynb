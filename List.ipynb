{
 "cells": [
  {
   "cell_type": "markdown",
   "id": "a53f86cb",
   "metadata": {},
   "source": [
    "# List"
   ]
  },
  {
   "cell_type": "code",
   "execution_count": 1,
   "id": "ba67a02e",
   "metadata": {},
   "outputs": [
    {
     "name": "stdout",
     "output_type": "stream",
     "text": [
      "['Sam', 1, 'Sushmita di', 14, 3.5]\n"
     ]
    }
   ],
   "source": [
    "# List is a data structure which can be ordered, index and mutable\n",
    "a=['Sam', 1, 'Sushmita di', 14, 3.5]\n",
    "print (a)"
   ]
  },
  {
   "cell_type": "code",
   "execution_count": 2,
   "id": "b2b3b0f4",
   "metadata": {},
   "outputs": [
    {
     "name": "stdout",
     "output_type": "stream",
     "text": [
      "['Sam', 1, 'Sushmita di', 14, 3.5, 'Apple']\n"
     ]
    }
   ],
   "source": [
    "# Append function of list = use to add the element in the list\n",
    "a.append('Apple')\n",
    "print(a)"
   ]
  },
  {
   "cell_type": "code",
   "execution_count": 3,
   "id": "0ad6f61c",
   "metadata": {},
   "outputs": [
    {
     "name": "stdout",
     "output_type": "stream",
     "text": [
      "['Sam', 1, 'Sushmita di', 3.5, 'Apple']\n"
     ]
    }
   ],
   "source": [
    "# remove function of list = used to remove the element from the list\n",
    "\n",
    "a.remove(14)\n",
    "print(a)"
   ]
  },
  {
   "cell_type": "code",
   "execution_count": 7,
   "id": "e5d1280a",
   "metadata": {},
   "outputs": [
    {
     "data": {
      "text/plain": [
       "[0, 1, 2, 15, 16, 24]"
      ]
     },
     "execution_count": 7,
     "metadata": {},
     "output_type": "execute_result"
    }
   ],
   "source": [
    "# Sort function of list = to arrange the data in assending order\n",
    "\n",
    "b=[1,2,15,24,16,0]\n",
    "\n",
    "b.sort()\n",
    "b"
   ]
  },
  {
   "cell_type": "code",
   "execution_count": 3,
   "id": "43b15834",
   "metadata": {},
   "outputs": [
    {
     "data": {
      "text/plain": [
       "[24, 16, 15, 2, 1, 0]"
      ]
     },
     "execution_count": 3,
     "metadata": {},
     "output_type": "execute_result"
    }
   ],
   "source": [
    "# Reverse function of list = to arrange the data in descending order \n",
    "\n",
    "b.reverse()\n",
    "b"
   ]
  },
  {
   "cell_type": "code",
   "execution_count": 8,
   "id": "e696deb2",
   "metadata": {},
   "outputs": [
    {
     "name": "stdout",
     "output_type": "stream",
     "text": [
      "15\n"
     ]
    }
   ],
   "source": [
    "# accessing the element of the list with the help of index value\n",
    "\n",
    "print(b[3])"
   ]
  },
  {
   "cell_type": "code",
   "execution_count": 9,
   "id": "18e83826",
   "metadata": {},
   "outputs": [
    {
     "name": "stdout",
     "output_type": "stream",
     "text": [
      "16\n"
     ]
    }
   ],
   "source": [
    "# Backward indexing\n",
    "\n",
    "print(b[-2])"
   ]
  },
  {
   "cell_type": "code",
   "execution_count": 12,
   "id": "c847c275",
   "metadata": {},
   "outputs": [
    {
     "data": {
      "text/plain": [
       "6"
      ]
     },
     "execution_count": 12,
     "metadata": {},
     "output_type": "execute_result"
    }
   ],
   "source": [
    "#len function use to count the number of variable in yhe list \n",
    "\n",
    "len(b)"
   ]
  },
  {
   "cell_type": "code",
   "execution_count": 13,
   "id": "9a558b8c",
   "metadata": {},
   "outputs": [
    {
     "name": "stdout",
     "output_type": "stream",
     "text": [
      "[1, 2, 3, 23, 4, 5]\n"
     ]
    }
   ],
   "source": [
    "# insertind data in between\n",
    "list1 = [1,2,3,4,5]\n",
    "element = 23\n",
    "before = 4\n",
    "index = list1.index(before)   #Finding the index value of 4 which is stored is stored in before variable\n",
    "list1.insert(index,element)\n",
    "print(list1)"
   ]
  },
  {
   "cell_type": "code",
   "execution_count": 14,
   "id": "e8604448",
   "metadata": {},
   "outputs": [
    {
     "data": {
      "text/plain": [
       "23"
      ]
     },
     "execution_count": 14,
     "metadata": {},
     "output_type": "execute_result"
    }
   ],
   "source": [
    "# Maximum in the list\n",
    "max(list1)"
   ]
  },
  {
   "cell_type": "code",
   "execution_count": 15,
   "id": "a846f002",
   "metadata": {},
   "outputs": [
    {
     "data": {
      "text/plain": [
       "1"
      ]
     },
     "execution_count": 15,
     "metadata": {},
     "output_type": "execute_result"
    }
   ],
   "source": [
    "# Minimum in the list\n",
    "min(list1)"
   ]
  },
  {
   "cell_type": "code",
   "execution_count": 109,
   "id": "906abc8d",
   "metadata": {},
   "outputs": [
    {
     "name": "stdout",
     "output_type": "stream",
     "text": [
      "['a very big data', 9, 'Hi', 2]\n"
     ]
    }
   ],
   "source": [
    "#Index Value = insert the data in mid\n",
    "a=['a very big data',9,6,2]\n",
    "a[2]='Hi'\n",
    "print(a)"
   ]
  },
  {
   "cell_type": "code",
   "execution_count": 110,
   "id": "be779fa4",
   "metadata": {},
   "outputs": [
    {
     "name": "stdout",
     "output_type": "stream",
     "text": [
      "1\n"
     ]
    }
   ],
   "source": [
    "index = a.index(9)\n",
    "print (index)"
   ]
  },
  {
   "cell_type": "code",
   "execution_count": 32,
   "id": "f9526f8d",
   "metadata": {},
   "outputs": [
    {
     "name": "stdout",
     "output_type": "stream",
     "text": [
      "1\n"
     ]
    }
   ],
   "source": [
    "# Finding Index value \n",
    "Animals = ['cat','dog','rabbit','horse']\n",
    "index = Animals.index('dog')\n",
    "print (index)"
   ]
  },
  {
   "cell_type": "code",
   "execution_count": 12,
   "id": "df65fdff",
   "metadata": {},
   "outputs": [
    {
     "data": {
      "text/plain": [
       "['cat', 'dog', 'rabbit', 'sparrow', 'horse']"
      ]
     },
     "execution_count": 12,
     "metadata": {},
     "output_type": "execute_result"
    }
   ],
   "source": [
    "element='sparrow'\n",
    "before='horse'\n",
    "index=Animals.index('horse')\n",
    "Animals.insert(index,element)\n",
    "Animals"
   ]
  },
  {
   "cell_type": "code",
   "execution_count": 33,
   "id": "05effd47",
   "metadata": {},
   "outputs": [
    {
     "name": "stdout",
     "output_type": "stream",
     "text": [
      "3\n"
     ]
    },
    {
     "data": {
      "text/plain": [
       "['cat', 'dog', 'rabbit', 'sparrow', 'horse']"
      ]
     },
     "execution_count": 33,
     "metadata": {},
     "output_type": "execute_result"
    }
   ],
   "source": [
    "element='sparrow'\n",
    "before='horse'\n",
    "index1 = Animals.index('horse')\n",
    "print(index1)\n",
    "Animals.insert(3,element)\n",
    "Animals"
   ]
  },
  {
   "cell_type": "code",
   "execution_count": 34,
   "id": "1453c300",
   "metadata": {},
   "outputs": [
    {
     "name": "stdout",
     "output_type": "stream",
     "text": [
      "[1, 2, 3, 4, 5, 6, 8, 9]\n"
     ]
    }
   ],
   "source": [
    "element='sparrow'\n",
    "before='horse'\n",
    "index1 = Animals.index('horse')\n",
    "print(index1)\n",
    "Animals.insert(3,element)\n",
    "Animals"
   ]
  },
  {
   "cell_type": "code",
   "execution_count": 30,
   "id": "67591a51",
   "metadata": {},
   "outputs": [
    {
     "data": {
      "text/plain": [
       "5"
      ]
     },
     "execution_count": 30,
     "metadata": {},
     "output_type": "execute_result"
    }
   ],
   "source": [
    "index = students_roll.index(6)\n",
    "index"
   ]
  },
  {
   "cell_type": "code",
   "execution_count": 31,
   "id": "541cb769",
   "metadata": {},
   "outputs": [
    {
     "data": {
      "text/plain": [
       "9"
      ]
     },
     "execution_count": 31,
     "metadata": {},
     "output_type": "execute_result"
    }
   ],
   "source": [
    "max(students_roll)"
   ]
  },
  {
   "cell_type": "code",
   "execution_count": 32,
   "id": "3732f1ff",
   "metadata": {},
   "outputs": [
    {
     "data": {
      "text/plain": [
       "1"
      ]
     },
     "execution_count": 32,
     "metadata": {},
     "output_type": "execute_result"
    }
   ],
   "source": [
    "min(students_roll)"
   ]
  },
  {
   "cell_type": "code",
   "execution_count": 37,
   "id": "d4978c7f",
   "metadata": {},
   "outputs": [
    {
     "data": {
      "text/plain": [
       "[1, 2, 3, 4, 5, 6, 8, 6]"
      ]
     },
     "execution_count": 37,
     "metadata": {},
     "output_type": "execute_result"
    }
   ],
   "source": [
    "students_roll[7] = 6\n",
    "students_roll"
   ]
  },
  {
   "cell_type": "code",
   "execution_count": 34,
   "id": "3f4a9f25",
   "metadata": {},
   "outputs": [
    {
     "data": {
      "text/plain": [
       "[9, 8, 6, 5, 4, 3, 2, 1]"
      ]
     },
     "execution_count": 34,
     "metadata": {},
     "output_type": "execute_result"
    }
   ],
   "source": [
    "students_roll.reverse()\n",
    "students_roll"
   ]
  },
  {
   "cell_type": "code",
   "execution_count": 35,
   "id": "43d3c71e",
   "metadata": {},
   "outputs": [
    {
     "data": {
      "text/plain": [
       "list"
      ]
     },
     "execution_count": 35,
     "metadata": {},
     "output_type": "execute_result"
    }
   ],
   "source": [
    "type(students_roll)"
   ]
  },
  {
   "cell_type": "code",
   "execution_count": 39,
   "id": "1a6b22a7",
   "metadata": {},
   "outputs": [
    {
     "name": "stdout",
     "output_type": "stream",
     "text": [
      "14\n"
     ]
    }
   ],
   "source": [
    "#Slicing = Slicing is a concept in python which is used to retrive or extract multiple data through index value\n",
    "#Variable [start index : end index : step]\n",
    "x = 'This is a book'\n",
    "m = len(x)\n",
    "print (m)"
   ]
  },
  {
   "cell_type": "code",
   "execution_count": 51,
   "id": "ecf0d498",
   "metadata": {},
   "outputs": [
    {
     "data": {
      "text/plain": [
       "14"
      ]
     },
     "execution_count": 51,
     "metadata": {},
     "output_type": "execute_result"
    }
   ],
   "source": [
    "x1 = 'This is a book'\n",
    "len(x1)"
   ]
  },
  {
   "cell_type": "code",
   "execution_count": 52,
   "id": "95973888",
   "metadata": {},
   "outputs": [
    {
     "data": {
      "text/plain": [
       "'This is a book'"
      ]
     },
     "execution_count": 52,
     "metadata": {},
     "output_type": "execute_result"
    }
   ],
   "source": [
    "#Slicing rule => inclusive and exclusive\n",
    "#Forward Slicing\n",
    "x1[0:10]\n",
    "x1"
   ]
  },
  {
   "cell_type": "code",
   "execution_count": 53,
   "id": "a1b763b8",
   "metadata": {},
   "outputs": [
    {
     "name": "stdout",
     "output_type": "stream",
     "text": [
      "koob a si sihT\n"
     ]
    }
   ],
   "source": [
    "#Backward Slicing\n",
    "print(x[m::-1])"
   ]
  },
  {
   "cell_type": "code",
   "execution_count": 1,
   "id": "6b9b9465",
   "metadata": {},
   "outputs": [
    {
     "data": {
      "text/plain": [
       "'He is playing'"
      ]
     },
     "execution_count": 1,
     "metadata": {},
     "output_type": "execute_result"
    }
   ],
   "source": [
    "x = 'He is playing'\n",
    "m = len(x)\n",
    "x[6:len(x)]\n",
    "x"
   ]
  },
  {
   "cell_type": "markdown",
   "id": "dac8b304",
   "metadata": {},
   "source": [
    "# Coding question based on list data structure"
   ]
  },
  {
   "cell_type": "markdown",
   "id": "305313d1",
   "metadata": {},
   "source": [
    "in operator will return to if specific element is a list"
   ]
  },
  {
   "cell_type": "markdown",
   "id": "406f50d9",
   "metadata": {},
   "source": [
    "Q1.  How to chech whether an element is present in a list"
   ]
  },
  {
   "cell_type": "code",
   "execution_count": 2,
   "id": "43bd7e39",
   "metadata": {},
   "outputs": [
    {
     "data": {
      "text/plain": [
       "True"
      ]
     },
     "execution_count": 2,
     "metadata": {},
     "output_type": "execute_result"
    }
   ],
   "source": [
    "list=['Apple','Mango','Pear','Strawberry','Dagon Fruit','Melon']\n",
    "'Apple' in list\n"
   ]
  },
  {
   "cell_type": "markdown",
   "id": "7d894c09",
   "metadata": {},
   "source": [
    "Q2. How to iterate over to or more than two list at same time\n",
    "\n",
    "NOTE  : Zip function is use to merge and iterate over the zip object.\n",
    "Zip object is iterate of tuple"
   ]
  },
  {
   "cell_type": "code",
   "execution_count": 55,
   "id": "32027537",
   "metadata": {},
   "outputs": [
    {
     "name": "stdout",
     "output_type": "stream",
     "text": [
      "Mercedes Benz the AMG GT is Green\n",
      "Toyota the Legender is Grey\n",
      "Ford the Mustang is Blue\n",
      "BMW the Urus is Black\n"
     ]
    }
   ],
   "source": [
    "List1 = ['Mercedes Benz','Toyota','Ford','BMW','Lamborghini']\n",
    "list2 = ['AMG GT','Legender','Mustang','Urus']\n",
    "list3 = ['Green','Grey','Blue','Black','Navi Blue']\n",
    "z = zip(List1,list2,list3)\n",
    "for List1,list2,list3 in z:\n",
    "  print(\"%s the %s is %s\" % (List1,list2,list3))    "
   ]
  },
  {
   "cell_type": "code",
   "execution_count": 12,
   "id": "2e7558a9",
   "metadata": {},
   "outputs": [
    {
     "name": "stdout",
     "output_type": "stream",
     "text": [
      "[1, 2, 3, 4, 5, [6, 7]]\n"
     ]
    }
   ],
   "source": [
    "list4 = [1,2,3,4,5]\n",
    "list4.append([6,7])\n",
    "print(list4)"
   ]
  },
  {
   "cell_type": "code",
   "execution_count": 11,
   "id": "08bc9d1c",
   "metadata": {},
   "outputs": [
    {
     "name": "stdout",
     "output_type": "stream",
     "text": [
      "[1, 2, 3, 4, 5, 6, 7]\n"
     ]
    }
   ],
   "source": [
    "list4 = [1,2,3,4,5]\n",
    "list4.extend([6,7])\n",
    "print(list4)"
   ]
  },
  {
   "cell_type": "code",
   "execution_count": 13,
   "id": "e49062f8",
   "metadata": {},
   "outputs": [
    {
     "name": "stdout",
     "output_type": "stream",
     "text": [
      "['Mercedes Benz', 'Toyota', 'Ford', 'BMW', 'Audi', 'Lamborgini', 'Mini Coper']\n"
     ]
    }
   ],
   "source": [
    "list5 = ['Mercedes Benz','Toyota','Ford','BMW','Audi','Lamborgini']\n",
    "list5.extend(['Mini Coper'])\n",
    "print(list5)"
   ]
  },
  {
   "cell_type": "markdown",
   "id": "5378196b",
   "metadata": {},
   "source": [
    "Append and exend function in a list both are responsible to add data in the exsisting list both store the value in the list but the difference between append and extend is append can have list inside list where as extend does not allow addind list inside a list, instead it treates the data as its own value"
   ]
  },
  {
   "cell_type": "markdown",
   "id": "1d51c21e",
   "metadata": {},
   "source": [
    "Remove function removes the 1st instent of the matching object\n",
    "Pop function remove an object by index\n",
    "Pop function gives the removed data where as Remove function gives the whole list of data leaving the remove once "
   ]
  },
  {
   "cell_type": "code",
   "execution_count": 59,
   "id": "eccc805a",
   "metadata": {},
   "outputs": [
    {
     "name": "stdout",
     "output_type": "stream",
     "text": [
      "['a', 'b', 'b', 'c', 'c']\n"
     ]
    }
   ],
   "source": [
    "a = ['a', 'a', 'b', 'b', 'c', 'c']\n",
    "a.remove('a')\n",
    "print(a)"
   ]
  },
  {
   "cell_type": "code",
   "execution_count": 60,
   "id": "2d39c9ff",
   "metadata": {},
   "outputs": [
    {
     "data": {
      "text/plain": [
       "'c'"
      ]
     },
     "execution_count": 60,
     "metadata": {},
     "output_type": "execute_result"
    }
   ],
   "source": [
    "a.pop(3)"
   ]
  },
  {
   "cell_type": "code",
   "execution_count": 61,
   "id": "f2bbdbf5",
   "metadata": {},
   "outputs": [
    {
     "data": {
      "text/plain": [
       "['a', 'b', 'b', 'c']"
      ]
     },
     "execution_count": 61,
     "metadata": {},
     "output_type": "execute_result"
    }
   ],
   "source": [
    "a"
   ]
  },
  {
   "cell_type": "code",
   "execution_count": 70,
   "id": "c6678913",
   "metadata": {},
   "outputs": [
    {
     "data": {
      "text/plain": [
       "['a', 'a', 'b', 'b', 'c', 'c']"
      ]
     },
     "execution_count": 70,
     "metadata": {},
     "output_type": "execute_result"
    }
   ],
   "source": [
    "a1 = ['a', 'a', 'b', 'b', 'c', 'c']\n",
    "a1"
   ]
  },
  {
   "cell_type": "code",
   "execution_count": 66,
   "id": "538b8b7a",
   "metadata": {},
   "outputs": [
    {
     "data": {
      "text/plain": [
       "0"
      ]
     },
     "execution_count": 66,
     "metadata": {},
     "output_type": "execute_result"
    }
   ],
   "source": [
    "index = a1.index('a')\n",
    "index"
   ]
  },
  {
   "cell_type": "code",
   "execution_count": 72,
   "id": "eed2d456",
   "metadata": {},
   "outputs": [
    {
     "data": {
      "text/plain": [
       "2"
      ]
     },
     "execution_count": 72,
     "metadata": {},
     "output_type": "execute_result"
    }
   ],
   "source": [
    "a1.index('b')\n"
   ]
  },
  {
   "cell_type": "markdown",
   "id": "1f19c82d",
   "metadata": {},
   "source": [
    "Q3. How to find the first occurance of the first matching element"
   ]
  },
  {
   "cell_type": "code",
   "execution_count": 77,
   "id": "9d5663c1",
   "metadata": {},
   "outputs": [
    {
     "data": {
      "text/plain": [
       "1"
      ]
     },
     "execution_count": 77,
     "metadata": {},
     "output_type": "execute_result"
    }
   ],
   "source": [
    "list6 = ['Apple','Mango','Apple','Pear','Strawberry','Dagon Fruit','Melon','Mango']\n",
    "list6.index('Mango')\n"
   ]
  },
  {
   "cell_type": "code",
   "execution_count": 79,
   "id": "7e37028c",
   "metadata": {},
   "outputs": [
    {
     "data": {
      "text/plain": [
       "'Mango'"
      ]
     },
     "execution_count": 79,
     "metadata": {},
     "output_type": "execute_result"
    }
   ],
   "source": [
    "list6[7]"
   ]
  },
  {
   "cell_type": "markdown",
   "id": "80e2da11",
   "metadata": {},
   "source": [
    "Q4. How to concatenate two list "
   ]
  },
  {
   "cell_type": "code",
   "execution_count": 80,
   "id": "82c6fbd3",
   "metadata": {},
   "outputs": [
    {
     "name": "stdout",
     "output_type": "stream",
     "text": [
      "['Mercedes Benz', 'Toyota', 'Ford', 'BMW', 'Audi', 'Lamborghini', 'AMG GT', 'Legender', 'Mustange', 'Q8', 'Urus']\n"
     ]
    }
   ],
   "source": [
    "List1 = ['Mercedes Benz','Toyota','Ford','BMW','Audi','Lamborghini']\n",
    "list2 = ['AMG GT','Legender','Mustange','Q8','Urus']\n",
    "list7 = List1+list2\n",
    "print(list7)"
   ]
  },
  {
   "cell_type": "markdown",
   "id": "bd099328",
   "metadata": {},
   "source": [
    "Q5. How to count the occurance of the specificobject in the list"
   ]
  },
  {
   "cell_type": "code",
   "execution_count": 81,
   "id": "744f175c",
   "metadata": {},
   "outputs": [
    {
     "data": {
      "text/plain": [
       "5"
      ]
     },
     "execution_count": 81,
     "metadata": {},
     "output_type": "execute_result"
    }
   ],
   "source": [
    "a=(1,2,3,2,4,4,5,6,8,5,6,1,9,4,4,5,4)    # The count function returns the no of occurance of a specific object in the list\n",
    "a.count(4)"
   ]
  },
  {
   "cell_type": "markdown",
   "id": "7069c455",
   "metadata": {},
   "source": [
    "Q6. How to shallow copy a list     {shallow = little deeply}"
   ]
  },
  {
   "cell_type": "code",
   "execution_count": 25,
   "id": "b1f06268",
   "metadata": {},
   "outputs": [
    {
     "data": {
      "text/plain": [
       "['Train', 'Bus', 'Car', 'Boat', 'Aeroplane', 'Horse', 'Bike']"
      ]
     },
     "execution_count": 25,
     "metadata": {},
     "output_type": "execute_result"
    }
   ],
   "source": [
    "b=['Train','Bus','Car','Boat','Aeroplane','Horse','Bike']\n",
    "c=b.copy()\n",
    "c"
   ]
  },
  {
   "cell_type": "code",
   "execution_count": 99,
   "id": "e7625d2e",
   "metadata": {},
   "outputs": [
    {
     "data": {
      "text/plain": [
       "[1, 2, 3, 4, 5, 6, 7, 8, 9, 10, 11, 12, 13, 14, 15, 16, 17, 18, 19, 20]"
      ]
     },
     "execution_count": 99,
     "metadata": {},
     "output_type": "execute_result"
    }
   ],
   "source": [
    "A=[1,2,3,4,5,6,7,8,9,10,11,12,13,14,15,16,17,18,19,20]\n",
    "B=A.copy()\n",
    "B"
   ]
  },
  {
   "cell_type": "code",
   "execution_count": 90,
   "id": "04c759ff",
   "metadata": {},
   "outputs": [
    {
     "data": {
      "text/plain": [
       "[2, 5, 8, 11, 14, 17, 20]"
      ]
     },
     "execution_count": 90,
     "metadata": {},
     "output_type": "execute_result"
    }
   ],
   "source": [
    "B[1:20:3]   # Shallow  Copy"
   ]
  },
  {
   "cell_type": "code",
   "execution_count": 100,
   "id": "1de31ca6",
   "metadata": {},
   "outputs": [
    {
     "data": {
      "text/plain": [
       "[20, 19, 18, 17, 16, 15, 14, 13, 12, 11, 10, 9, 8, 7, 6, 5, 4, 3, 2, 1]"
      ]
     },
     "execution_count": 100,
     "metadata": {},
     "output_type": "execute_result"
    }
   ],
   "source": [
    "B[::-1]\n",
    "# Backward Slicing"
   ]
  },
  {
   "cell_type": "code",
   "execution_count": 83,
   "id": "f91be892",
   "metadata": {},
   "outputs": [
    {
     "data": {
      "text/plain": [
       "[3, 4, 5, 6, 7, 8]"
      ]
     },
     "execution_count": 83,
     "metadata": {},
     "output_type": "execute_result"
    }
   ],
   "source": [
    "B[2:8]   #inclusive and exclusive"
   ]
  },
  {
   "cell_type": "markdown",
   "id": "863276f5",
   "metadata": {},
   "source": [
    "Q7. How to deep copy a list to deep copy a list we need to import the copy module and then call copy.deepcopy() function"
   ]
  },
  {
   "cell_type": "code",
   "execution_count": 38,
   "id": "660660f5",
   "metadata": {},
   "outputs": [
    {
     "name": "stdout",
     "output_type": "stream",
     "text": [
      "[['Arnold', 'Sylvester', 'Jean Claude'], ['Buttercup', 'Bubbles', 'Blossom']]\n",
      "[['Jet Lee', 'Sylvester', 'Jean Claude'], ['Buttercup', 'Bubbles', 'Blossom']]\n"
     ]
    }
   ],
   "source": [
    "import copy \n",
    "round1 = [\n",
    "    ['Arnold', 'Sylvester', 'Jean Claude'],\n",
    "    ['Buttercup', 'Bubbles', 'Blossom']\n",
    "]\n",
    "round2 = copy.deepcopy(round1)\n",
    "round2[0][0] = 'Jet Lee'\n",
    "print(round1)\n",
    "print(round2)"
   ]
  },
  {
   "cell_type": "code",
   "execution_count": null,
   "id": "b7bb386e",
   "metadata": {},
   "outputs": [],
   "source": [
    "roun"
   ]
  },
  {
   "cell_type": "code",
   "execution_count": 2,
   "id": "1ddb45d5",
   "metadata": {},
   "outputs": [
    {
     "name": "stdout",
     "output_type": "stream",
     "text": [
      "[['Sunflower', 'Jasmine', 'Rose', 'Lavender', 'Bougainvillea'], ['Yellow', 'White', 'Red', 'Voilet', 'Pink']]\n",
      "[['Water Lily', 'Jasmine', 'Rose', 'Lavender', 'Bougainvillea'], ['Yellow', 'White', 'Red', 'Voilet', 'Pink']]\n"
     ]
    }
   ],
   "source": [
    "import copy\n",
    "l1 = [\n",
    "   ['Sunflower','Jasmine','Rose','Lavender','Bougainvillea'],\n",
    "   ['Yellow','White','Red','Voilet','Pink']\n",
    "]\n",
    "l2 = copy.deepcopy(l1)\n",
    "l2[0][0] = 'Water Lily'\n",
    "print(l1)\n",
    "print(l2)"
   ]
  },
  {
   "cell_type": "code",
   "execution_count": null,
   "id": "aa6310fd",
   "metadata": {},
   "outputs": [],
   "source": []
  }
 ],
 "metadata": {
  "kernelspec": {
   "display_name": "Python 3",
   "language": "python",
   "name": "python3"
  },
  "language_info": {
   "codemirror_mode": {
    "name": "ipython",
    "version": 3
   },
   "file_extension": ".py",
   "mimetype": "text/x-python",
   "name": "python",
   "nbconvert_exporter": "python",
   "pygments_lexer": "ipython3",
   "version": "3.8.8"
  }
 },
 "nbformat": 4,
 "nbformat_minor": 5
}
