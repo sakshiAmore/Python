{
 "cells": [
  {
   "cell_type": "markdown",
   "id": "420c9591",
   "metadata": {},
   "source": [
    "# Sets"
   ]
  },
  {
   "cell_type": "markdown",
   "id": "5978be7c",
   "metadata": {},
   "source": [
    "A set is an unorder collection of items\n",
    "Every set element is unique. A set is a mutable data structure.\n",
    "A set can also be use to perform mathematical set operation like union, intersection semetric different etc.\n",
    "A set is created by using '{}'. It cannot have mutable elements like list, dictionary as its element."
   ]
  },
  {
   "cell_type": "markdown",
   "id": "81844fea",
   "metadata": {},
   "source": [
    "Defining a set"
   ]
  },
  {
   "cell_type": "code",
   "execution_count": 1,
   "id": "90a77695",
   "metadata": {},
   "outputs": [
    {
     "name": "stdout",
     "output_type": "stream",
     "text": [
      "{1, 2, 3}\n"
     ]
    }
   ],
   "source": [
    "Set={1,2,3}\n",
    "print(Set)"
   ]
  },
  {
   "cell_type": "markdown",
   "id": "6b560c98",
   "metadata": {},
   "source": [
    "Similarity = Dictionary and sets both are unorder structure. They both are mutable\n",
    "Dissimilarity = Set doesn't allow repeated element where as dict allows. Set is unindex where as dict is index. \n",
    "Dictionary have keys value pairs where as sets values ."
   ]
  },
  {
   "cell_type": "code",
   "execution_count": 2,
   "id": "79c4f9af",
   "metadata": {},
   "outputs": [
    {
     "data": {
      "text/plain": [
       "{(1, 2, 3), 1.0, 'Sam'}"
      ]
     },
     "execution_count": 2,
     "metadata": {},
     "output_type": "execute_result"
    }
   ],
   "source": [
    "Set1={1.0,'Sam',(1,2,3)}\n",
    "Set1"
   ]
  },
  {
   "cell_type": "code",
   "execution_count": 1,
   "id": "55d48418",
   "metadata": {},
   "outputs": [
    {
     "data": {
      "text/plain": [
       "{1, 2, 3, 4}"
      ]
     },
     "execution_count": 1,
     "metadata": {},
     "output_type": "execute_result"
    }
   ],
   "source": [
    "a=[1,2,3,4]\n",
    "Set2=set(a)   # converting list to set\n",
    "Set2"
   ]
  },
  {
   "cell_type": "code",
   "execution_count": 4,
   "id": "b624b3b1",
   "metadata": {},
   "outputs": [
    {
     "data": {
      "text/plain": [
       "set"
      ]
     },
     "execution_count": 4,
     "metadata": {},
     "output_type": "execute_result"
    }
   ],
   "source": [
    "type(Set2)"
   ]
  },
  {
   "cell_type": "markdown",
   "id": "e998ee8a",
   "metadata": {},
   "source": [
    "Distinguish set and dictionary while creating empty set"
   ]
  },
  {
   "cell_type": "code",
   "execution_count": 5,
   "id": "d1eec90d",
   "metadata": {},
   "outputs": [
    {
     "data": {
      "text/plain": [
       "dict"
      ]
     },
     "execution_count": 5,
     "metadata": {},
     "output_type": "execute_result"
    }
   ],
   "source": [
    "dict1={}\n",
    "type(dict1)"
   ]
  },
  {
   "cell_type": "code",
   "execution_count": 6,
   "id": "e0620e74",
   "metadata": {},
   "outputs": [
    {
     "data": {
      "text/plain": [
       "dict"
      ]
     },
     "execution_count": 6,
     "metadata": {},
     "output_type": "execute_result"
    }
   ],
   "source": [
    "Set3={}\n",
    "type(Set3)"
   ]
  },
  {
   "cell_type": "code",
   "execution_count": 7,
   "id": "b4d6ade1",
   "metadata": {},
   "outputs": [
    {
     "data": {
      "text/plain": [
       "set"
      ]
     },
     "execution_count": 7,
     "metadata": {},
     "output_type": "execute_result"
    }
   ],
   "source": [
    "Set4=set()\n",
    "type(Set4)"
   ]
  },
  {
   "cell_type": "code",
   "execution_count": 3,
   "id": "e17eb3a5",
   "metadata": {},
   "outputs": [
    {
     "data": {
      "text/plain": [
       "{1, 2, 3, 'Sam', 'Samadhan Bhai', 'Sushmita di'}"
      ]
     },
     "execution_count": 3,
     "metadata": {},
     "output_type": "execute_result"
    }
   ],
   "source": [
    "Set5={1,2,3,'Sam','Sushmita di','Samadhan Bhai'}\n",
    "Set5"
   ]
  },
  {
   "cell_type": "code",
   "execution_count": 4,
   "id": "f0b1fcd2",
   "metadata": {},
   "outputs": [
    {
     "data": {
      "text/plain": [
       "{1, 2, 3, 'Apple', 'Sam', 'Samadhan Bhai', 'Sushmita di'}"
      ]
     },
     "execution_count": 4,
     "metadata": {},
     "output_type": "execute_result"
    }
   ],
   "source": [
    "Set5.add('Apple')\n",
    "Set5"
   ]
  },
  {
   "cell_type": "code",
   "execution_count": 5,
   "id": "3272077a",
   "metadata": {},
   "outputs": [
    {
     "data": {
      "text/plain": [
       "{1, 2, 3, 6, 'Apple', 'Sam', 'Samadhan Bhai', 'Sushmita di'}"
      ]
     },
     "execution_count": 5,
     "metadata": {},
     "output_type": "execute_result"
    }
   ],
   "source": [
    "Set5.update([2,3,6])   #duplication\n",
    "Set5"
   ]
  },
  {
   "cell_type": "code",
   "execution_count": 6,
   "id": "afc1ae6c",
   "metadata": {},
   "outputs": [
    {
     "data": {
      "text/plain": [
       "{1, 2, 3, 6, 'Apple', 'Sam', 'Samadhan Bhai', 'Sushmita di'}"
      ]
     },
     "execution_count": 6,
     "metadata": {},
     "output_type": "execute_result"
    }
   ],
   "source": [
    "Set5.add(6)\n",
    "Set5"
   ]
  },
  {
   "cell_type": "markdown",
   "id": "7d317a38",
   "metadata": {},
   "source": [
    "The difference between add function and update function is \n",
    "1. In add function we can only add one data where as in  update function we can add multiple data .\n",
    "2. (NOTE : By using both the functions the matching data which is already defined in an excisiting set we cannot repeat the elements in the set)"
   ]
  },
  {
   "cell_type": "markdown",
   "id": "9d25d980",
   "metadata": {},
   "source": [
    "Adding a list and a set in an excisitng set"
   ]
  },
  {
   "cell_type": "code",
   "execution_count": 7,
   "id": "a243f5b8",
   "metadata": {},
   "outputs": [
    {
     "data": {
      "text/plain": [
       "{1,\n",
       " 2,\n",
       " 3,\n",
       " 34,\n",
       " 56,\n",
       " 6,\n",
       " 'Apple',\n",
       " 'COD',\n",
       " 'Freefire',\n",
       " 'Sam',\n",
       " 'Samadhan Bhai',\n",
       " 'Sushmita di'}"
      ]
     },
     "execution_count": 7,
     "metadata": {},
     "output_type": "execute_result"
    }
   ],
   "source": [
    "Set5.update(['COD','Freefire'],{34,56})\n",
    "Set5"
   ]
  },
  {
   "cell_type": "markdown",
   "id": "64e80c6b",
   "metadata": {},
   "source": [
    "To delete an element we use 2 function\n",
    "1. Discard\n",
    "2. Remove"
   ]
  },
  {
   "cell_type": "code",
   "execution_count": 13,
   "id": "065e5103",
   "metadata": {},
   "outputs": [
    {
     "data": {
      "text/plain": [
       "{1, 2, 3, 4}"
      ]
     },
     "execution_count": 13,
     "metadata": {},
     "output_type": "execute_result"
    }
   ],
   "source": [
    "Set6={1,2,3,4,5}\n",
    "Set6.discard(5)\n",
    "Set6"
   ]
  },
  {
   "cell_type": "code",
   "execution_count": 14,
   "id": "03c8f334",
   "metadata": {},
   "outputs": [
    {
     "data": {
      "text/plain": [
       "{1, 3, 4}"
      ]
     },
     "execution_count": 14,
     "metadata": {},
     "output_type": "execute_result"
    }
   ],
   "source": [
    "Set6.remove(2)\n",
    "Set6"
   ]
  },
  {
   "cell_type": "code",
   "execution_count": 16,
   "id": "6836ce72",
   "metadata": {},
   "outputs": [
    {
     "data": {
      "text/plain": [
       "{1, 3, 4}"
      ]
     },
     "execution_count": 16,
     "metadata": {},
     "output_type": "execute_result"
    }
   ],
   "source": [
    "Set6.discard(6)\n",
    "Set6"
   ]
  },
  {
   "cell_type": "code",
   "execution_count": 17,
   "id": "d258bcd5",
   "metadata": {},
   "outputs": [
    {
     "ename": "KeyError",
     "evalue": "6",
     "output_type": "error",
     "traceback": [
      "\u001b[1;31m---------------------------------------------------------------------------\u001b[0m",
      "\u001b[1;31mKeyError\u001b[0m                                  Traceback (most recent call last)",
      "\u001b[1;32m<ipython-input-17-bca93119f9ca>\u001b[0m in \u001b[0;36m<module>\u001b[1;34m\u001b[0m\n\u001b[1;32m----> 1\u001b[1;33m \u001b[0mSet6\u001b[0m\u001b[1;33m.\u001b[0m\u001b[0mremove\u001b[0m\u001b[1;33m(\u001b[0m\u001b[1;36m6\u001b[0m\u001b[1;33m)\u001b[0m\u001b[1;33m\u001b[0m\u001b[1;33m\u001b[0m\u001b[0m\n\u001b[0m\u001b[0;32m      2\u001b[0m \u001b[0mSet6\u001b[0m\u001b[1;33m\u001b[0m\u001b[1;33m\u001b[0m\u001b[0m\n",
      "\u001b[1;31mKeyError\u001b[0m: 6"
     ]
    }
   ],
   "source": [
    "Set6.remove(6)\n",
    "Set6"
   ]
  },
  {
   "cell_type": "markdown",
   "id": "acce42cd",
   "metadata": {},
   "source": [
    "Discard as well as Remove both delete the data but the difference is \n",
    "Remove we guide you where the data is available where as discard will no and print the set as it is."
   ]
  },
  {
   "cell_type": "code",
   "execution_count": 9,
   "id": "2b242678",
   "metadata": {},
   "outputs": [
    {
     "data": {
      "text/plain": [
       "1"
      ]
     },
     "execution_count": 9,
     "metadata": {},
     "output_type": "execute_result"
    }
   ],
   "source": [
    "Set7={1,2,3,4,6,7}\n",
    "Set7.pop()"
   ]
  },
  {
   "cell_type": "code",
   "execution_count": 10,
   "id": "100563b3",
   "metadata": {},
   "outputs": [
    {
     "data": {
      "text/plain": [
       "{2, 3, 4, 6, 7}"
      ]
     },
     "execution_count": 10,
     "metadata": {},
     "output_type": "execute_result"
    }
   ],
   "source": [
    "Set7"
   ]
  },
  {
   "cell_type": "code",
   "execution_count": 16,
   "id": "d648bed4",
   "metadata": {},
   "outputs": [
    {
     "data": {
      "text/plain": [
       "3"
      ]
     },
     "execution_count": 16,
     "metadata": {},
     "output_type": "execute_result"
    }
   ],
   "source": [
    "Set7.pop()"
   ]
  },
  {
   "cell_type": "code",
   "execution_count": 17,
   "id": "f20d3272",
   "metadata": {},
   "outputs": [
    {
     "data": {
      "text/plain": [
       "4"
      ]
     },
     "execution_count": 17,
     "metadata": {},
     "output_type": "execute_result"
    }
   ],
   "source": [
    "Set7.pop()"
   ]
  },
  {
   "cell_type": "code",
   "execution_count": 24,
   "id": "0af88bf7",
   "metadata": {},
   "outputs": [
    {
     "data": {
      "text/plain": [
       "set()"
      ]
     },
     "execution_count": 24,
     "metadata": {},
     "output_type": "execute_result"
    }
   ],
   "source": [
    "Set7.clear()\n",
    "Set7"
   ]
  },
  {
   "cell_type": "markdown",
   "id": "39fb535d",
   "metadata": {},
   "source": [
    "Python Set operation :\n",
    "Python Sets can be use to carry out mathematical set operation like union, intersection, difference, symmetric difference,\n",
    "We can do these operation with the help of operators and method."
   ]
  },
  {
   "cell_type": "code",
   "execution_count": 37,
   "id": "48d14202",
   "metadata": {},
   "outputs": [
    {
     "name": "stdout",
     "output_type": "stream",
     "text": [
      "{1, 2, 3, 4, 5, 6, 7, 8}\n"
     ]
    }
   ],
   "source": [
    "a={1,2,3,4,5}     \n",
    "b={4,5,6,7,8}\n",
    "print(a|b)"
   ]
  },
  {
   "cell_type": "markdown",
   "id": "5358b448",
   "metadata": {},
   "source": [
    "The union operation which is perform with the help of | elementates the common data and clubs the distinguish values of the sets."
   ]
  },
  {
   "cell_type": "code",
   "execution_count": 26,
   "id": "8d6080fa",
   "metadata": {},
   "outputs": [
    {
     "data": {
      "text/plain": [
       "{1, 2, 3, 4, 5, 6, 7, 8}"
      ]
     },
     "execution_count": 26,
     "metadata": {},
     "output_type": "execute_result"
    }
   ],
   "source": [
    "a.union(b)"
   ]
  },
  {
   "cell_type": "markdown",
   "id": "613a13e8",
   "metadata": {},
   "source": [
    "Set in intersection of set"
   ]
  },
  {
   "cell_type": "code",
   "execution_count": 27,
   "id": "da9239f1",
   "metadata": {},
   "outputs": [
    {
     "name": "stdout",
     "output_type": "stream",
     "text": [
      "{4, 5}\n"
     ]
    }
   ],
   "source": [
    "print(a & b)"
   ]
  },
  {
   "cell_type": "code",
   "execution_count": 28,
   "id": "741e6ffb",
   "metadata": {},
   "outputs": [
    {
     "data": {
      "text/plain": [
       "{4, 5}"
      ]
     },
     "execution_count": 28,
     "metadata": {},
     "output_type": "execute_result"
    }
   ],
   "source": [
    "a.intersection(b)"
   ]
  },
  {
   "cell_type": "markdown",
   "id": "722159c1",
   "metadata": {},
   "source": [
    "Set difference"
   ]
  },
  {
   "cell_type": "code",
   "execution_count": 29,
   "id": "3b5bc8b6",
   "metadata": {},
   "outputs": [
    {
     "name": "stdout",
     "output_type": "stream",
     "text": [
      "{1, 2, 3}\n"
     ]
    }
   ],
   "source": [
    "print(a-b)"
   ]
  },
  {
   "cell_type": "code",
   "execution_count": 30,
   "id": "ed183bb7",
   "metadata": {},
   "outputs": [
    {
     "name": "stdout",
     "output_type": "stream",
     "text": [
      "{8, 6, 7}\n"
     ]
    }
   ],
   "source": [
    "print(b-a)"
   ]
  },
  {
   "cell_type": "code",
   "execution_count": 31,
   "id": "4b80b766",
   "metadata": {},
   "outputs": [
    {
     "data": {
      "text/plain": [
       "{1, 2, 3}"
      ]
     },
     "execution_count": 31,
     "metadata": {},
     "output_type": "execute_result"
    }
   ],
   "source": [
    "a.difference(b)"
   ]
  },
  {
   "cell_type": "markdown",
   "id": "662084a1",
   "metadata": {},
   "source": [
    "Set symmetric difference"
   ]
  },
  {
   "cell_type": "code",
   "execution_count": 32,
   "id": "a05976c7",
   "metadata": {},
   "outputs": [
    {
     "name": "stdout",
     "output_type": "stream",
     "text": [
      "{1, 2, 3, 6, 7, 8}\n"
     ]
    }
   ],
   "source": [
    "print(a ^ b)"
   ]
  },
  {
   "cell_type": "code",
   "execution_count": 33,
   "id": "6ba8e540",
   "metadata": {},
   "outputs": [
    {
     "data": {
      "text/plain": [
       "{1, 2, 3, 6, 7, 8}"
      ]
     },
     "execution_count": 33,
     "metadata": {},
     "output_type": "execute_result"
    }
   ],
   "source": [
    "a.symmetric_difference(b)"
   ]
  },
  {
   "cell_type": "code",
   "execution_count": 38,
   "id": "9edc16de",
   "metadata": {},
   "outputs": [
    {
     "data": {
      "text/plain": [
       "{1, 2, 3, 4, 5}"
      ]
     },
     "execution_count": 38,
     "metadata": {},
     "output_type": "execute_result"
    }
   ],
   "source": [
    "b=a.copy()\n",
    "b"
   ]
  },
  {
   "cell_type": "code",
   "execution_count": 36,
   "id": "aacfc537",
   "metadata": {},
   "outputs": [
    {
     "data": {
      "text/plain": [
       "{1, 2, 3, 4, 5}"
      ]
     },
     "execution_count": 36,
     "metadata": {},
     "output_type": "execute_result"
    }
   ],
   "source": [
    "Set8={1,2,3,4,5}\n",
    "Set9=Set8.copy()\n",
    "Set9"
   ]
  },
  {
   "cell_type": "code",
   "execution_count": 25,
   "id": "3b498150",
   "metadata": {},
   "outputs": [
    {
     "name": "stdout",
     "output_type": "stream",
     "text": [
      "The frozenset is frozenset({'e', 'a', 'i', 'o', 'u'})\n",
      "The empty frozenset is ()\n"
     ]
    }
   ],
   "source": [
    "vowels={'a','e','i','o','u'}\n",
    "Set10=frozenset (vowels)        # frozenset is a function which converts mutable to emutable.\n",
    "print('The frozenset is',Set10)\n",
    "print ('The empty frozenset is',())\n"
   ]
  },
  {
   "cell_type": "code",
   "execution_count": 22,
   "id": "a9c7c587",
   "metadata": {},
   "outputs": [
    {
     "ename": "AttributeError",
     "evalue": "'frozenset' object has no attribute 'add'",
     "output_type": "error",
     "traceback": [
      "\u001b[1;31m---------------------------------------------------------------------------\u001b[0m",
      "\u001b[1;31mAttributeError\u001b[0m                            Traceback (most recent call last)",
      "\u001b[1;32m<ipython-input-22-d31bb5334f5a>\u001b[0m in \u001b[0;36m<module>\u001b[1;34m\u001b[0m\n\u001b[1;32m----> 1\u001b[1;33m \u001b[0mSet10\u001b[0m\u001b[1;33m.\u001b[0m\u001b[0madd\u001b[0m\u001b[1;33m(\u001b[0m\u001b[1;34m'a'\u001b[0m\u001b[1;33m)\u001b[0m\u001b[1;33m\u001b[0m\u001b[1;33m\u001b[0m\u001b[0m\n\u001b[0m",
      "\u001b[1;31mAttributeError\u001b[0m: 'frozenset' object has no attribute 'add'"
     ]
    }
   ],
   "source": [
    "Set10.add('a')"
   ]
  },
  {
   "cell_type": "code",
   "execution_count": null,
   "id": "49414625",
   "metadata": {},
   "outputs": [],
   "source": []
  }
 ],
 "metadata": {
  "kernelspec": {
   "display_name": "Python 3",
   "language": "python",
   "name": "python3"
  },
  "language_info": {
   "codemirror_mode": {
    "name": "ipython",
    "version": 3
   },
   "file_extension": ".py",
   "mimetype": "text/x-python",
   "name": "python",
   "nbconvert_exporter": "python",
   "pygments_lexer": "ipython3",
   "version": "3.8.8"
  }
 },
 "nbformat": 4,
 "nbformat_minor": 5
}
