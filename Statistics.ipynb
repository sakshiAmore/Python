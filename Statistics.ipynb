{
 "cells": [
  {
   "cell_type": "markdown",
   "id": "4576d5a8",
   "metadata": {},
   "source": [
    "# Statistics in AI"
   ]
  },
  {
   "cell_type": "markdown",
   "id": "84acdf89",
   "metadata": {},
   "source": [
    "Statistics learning is a set of tool for understanding a data . This tools broasdly come under 2 class\n",
    "\n",
    "1. Superwise learning\n",
    "2. UnSuperwise learning\n",
    "\n",
    "Generally superwise learning for predicting or estimating the output base on one or more inputs\n",
    "unsperwise learning provides a relationship or finds a patter within a given data without superwise output"
   ]
  },
  {
   "cell_type": "markdown",
   "id": "a2e659cc",
   "metadata": {},
   "source": [
    " Superwise learning:\n",
    "\n",
    "-Input data is label. \n",
    "-has feed back mechanism \n",
    "-is divided into reguration and classification algorithm \n",
    "-use for prediction \n",
    "-includes decision trees , logistic regration, and support vector machine"
   ]
  },
  {
   "cell_type": "markdown",
   "id": "7e921ece",
   "metadata": {},
   "source": [
    "UnSuperwise learning\n",
    "\n",
    "-Input data is unlabel \n",
    "-donot have feed back mechanism \n",
    "-divided into cluster and assosiation\n",
    "-use for analysing -k means clusturing, hierarchy clusturing ,appropre algorithm"
   ]
  }
 ],
 "metadata": {
  "kernelspec": {
   "display_name": "Python 3",
   "language": "python",
   "name": "python3"
  },
  "language_info": {
   "codemirror_mode": {
    "name": "ipython",
    "version": 3
   },
   "file_extension": ".py",
   "mimetype": "text/x-python",
   "name": "python",
   "nbconvert_exporter": "python",
   "pygments_lexer": "ipython3",
   "version": "3.8.8"
  }
 },
 "nbformat": 4,
 "nbformat_minor": 5
}
