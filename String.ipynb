{
 "cells": [
  {
   "cell_type": "markdown",
   "id": "8a822248",
   "metadata": {},
   "source": [
    "# String"
   ]
  },
  {
   "cell_type": "markdown",
   "id": "badf6497",
   "metadata": {},
   "source": [
    " String is a collection of characterisation"
   ]
  },
  {
   "cell_type": "code",
   "execution_count": 7,
   "id": "dc5e89e5",
   "metadata": {},
   "outputs": [
    {
     "data": {
      "text/plain": [
       "'SamMore'"
      ]
     },
     "execution_count": 7,
     "metadata": {},
     "output_type": "execute_result"
    }
   ],
   "source": [
    "# Concatination\n",
    "a='Sam'\n",
    "b='More'\n",
    "c=a+b\n",
    "c\n"
   ]
  },
  {
   "cell_type": "code",
   "execution_count": 4,
   "id": "2421864b",
   "metadata": {},
   "outputs": [
    {
     "data": {
      "text/plain": [
       "'sakshiMore'"
      ]
     },
     "execution_count": 4,
     "metadata": {},
     "output_type": "execute_result"
    }
   ],
   "source": [
    "d='sakshi'\n",
    "c=d+b\n",
    "c"
   ]
  },
  {
   "cell_type": "code",
   "execution_count": 9,
   "id": "4771feab",
   "metadata": {},
   "outputs": [
    {
     "name": "stdout",
     "output_type": "stream",
     "text": [
      "SakshiMore\n"
     ]
    }
   ],
   "source": [
    "print('Sakshi'+ str(b))  "
   ]
  },
  {
   "cell_type": "code",
   "execution_count": 1,
   "id": "af000614",
   "metadata": {},
   "outputs": [
    {
     "name": "stdout",
     "output_type": "stream",
     "text": [
      "Gamers: Sam loves to play video game\n"
     ]
    }
   ],
   "source": [
    "# Accessing string characters in Python\n",
    "Name = 'Sam loves to play video game'\n",
    "#name1 ='I am sakshi'\n",
    "print('Gamers:',Name)\n",
    "#print('Gamers:',name1)"
   ]
  },
  {
   "cell_type": "code",
   "execution_count": 2,
   "id": "965cddd7",
   "metadata": {},
   "outputs": [
    {
     "name": "stdout",
     "output_type": "stream",
     "text": [
      "love t\n"
     ]
    }
   ],
   "source": [
    "#first chaacter\n",
    "print('love',Name[10])"
   ]
  },
  {
   "cell_type": "code",
   "execution_count": 7,
   "id": "1068564b",
   "metadata": {},
   "outputs": [
    {
     "name": "stdout",
     "output_type": "stream",
     "text": [
      "Love e\n"
     ]
    }
   ],
   "source": [
    "#last character\n",
    "print('Love',Name[-1])"
   ]
  },
  {
   "cell_type": "code",
   "execution_count": 17,
   "id": "9f564b9e",
   "metadata": {},
   "outputs": [
    {
     "name": "stdout",
     "output_type": "stream",
     "text": [
      "love video game\n"
     ]
    }
   ],
   "source": [
    "#slicing \n",
    "print('love',Name[18:28])"
   ]
  },
  {
   "cell_type": "code",
   "execution_count": 21,
   "id": "5b740bba",
   "metadata": {},
   "outputs": [
    {
     "data": {
      "text/plain": [
       "['My', 'name', 'is', 'Sam', 'And', 'I', 'love', 'Python']"
      ]
     },
     "execution_count": 21,
     "metadata": {},
     "output_type": "execute_result"
    }
   ],
   "source": [
    "#Printing a string in next line\n",
    "str = '      My name is Sam And I love Python'\n",
    "str.split()"
   ]
  },
  {
   "cell_type": "code",
   "execution_count": 13,
   "id": "8acb237b",
   "metadata": {},
   "outputs": [
    {
     "name": "stdout",
     "output_type": "stream",
     "text": [
      "My name is Sam\n",
      "And I love Python\n"
     ]
    }
   ],
   "source": [
    "print('My name is Sam\\nAnd I love Python')"
   ]
  },
  {
   "cell_type": "code",
   "execution_count": 14,
   "id": "01b48b7b",
   "metadata": {},
   "outputs": [
    {
     "name": "stdout",
     "output_type": "stream",
     "text": [
      "MY NAME IS SAM AND I LOVE PYTHON\n"
     ]
    }
   ],
   "source": [
    "print(str.upper())"
   ]
  },
  {
   "cell_type": "code",
   "execution_count": 23,
   "id": "65c6b891",
   "metadata": {},
   "outputs": [
    {
     "name": "stdout",
     "output_type": "stream",
     "text": [
      "     my name is sam and i love python\n"
     ]
    }
   ],
   "source": [
    "print(str.lower())"
   ]
  },
  {
   "cell_type": "code",
   "execution_count": 5,
   "id": "8445b762",
   "metadata": {},
   "outputs": [
    {
     "name": "stdout",
     "output_type": "stream",
     "text": [
      "7\n"
     ]
    }
   ],
   "source": [
    "print(str.find('y'))"
   ]
  },
  {
   "cell_type": "code",
   "execution_count": 22,
   "id": "aef5e40f",
   "metadata": {},
   "outputs": [
    {
     "data": {
      "text/plain": [
       "7"
      ]
     },
     "execution_count": 22,
     "metadata": {},
     "output_type": "execute_result"
    }
   ],
   "source": [
    "index=str.index('y')\n",
    "index"
   ]
  },
  {
   "cell_type": "code",
   "execution_count": 7,
   "id": "b2604798",
   "metadata": {},
   "outputs": [
    {
     "name": "stdout",
     "output_type": "stream",
     "text": [
      "My name is Sam And I love Python\n"
     ]
    }
   ],
   "source": [
    "print(str.strip())"
   ]
  },
  {
   "cell_type": "code",
   "execution_count": 6,
   "id": "e74b5da5",
   "metadata": {},
   "outputs": [
    {
     "name": "stdout",
     "output_type": "stream",
     "text": [
      "      Mi name is Sam And I love Pithon\n"
     ]
    }
   ],
   "source": [
    "print(str.replace('y','i'))"
   ]
  },
  {
   "cell_type": "code",
   "execution_count": 10,
   "id": "91f978da",
   "metadata": {},
   "outputs": [
    {
     "name": "stdout",
     "output_type": "stream",
     "text": [
      "True\n"
     ]
    }
   ],
   "source": [
    "print('Python' in str)       #bool ean value"
   ]
  },
  {
   "cell_type": "code",
   "execution_count": 30,
   "id": "b9213683",
   "metadata": {},
   "outputs": [
    {
     "name": "stdout",
     "output_type": "stream",
     "text": [
      "Sam loves to play COD\n"
     ]
    }
   ],
   "source": [
    "Game='COD'\n",
    "txt=\"Sam loves to play\"+' '+ Game\n",
    "print(txt)"
   ]
  },
  {
   "cell_type": "code",
   "execution_count": 33,
   "id": "ab834366",
   "metadata": {},
   "outputs": [
    {
     "name": "stdout",
     "output_type": "stream",
     "text": [
      "My name is Sakshi ,I am 17\n"
     ]
    }
   ],
   "source": [
    "#Formate function\n",
    "\n",
    "age = '17'\n",
    "txt = 'My name is Sakshi ,I am {}'\n",
    "print(txt.format(age))"
   ]
  },
  {
   "cell_type": "code",
   "execution_count": 1,
   "id": "39f91632",
   "metadata": {},
   "outputs": [
    {
     "name": "stdout",
     "output_type": "stream",
     "text": [
      "My name is Sakshi, I am 17 years old. My gaming name is Sammore2903. And I love to play COD\n"
     ]
    }
   ],
   "source": [
    "age = '17'\n",
    "gamingname = 'Sammore2903'\n",
    "Game = 'COD'\n",
    "txt='My name is Sakshi, I am {} years old. My gaming name is {}. And I love to play {}'\n",
    "print(txt.format(age,gamingname,Game))"
   ]
  },
  {
   "cell_type": "code",
   "execution_count": 9,
   "id": "0ee21e87",
   "metadata": {},
   "outputs": [
    {
     "data": {
      "text/plain": [
       "{'price': 2500, 'num_items': 4, 'person': 'Sam'}"
      ]
     },
     "execution_count": 9,
     "metadata": {},
     "output_type": "execute_result"
    }
   ],
   "source": [
    "sales_record = {\n",
    "'price':2500,\n",
    "'num_items': 4,\n",
    "'person': 'Sam'\n",
    "}\n",
    "sales_record"
   ]
  },
  {
   "cell_type": "code",
   "execution_count": 43,
   "id": "f706b1d8",
   "metadata": {},
   "outputs": [
    {
     "data": {
      "text/plain": [
       "dict"
      ]
     },
     "execution_count": 43,
     "metadata": {},
     "output_type": "execute_result"
    }
   ],
   "source": [
    "type(sales_record)"
   ]
  },
  {
   "cell_type": "code",
   "execution_count": 11,
   "id": "ded70911",
   "metadata": {},
   "outputs": [
    {
     "name": "stdout",
     "output_type": "stream",
     "text": [
      "Sam brought 4 items at a price of 2500 each for a total of 10000\n"
     ]
    }
   ],
   "source": [
    "sales_statement = '{} brought {} items at a price of {} each for a total of {}'\n",
    "\n",
    "print(sales_statement.format(sales_record['person'],\n",
    "                             sales_record['num_items'],\n",
    "                             sales_record['price'],\n",
    "                             sales_record['num_items']*sales_record['price']))"
   ]
  },
  {
   "cell_type": "code",
   "execution_count": 2,
   "id": "268acb64",
   "metadata": {},
   "outputs": [
    {
     "data": {
      "text/plain": [
       "'SamSam'"
      ]
     },
     "execution_count": 2,
     "metadata": {},
     "output_type": "execute_result"
    }
   ],
   "source": [
    "str = 'Sam'    #Prints string two times\n",
    "str * 2"
   ]
  },
  {
   "cell_type": "code",
   "execution_count": null,
   "id": "849c76ce",
   "metadata": {},
   "outputs": [],
   "source": []
  }
 ],
 "metadata": {
  "kernelspec": {
   "display_name": "Python 3",
   "language": "python",
   "name": "python3"
  },
  "language_info": {
   "codemirror_mode": {
    "name": "ipython",
    "version": 3
   },
   "file_extension": ".py",
   "mimetype": "text/x-python",
   "name": "python",
   "nbconvert_exporter": "python",
   "pygments_lexer": "ipython3",
   "version": "3.8.8"
  }
 },
 "nbformat": 4,
 "nbformat_minor": 5
}
